{
 "cells": [
  {
   "cell_type": "markdown",
   "metadata": {},
   "source": [
    "Minimal shocks retirement model\n",
    "===========================\n",
    "\n",
    "This notebook presents the step by step solution for a backward induction problem with a discrete and continuout choice variable for one period based on model_retirement.m\n",
    "\n",
    "The comparison file for verification of the correct output of each step is retirement_minimal_shocks.m"
   ]
  },
  {
   "cell_type": "code",
   "execution_count": 1,
   "metadata": {},
   "outputs": [],
   "source": [
    "import numpy as np\n",
    "import math\n",
    "import scipy.stats as scps\n",
    "import matplotlib.pyplot as plt\n",
    "import pickle"
   ]
  },
  {
   "cell_type": "code",
   "execution_count": 2,
   "metadata": {},
   "outputs": [],
   "source": [
    "import numpy as np\n",
    "from collections import namedtuple\n",
    "from scipy.interpolate import InterpolatedUnivariateSpline\n",
    "from scipy.stats import norm\n",
    "from copy import *\n",
    "from numpy.matlib import * \n",
    "from scipy.optimize import *"
   ]
  },
  {
   "cell_type": "code",
   "execution_count": 3,
   "metadata": {},
   "outputs": [],
   "source": [
    "# There potentially is a pythonic solution that would make this function obsolete\n",
    "def quadrature(n, lbnd, ubnd):\n",
    "    \n",
    "    x1 = lbnd\n",
    "    x2 = ubnd\n",
    "    x = np.zeros(n)\n",
    "    w = x\n",
    "    EPS = 3e-14\n",
    "    m = int(round((n+EPS)/2)) # flor function in matlab, rounding to the lower integer\n",
    "    xm = (x2+x1)/2\n",
    "    xl = (x2-x1)/2\n",
    "    z1 = 1e99\n",
    "\n",
    "    x = np.full(n+1, np.nan)\n",
    "    w = np.full(n+1, np.nan)\n",
    "\n",
    "    i = 1\n",
    "\n",
    "    while i <= m:\n",
    "\n",
    "        z = math.cos(math.pi*(i - 0.25)/(n + 0.5))\n",
    "\n",
    "        while abs(z - z1) > EPS:\n",
    "            p1 = 1\n",
    "            p2 = 0\n",
    "            j = 1\n",
    "\n",
    "            while j <= n:\n",
    "                p3 = p2\n",
    "                p2 = p1\n",
    "                p1 = ((2*j -1)*z*p2 - (j-1)*p3)/j\n",
    "                j += 1\n",
    "\n",
    "            pp = n*(z*p1 - p2)/(z*z - 1)\n",
    "            z1 = z\n",
    "            z = z1 - p1/pp\n",
    "\n",
    "        x[i] = xm - xl*z\n",
    "        x[n + 1 - i] = xm + xl*z\n",
    "        w[i] = 2*xl/((1-z*z)*pp*pp)\n",
    "        w[n + 1 - i] = w[i]\n",
    "        i += 1\n",
    "\n",
    "    x = x[1:]\n",
    "    w = w[1:]\n",
    "\n",
    "    return x, w"
   ]
  },
  {
   "cell_type": "code",
   "execution_count": 4,
   "metadata": {},
   "outputs": [],
   "source": [
    "# Model parameters (default)\n",
    "\n",
    "Tbar = 25 # number of periods (fist period is t=1) \n",
    "ngridm = 500 # number of grid points over assets\n",
    "mmax = 50 # maximum level of assets\n",
    "expn = 5 # number of quadrature points used in calculation of expectations\n",
    "nsims = 10 # number of simulations\n",
    "init = [10, 30] # interval of the initial wealth\n",
    "r = 0.05 # interest rate\n",
    "df = 0.95 # discount factor\n",
    "sigma = 0.25 # sigma parameter in income shocks\n",
    "duw = 0.35 #disutility of work\n",
    "theta = 1.95 # CRRA coefficient (log utility if ==1)\n",
    "inc0 = 0.75 # income equation: constant\n",
    "inc1 = 0.04 # income equation: age coef\n",
    "inc2 = 0.0002 # income equation: age^2 coef\n",
    "cfloor =0.001 # consumption floor (safety net in retirement)\n",
    "lambda_ = 0.02 # scale of the EV taste shocks "
   ]
  },
  {
   "cell_type": "code",
   "execution_count": 5,
   "metadata": {},
   "outputs": [],
   "source": [
    "# Functions: utility and budget constraint\n",
    "\n",
    "def util(consumption, working):\n",
    "    \"\"\"CRRA utility\"\"\"\n",
    "    \n",
    "    u = (consumption**(1-theta)-1)/(1-theta)\n",
    "    u = u - duw*(working)\n",
    "    \n",
    "    return u\n",
    "\n",
    "def mutil(consumption):\n",
    "    \"\"\"Marginal utility CRRA\"\"\"\n",
    "    \n",
    "    mu = consumption**(-theta)\n",
    "    \n",
    "    return mu\n",
    "\n",
    "def imutil(mutil):\n",
    "    \"\"\"Inverse marginal utility CRRA\n",
    "    Consumption as a function of marginal utility\"\"\"\n",
    "    \n",
    "    cons = mutil**(-1/theta)\n",
    "    \n",
    "    return cons\n",
    "\n",
    "\n",
    "def income(it, shock):\n",
    "    \"\"\"Income in period it given normal shock\"\"\"\n",
    "    \n",
    "    age = it + 20 # matlab strats counting at 1, Python at zero\n",
    "    w = np.exp(inc0 + inc1*age - inc2*age**2 + shock)\n",
    "    \n",
    "    return w\n",
    "\n",
    "\n",
    "def budget(it, savings, shocks, working):\n",
    "    \"\"\"Wealth, M_{t+1} in period t+1, where it == t\n",
    "    \n",
    "    Arguments\n",
    "    ---------\n",
    "        savings: np.array of savings with length ngridm\n",
    "        shocks: np.array of shocks with length expn\n",
    "    \n",
    "    Returns\n",
    "    -------\n",
    "        w1: matrix with dimension (expn, ngridm) of all possible\n",
    "    next period wealths\n",
    "    \"\"\"\n",
    "    \n",
    "    w1 = np.full((ngridm, expn), income(it + 1, shocks)*working).T + np.full((expn, ngridm), savings*(1+r))\n",
    "    \n",
    "    return w1\n",
    "\n",
    "def mbudget():\n",
    "    \"\"\"Marginal budget:\n",
    "    Derivative of budget with respect to savings\"\"\"\n",
    "    \n",
    "    mw1 = np.full((expn, ngridm), (1+r))\n",
    "    \n",
    "    return mw1"
   ]
  },
  {
   "cell_type": "code",
   "execution_count": 6,
   "metadata": {},
   "outputs": [],
   "source": [
    "# Value function for worker\n",
    "# interpolate and extrapolate are potentially substitutable by the interpolate function below\n",
    "\n",
    "def value_function(working, it, x):\n",
    "    \"\"\"Value function calculation for the \"\"\"\n",
    "    \n",
    "    x = x.flatten('F')\n",
    "    \n",
    "    res = np.full(x.shape, np.nan)\n",
    "    \n",
    "    # Mark constrained region\n",
    "    mask = x < value[1, 0, working, it] # credit constraint between 1st (M_{t+1) = 0) and second point (A_{t+1} = 0)\n",
    "    \n",
    "    # Calculate t+1 value function in the constrained region\n",
    "    res[mask] = util(x[mask], working) + df*value[0, 1, working, it]\n",
    "    \n",
    "    # Calculate t+1 value function in non-constrained region\n",
    "    # interpolate\n",
    "    res[~mask] = np.interp(x[~mask], value[:, 0, working, it], value[:, 1, working, it])\n",
    "    # extrapolate\n",
    "    slope = (value[-2, 1, working, it] - value[-1, 1, working, it])/(value[-2, 0, working, it] - value[-1, 0, working, it])\n",
    "    intercept = value[-1, 1, working, it] - value[-1, 0, working, it]*slope\n",
    "    res[res == np.max(value[:, 1, working, it])] = intercept + slope*x[res == np.max(value[:, 1, working, it])]\n",
    "\n",
    "    return res"
   ]
  },
  {
   "cell_type": "code",
   "execution_count": 7,
   "metadata": {},
   "outputs": [],
   "source": [
    "# Calculation of probability to choose work, if a worker today\n",
    "def chpr(x):\n",
    "    \"\"\"Calculate the probability of choosing work in t+1\n",
    "    for state worker given t+1 value functions\"\"\"\n",
    "    \n",
    "    mx = np.amax(x, axis = 0)\n",
    "    mxx = x - mx\n",
    "    res = np.exp(mxx[1, :]/lambda_)/np.sum(np.exp(mxx/lambda_), axis = 0)\n",
    "    \n",
    "    return res"
   ]
  },
  {
   "cell_type": "code",
   "execution_count": 8,
   "metadata": {},
   "outputs": [],
   "source": [
    "# Expected value function calculation in state worker\n",
    "def logsum(x):\n",
    "    \"\"\"Calculate expected value function\"\"\"\n",
    "    \n",
    "    mx = np.amax(x, axis = 0)\n",
    "    mxx = x - mx\n",
    "    res = mx + lambda_*np.log(np.sum(np.exp(mxx/lambda_), axis = 0))\n",
    "    \n",
    "    return res"
   ]
  },
  {
   "cell_type": "markdown",
   "metadata": {},
   "source": [
    "m0 parametrisation - minimal shocks\n",
    "--------------------------------------------"
   ]
  },
  {
   "cell_type": "code",
   "execution_count": 9,
   "metadata": {},
   "outputs": [],
   "source": [
    "# Minimal shocks\n",
    "sigma = 0\n",
    "lambda_ = 2.2204e-16"
   ]
  },
  {
   "cell_type": "code",
   "execution_count": 10,
   "metadata": {},
   "outputs": [],
   "source": [
    "# Initialize grids\n",
    "quadp, quadw = quadrature(expn,0,1)\n",
    "quadstnorm = scps.norm.ppf(quadp)\n",
    "savingsgrid = np.linspace(0, mmax, ngridm)"
   ]
  },
  {
   "cell_type": "code",
   "execution_count": 11,
   "metadata": {},
   "outputs": [],
   "source": [
    "# Initialize containers\n",
    "\n",
    "# Container for endogenous gridpoints of (beginning-of-period) assets\n",
    "# and corresponding consumption\n",
    "policy = np.full((ngridm + 1, 2, 2, Tbar), np.nan)\n",
    "\n",
    "# Value functions\n",
    "value = np.full((ngridm + 1, 2, 2, Tbar), np.nan)"
   ]
  },
  {
   "cell_type": "code",
   "execution_count": 12,
   "metadata": {},
   "outputs": [],
   "source": [
    "# Handling of last period and first elements\n",
    "# policy\n",
    "policy[1:, 0, 0, Tbar-1] = savingsgrid\n",
    "policy[1:, 0, 1, Tbar-1] = savingsgrid\n",
    "policy[1:, 1, :, Tbar-1] = policy[1:, 0, :, Tbar-1]\n",
    "policy[0, :, :, :] = 0.00"
   ]
  },
  {
   "cell_type": "code",
   "execution_count": 13,
   "metadata": {},
   "outputs": [],
   "source": [
    "# value\n",
    "value[2:, 0, :, Tbar-1] = util(policy[2:, 0, :, Tbar-1], 0)\n",
    "value[2:, 1, :, Tbar-1] = util(policy[2:, 0, :, Tbar-1], 1)\n",
    "value[0:2, :, :, Tbar -1] = 0.00\n",
    "value[0, 0, :, :] = 0.00"
   ]
  },
  {
   "cell_type": "code",
   "execution_count": 14,
   "metadata": {},
   "outputs": [],
   "source": [
    "# Solve workers problem with EGM for period T-1, T-2 and T-3\n",
    "# The EGM step already yields the same result as the matlab code for T-1 and T-2\n",
    "# Difference in result for T-3 => DC step has to be performed after the EGM step\n",
    "for period in [23, 22, 21]:\n",
    "    \n",
    "    for choice in[0, 1]:\n",
    "\n",
    "        # M_{t+1}\n",
    "        wk1 = budget(period, savingsgrid, quadstnorm*sigma, choice)\n",
    "        wk1[wk1 < cfloor] = cfloor\n",
    "\n",
    "        # Value function\n",
    "        vl1 = np.full((2, ngridm * expn), np.nan)\n",
    "\n",
    "        if period + 1 == Tbar - 1:\n",
    "            vl1[0, :] = util(wk1, 0).flatten('F')\n",
    "            vl1[1, :] = util(wk1, 1).flatten('F')\n",
    "        else:\n",
    "            vl1[1, :] = value_function(1, period + 1, wk1) # value function in t+1 if choice in t+1 is work\n",
    "            vl1[0, :] = value_function(0, period + 1, wk1) # value function in t+1 if choice in t+1 is retiree\n",
    "\n",
    "        # Probability of choosing work in t+1\n",
    "        if choice == 0:\n",
    "            # Probability of choosing work in t+1\n",
    "            pr1 = np.full(2500, 0.00)\n",
    "        else:\n",
    "            pr1 = chpr(vl1)\n",
    "\n",
    "        # Next period consumption based on interpolation and extrapolation\n",
    "        # given grid points and associated consumption\n",
    "        cons10 = np.interp(wk1, policy[:, 0, 0, period + 1], policy[:, 1, 0, period+1])\n",
    "        # extrapolate linearly right of max grid point\n",
    "        slope = (policy[-2, 1, 0, period + 1] - policy[-1, 1, 0, period + 1])/(policy[-2, 0, 0, period + 1] - policy[-1, 0, 0, period + 1])\n",
    "        intercept = policy[-1, 1, 0, period + 1] - policy[-1, 0, 0, period + 1]*slope\n",
    "        cons10[cons10 == np.max(policy[:, 1, 0, period+1])] = intercept + slope*wk1[cons10 == np.max(policy[:, 1, 0, period+1])]\n",
    "        cons10_flat = cons10.flatten('F')\n",
    "\n",
    "        cons11 = np.interp(wk1, policy[:, 0, 1, period + 1], policy[:, 1, 1, period+1])\n",
    "        # extrapolate linearly right of max grid point\n",
    "        slope = (policy[-2, 1, 1, period + 1] - policy[-1, 1, 1, period + 1])/(policy[-2, 0, 1, period + 1] - policy[-1, 0, 1, period + 1])\n",
    "        intercept = policy[-1, 1, 1, period + 1] - policy[-1, 0, 1, period + 1]*slope\n",
    "        cons11[cons11 == np.max(policy[:, 1, 1, period+1])] = intercept + slope*wk1[cons11 == np.max(policy[:, 1, 1, period+1])]\n",
    "        cons11_flat = cons11.flatten('F')\n",
    "\n",
    "        # Marginal utility of expected consumption next period\n",
    "        mu1 = pr1*mutil(cons11_flat) + (1 - pr1)*mutil(cons10_flat)\n",
    "\n",
    "        # Marginal budget\n",
    "        # Note: Constant for this model formulation (1+r)\n",
    "        mwk1 = mbudget()\n",
    "\n",
    "        # RHS of Euler eq., p 337, integrate out error of y\n",
    "        rhs = np.dot(quadw.T, np.multiply(mu1.reshape(wk1.shape, order = 'F'), mwk1))\n",
    "\n",
    "        # Current period consumption from Euler equation\n",
    "        cons0 = imutil(df*rhs)\n",
    "\n",
    "        # Update containers related to consumption\n",
    "        policy[1:, 1, choice, period] = cons0\n",
    "        policy[1:, 0, choice, period] = savingsgrid + cons0\n",
    "\n",
    "\n",
    "        if choice == 1:\n",
    "            # Calculate continuation value\n",
    "            ev = np.dot(quadw.T, logsum(vl1).reshape(wk1.shape, order = 'F'))\n",
    "        else:\n",
    "            ev = np.dot(quadw.T, vl1[0, :].reshape(wk1.shape, order = 'F'))\n",
    "\n",
    "        # Update value function related containers\n",
    "        value[1:, 1, choice, period] = util(cons0, choice) + df*ev\n",
    "        value[1:, 0, choice, period] = savingsgrid + cons0\n",
    "        value[0, 1, choice, period] = ev[0]"
   ]
  },
  {
   "cell_type": "code",
   "execution_count": 15,
   "metadata": {},
   "outputs": [],
   "source": [
    "with open('m0_value.pkl', 'rb') as file : \n",
    "    m0_value = pickle.load(file)\n",
    "\n",
    "with open('m0_policy.pkl', 'rb') as file : \n",
    "    m0_policy = pickle.load(file)"
   ]
  },
  {
   "cell_type": "code",
   "execution_count": 16,
   "metadata": {},
   "outputs": [],
   "source": [
    "# Verify that EGM already yields correct solution for t-1 and t-2 in value\n",
    "np.testing.assert_almost_equal(m0_value[0:501, 0, 0, 22], value[:, 1, 1, 22])"
   ]
  },
  {
   "cell_type": "code",
   "execution_count": 17,
   "metadata": {},
   "outputs": [],
   "source": [
    "np.testing.assert_almost_equal(m0_value[0:501, 0, 1, 22], value[:, 1, 0, 22])"
   ]
  },
  {
   "cell_type": "code",
   "execution_count": 18,
   "metadata": {},
   "outputs": [],
   "source": [
    "# Verify that EGM already yields correct solution for t-1 and t-2 in policy\n",
    "np.testing.assert_almost_equal(m0_policy[0:501, 0, 0, 22], policy[:, 1, 1, 22])"
   ]
  },
  {
   "cell_type": "code",
   "execution_count": 19,
   "metadata": {},
   "outputs": [],
   "source": [
    "np.testing.assert_almost_equal(m0_policy[0:501, 0, 1, 22], policy[:, 1, 0, 22])"
   ]
  },
  {
   "cell_type": "code",
   "execution_count": 20,
   "metadata": {},
   "outputs": [
    {
     "data": {
      "text/plain": [
       "array([2.05931703, 2.45149424, 2.45635048, 2.461171  , 2.46588366,\n",
       "       2.47055756, 2.47519777, 2.47973316, 2.4842344 , 2.48869924,\n",
       "       2.49307278, 2.49741036, 2.50170953, 2.50593035, 2.51011269,\n",
       "       2.5142557 , 2.51833174, 2.52236666, 2.52636232, 2.53030097,\n",
       "       2.53419579, 2.53805225, 2.54186039, 2.54562197, 2.54934679,\n",
       "       2.55303086, 2.55666561, 2.44271185, 2.45301246, 2.46308283,\n",
       "       2.47297534, 2.4827064 , 2.49223383, 2.50159731, 2.51080362,\n",
       "       2.51983117, 2.5287087 , 2.53743052, 2.5459949 , 2.55442686,\n",
       "       2.56270043, 2.57083315, 2.57885725, 2.58671531, 2.59444954,\n",
       "       2.60209492, 2.60956709, 2.61693268, 2.62422575, 2.63133893,\n",
       "       2.63836114, 2.6453203 , 2.65210264, 2.65880848, 2.66545529,\n",
       "       2.67193087, 2.67834133, 2.68469649, 2.6908866 , 2.69702015,\n",
       "       2.70309779, 2.70902657, 2.71490019, 2.72071481, 2.7264027 ,\n",
       "       2.73203201, 2.73760106, 2.74306257, 2.74846197, 2.75380139,\n",
       "       2.75904988, 2.76423268, 2.76935705, 2.77440485, 2.77938333,\n",
       "       2.78430602, 2.78916452, 2.79395007, 2.79868337, 2.8033631 ,\n",
       "       2.80796629, 2.81252148, 2.81702892, 2.82146286, 2.82585035,\n",
       "       2.8301936 , 2.83446838, 2.83869778, 2.84288528, 2.84700937,\n",
       "       2.85108957, 2.85512919, 2.85911049, 2.86304971, 2.86694881,\n",
       "       2.87079466, 2.87460052, 2.87836599, 2.88208323, 2.88576282])"
      ]
     },
     "execution_count": 20,
     "metadata": {},
     "output_type": "execute_result"
    }
   ],
   "source": [
    "# Difference in t-3\n",
    "value[0:100, 1, 1, 21]"
   ]
  },
  {
   "cell_type": "code",
   "execution_count": 21,
   "metadata": {},
   "outputs": [
    {
     "data": {
      "text/plain": [
       "array([2.05931703, 2.45149424, 2.45635048, 2.461171  , 2.46588366,\n",
       "       2.47055756, 2.47519777, 2.47973316, 2.4842344 , 2.48869924,\n",
       "       2.49307278, 2.49741036, 2.50170953, 2.50593035, 2.51011269,\n",
       "       2.51034068, 2.51080362, 2.51983117, 2.5287087 , 2.53743052,\n",
       "       2.5459949 , 2.55442686, 2.56270043, 2.57083315, 2.57885725,\n",
       "       2.58671531, 2.59444954, 2.60209492, 2.60956709, 2.61693268,\n",
       "       2.62422575, 2.63133893, 2.63836114, 2.6453203 , 2.65210264,\n",
       "       2.65880848, 2.66545529, 2.67193087, 2.67834133, 2.68469649,\n",
       "       2.6908866 , 2.69702015, 2.70309779, 2.70902657, 2.71490019,\n",
       "       2.72071481, 2.7264027 , 2.73203201, 2.73760106, 2.74306257,\n",
       "       2.74846197, 2.75380139, 2.75904988, 2.76423268, 2.76935705,\n",
       "       2.77440485, 2.77938333, 2.78430602, 2.78916452, 2.79395007,\n",
       "       2.79868337, 2.8033631 , 2.80796629, 2.81252148, 2.81702892,\n",
       "       2.82146286, 2.82585035, 2.8301936 , 2.83446838, 2.83869778,\n",
       "       2.84288528, 2.84700937, 2.85108957, 2.85512919, 2.85911049,\n",
       "       2.86304971, 2.86694881, 2.87079466, 2.87460052, 2.87836599,\n",
       "       2.88208323, 2.88576282, 2.8894011 , 2.8929961 , 2.89655603,\n",
       "       2.90007315, 2.90355048, 2.90699827, 2.9103999 , 2.91376561,\n",
       "       2.91710653, 2.92039799, 2.92365759, 2.92689604, 2.93008259,\n",
       "       2.93324125, 2.9363804 , 2.93946781, 2.94253111, 2.94557548])"
      ]
     },
     "execution_count": 21,
     "metadata": {},
     "output_type": "execute_result"
    }
   ],
   "source": [
    "m0_value[18:118, 0, 0, 21]"
   ]
  },
  {
   "cell_type": "code",
   "execution_count": 22,
   "metadata": {
    "scrolled": true
   },
   "outputs": [
    {
     "data": {
      "text/plain": [
       "array([ 0.        ,  5.52589268,  5.66298055,  5.80006842,  5.93715629,\n",
       "        6.07424416,  6.21133203,  6.3484199 ,  6.48550777,  6.62259564,\n",
       "        6.75968351,  6.89677138,  7.03385925,  7.17094712,  7.308035  ,\n",
       "        7.44512287,  7.58221074,  7.71929861,  7.85638648,  7.99347435,\n",
       "        8.13056222,  8.26765009,  8.40473796,  8.54182583,  8.6789137 ,\n",
       "        8.81600157,  8.95308944,  6.36285742,  6.49994529,  6.63703316,\n",
       "        6.77412103,  6.9112089 ,  7.04829677,  7.18538464,  7.32247251,\n",
       "        7.45956038,  7.59664825,  7.73373612,  7.87082399,  8.00791186,\n",
       "        8.14499974,  8.28208761,  8.41917548,  8.55626335,  8.69335122,\n",
       "        8.83043909,  8.96752696,  9.10461483,  9.2417027 ,  9.37879057,\n",
       "        9.51587844,  9.65296631,  9.79005418,  9.92714205, 10.06422992,\n",
       "       10.20131779, 10.33840566, 10.47549353, 10.61258141, 10.74966928,\n",
       "       10.88675715, 11.02384502, 11.16093289, 11.29802076, 11.43510863,\n",
       "       11.5721965 , 11.70928437, 11.84637224, 11.98346011, 12.12054798,\n",
       "       12.25763585, 12.39472372, 12.53181159, 12.66889946, 12.80598733,\n",
       "       12.9430752 , 13.08016308, 13.21725095, 13.35433882, 13.49142669,\n",
       "       13.62851456, 13.76560243, 13.9026903 , 14.03977817, 14.17686604,\n",
       "       14.31395391, 14.45104178, 14.58812965, 14.72521752, 14.86230539,\n",
       "       14.99939326, 15.13648113, 15.273569  , 15.41065687, 15.54774475,\n",
       "       15.68483262, 15.82192049, 15.95900836, 16.09609623, 16.2331841 ,\n",
       "       16.37027197, 16.50735984, 16.64444771, 16.78153558, 16.91862345,\n",
       "       17.05571132, 17.19279919, 17.32988706, 17.46697493, 17.6040628 ,\n",
       "       17.74115067, 17.87823854, 18.01532641, 18.15241429, 18.28950216,\n",
       "       18.42659003, 18.5636779 , 18.70076577, 18.83785364, 18.97494151,\n",
       "       19.11202938, 19.24911725, 19.38620512, 19.52329299, 19.66038086,\n",
       "       19.79746873, 19.9345566 , 20.07164447, 20.20873234, 20.34582021,\n",
       "       20.48290808, 20.61999596, 20.75708383, 20.8941717 , 21.03125957,\n",
       "       21.16834744, 21.30543531, 21.44252318, 21.57961105, 21.71669892,\n",
       "       21.85378679, 21.99087466, 22.12796253, 22.2650504 , 22.40213827,\n",
       "       22.53922614, 22.67631401, 22.81340188, 22.95048975, 23.08757763,\n",
       "       23.2246655 , 23.36175337, 23.49884124, 23.63592911, 23.77301698,\n",
       "       23.91010485, 24.04719272, 24.18428059, 24.32136846, 24.45845633,\n",
       "       24.5955442 , 24.73263207, 24.86971994, 25.00680781, 25.14389568,\n",
       "       25.28098355, 25.41807142, 25.5551593 , 25.69224717, 25.82933504,\n",
       "       25.96642291, 26.10351078, 26.24059865, 26.37768652, 26.51477439,\n",
       "       26.65186226, 26.78895013, 26.926038  , 27.06312587, 27.20021374,\n",
       "       27.33730161, 27.47438948, 27.61147735, 27.74856522, 27.88565309,\n",
       "       28.02274096, 28.15982884, 28.29691671, 28.43400458, 28.57109245,\n",
       "       28.70818032, 28.84526819, 28.98235606, 29.11944393, 29.2565318 ,\n",
       "       29.39361967, 29.53070754, 29.66779541, 29.80488328, 29.94197115,\n",
       "       30.07905902, 30.21614689, 30.35323476, 30.49032263, 30.62741051,\n",
       "       30.76449838, 30.90158625, 31.03867412, 31.17576199, 31.31284986,\n",
       "       31.44993773, 31.5870256 , 31.72411347, 31.86120134, 31.99828921,\n",
       "       32.13537708, 32.27246495, 32.40955282, 32.54664069, 32.68372856,\n",
       "       32.82081643, 32.9579043 , 33.09499218, 33.23208005, 33.36916792,\n",
       "       33.50625579, 33.64334366, 33.78043153, 33.9175194 , 34.05460727,\n",
       "       34.19169514, 34.32878301, 34.46587088, 34.60295875, 34.74004662,\n",
       "       34.87713449, 35.01422236, 35.15131023, 35.2883981 , 35.42548597,\n",
       "       35.56257385, 35.69966172, 35.83674959, 35.97383746, 36.11092533,\n",
       "       36.2480132 , 36.38510107, 36.52218894, 36.65927681, 36.79636468,\n",
       "       36.93345255, 37.07054042, 37.20762829, 37.34471616, 37.48180403,\n",
       "       37.6188919 , 37.75597977, 37.89306764, 38.03015551, 38.16724339,\n",
       "       38.30433126, 38.44141913, 38.578507  , 38.71559487, 38.85268274,\n",
       "       38.98977061, 39.12685848, 39.26394635, 39.40103422, 39.53812209,\n",
       "       39.67520996, 39.81229783, 39.9493857 , 40.08647357, 40.22356144,\n",
       "       40.36064931, 40.49773718, 40.63482506, 40.77191293, 40.9090008 ,\n",
       "       41.04608867, 41.18317654, 41.32026441, 41.45735228, 41.59444015,\n",
       "       41.73152802, 41.86861589, 42.00570376, 42.14279163, 42.2798795 ,\n",
       "       42.41696737, 42.55405524, 42.69114311, 42.82823098, 42.96531885,\n",
       "       43.10240673, 43.2394946 , 43.37658247, 43.51367034, 43.65075821,\n",
       "       43.78784608, 43.92493395, 44.06202182, 44.19910969, 44.33619756,\n",
       "       44.47328543, 44.6103733 , 44.74746117, 44.88454904, 45.02163691,\n",
       "       45.15872478, 45.29581265, 45.43290052, 45.5699884 , 45.70707627,\n",
       "       45.84416414, 45.98125201, 46.11833988, 46.25542775, 46.39251562,\n",
       "       46.52960349, 46.66669136, 46.80377923, 46.9408671 , 47.07795497,\n",
       "       47.21504284, 47.35213071, 47.48921858, 47.62630645, 47.76339432,\n",
       "       47.90048219, 48.03757006, 48.17465794, 48.31174581, 48.44883368,\n",
       "       48.58592155, 48.72300942, 48.86009729, 48.99718516, 49.13427303,\n",
       "       49.2713609 , 49.40844877, 49.54553664, 49.68262451, 49.81971238,\n",
       "       49.95680025, 50.09388812, 50.23097599, 50.36806386, 50.50515173,\n",
       "       50.64223961, 50.77932748, 50.91641535, 51.05350322, 51.19059109,\n",
       "       51.32767896, 51.46476683, 51.6018547 , 51.73894257, 51.87603044,\n",
       "       52.01311831, 52.15020618, 52.28729405, 52.42438192, 52.56146979,\n",
       "       52.69855766, 52.83564553, 52.9727334 , 53.10982128, 53.24690915,\n",
       "       53.38399702, 53.52108489, 53.65817276, 53.79526063, 53.9323485 ,\n",
       "       54.06943637, 54.20652424, 54.34361211, 54.48069998, 54.61778785,\n",
       "       54.75487572, 54.89196359, 55.02905146, 55.16613933, 55.3032272 ,\n",
       "       55.44031507, 55.57740295, 55.71449082, 55.85157869, 55.98866656,\n",
       "       56.12575443, 56.2628423 , 56.39993017, 56.53701804, 56.67410591,\n",
       "       56.81119378, 56.94828165, 57.08536952, 57.22245739, 57.35954526,\n",
       "       57.49663313, 57.633721  , 57.77080887, 57.90789674, 58.04498461,\n",
       "       58.18207249, 58.31916036, 58.45624823, 58.5933361 , 58.73042397,\n",
       "       58.86751184, 59.00459971, 59.14168758, 59.27877545, 59.41586332,\n",
       "       59.55295119, 59.69003906, 59.82712693, 59.9642148 , 60.10130267,\n",
       "       60.23839054, 60.37547841, 60.51256628, 60.64965416, 60.78674203,\n",
       "       60.9238299 , 61.06091777, 61.19800564, 61.33509351, 61.47218138,\n",
       "       61.60926925, 61.74635712, 61.88344499, 62.02053286, 62.15762073,\n",
       "       62.2947086 , 62.43179647, 62.56888434, 62.70597221, 62.84306008,\n",
       "       62.98014795, 63.11723583, 63.2543237 , 63.39141157, 63.52849944,\n",
       "       63.66558731, 63.80267518, 63.93976305, 64.07685092, 64.21393879,\n",
       "       64.35102666, 64.48811453, 64.6252024 , 64.76229027, 64.89937814,\n",
       "       65.03646601, 65.17355388, 65.31064175, 65.44772962, 65.5848175 ,\n",
       "       65.72190537, 65.85899324, 65.99608111, 66.13316898, 66.27025685,\n",
       "       66.40734472, 66.54443259, 66.68152046, 66.81860833, 66.9556962 ,\n",
       "       67.09278407, 67.22987194, 67.36695981, 67.50404768, 67.64113555,\n",
       "       67.77822342, 67.91531129, 68.05239916, 68.18948704, 68.32657491,\n",
       "       68.46366278, 68.60075065, 68.73783852, 68.87492639, 69.01201426,\n",
       "       69.14910213, 69.28619   , 69.42327787, 69.56036574, 69.69745361,\n",
       "       69.83454148, 69.97162935, 70.10871722, 70.24580509, 70.38289296,\n",
       "       70.51998083, 70.65706871, 70.79415658, 70.93124445, 71.06833232,\n",
       "       71.20542019])"
      ]
     },
     "execution_count": 22,
     "metadata": {},
     "output_type": "execute_result"
    }
   ],
   "source": [
    "policy[:, 0, 1, period]"
   ]
  },
  {
   "cell_type": "markdown",
   "metadata": {},
   "source": [
    "Start secondary evelope\n",
    "-----------------------------\n",
    "\n",
    "To Do: Secondary envelope as a function and not line-by-line\n",
    "To Do: Handling of discontinuity in the credit constrained region, retirement_model.m 137-148"
   ]
  },
  {
   "cell_type": "code",
   "execution_count": 23,
   "metadata": {},
   "outputs": [
    {
     "data": {
      "text/plain": [
       "(2, 500)"
      ]
     },
     "execution_count": 23,
     "metadata": {},
     "output_type": "execute_result"
    }
   ],
   "source": [
    "obj = value[1:, :, 1, 21].T\n",
    "obj.shape"
   ]
  },
  {
   "cell_type": "code",
   "execution_count": 24,
   "metadata": {},
   "outputs": [],
   "source": [
    "cur = obj"
   ]
  },
  {
   "cell_type": "code",
   "execution_count": 25,
   "metadata": {},
   "outputs": [],
   "source": [
    "# Find discontinutiy\n",
    "ii=cur[0][1:]>cur[0][:-1]"
   ]
  },
  {
   "cell_type": "code",
   "execution_count": 26,
   "metadata": {},
   "outputs": [
    {
     "name": "stdout",
     "output_type": "stream",
     "text": [
      "False True\n"
     ]
    }
   ],
   "source": [
    "# Discontinuity at index 25 - 26\n",
    "print(ii[25], ii[26])"
   ]
  },
  {
   "cell_type": "code",
   "execution_count": 27,
   "metadata": {},
   "outputs": [
    {
     "data": {
      "text/plain": [
       "array([8.81600157, 8.95308944, 6.36285742, 6.49994529, 6.63703316,\n",
       "       6.77412103, 6.9112089 , 7.04829677, 7.18538464, 7.32247251,\n",
       "       7.45956038, 7.59664825, 7.73373612, 7.87082399, 8.00791186,\n",
       "       8.14499974, 8.28208761, 8.41917548, 8.55626335, 8.69335122,\n",
       "       8.83043909, 8.96752696, 9.10461483, 9.2417027 , 9.37879057,\n",
       "       9.51587844])"
      ]
     },
     "execution_count": 27,
     "metadata": {},
     "output_type": "execute_result"
    }
   ],
   "source": [
    "# Discontinuity in values\n",
    "obj[0, 24:50]"
   ]
  },
  {
   "cell_type": "code",
   "execution_count": 28,
   "metadata": {},
   "outputs": [],
   "source": [
    "i = 1\n",
    "sect = []"
   ]
  },
  {
   "cell_type": "code",
   "execution_count": 29,
   "metadata": {},
   "outputs": [],
   "source": [
    "# Chop used in while loop below\n",
    "# Does not work in original version - look at commented out and changes lines!\n",
    "def chop(obj, j, repeat=None):\n",
    "    \n",
    "    #for k in range(len(obj)):\n",
    "    for k in range(1):\n",
    "        #if j > len(obj[k]):\n",
    "            #j = len(obj[k])\n",
    "        #result_1 = polyline(obj[k][0][:j], obj[k][1][:j])\n",
    "        result_1 = polyline(obj[0][:j+1], obj[1][:j+1])\n",
    "        result_2 = []\n",
    "        \n",
    "        if repeat != None:\n",
    "            if repeat:\n",
    "                #result_2 = polyline(obj[k][0][j:], obj[k][1][j:])\n",
    "                result_2 = polyline(obj[0][j:], obj[1][j:])\n",
    "            else:\n",
    "                #result_2 = polyline(obj[k][0][j+1:], obj[k][0][j+1:])\n",
    "                result_2 = polyline(obj[0][j+1:], obj[0][j+1:])\n",
    "                \n",
    "    return result_1, result_2"
   ]
  },
  {
   "cell_type": "code",
   "execution_count": 30,
   "metadata": {},
   "outputs": [],
   "source": [
    "# Polyline used in while loop below\n",
    "def polyline(x, y=None, label=None):\n",
    "    \"\"\"This function converts the \"\"\"\n",
    "    # create output container\n",
    "    obj = np.empty((2,len(x)))\n",
    "    \n",
    "    # condition output on the number on function inputs \n",
    "    if x is not None:\n",
    "        x = np.array(x).flatten()\n",
    "        obj[0,:] = x\n",
    "    if y is not None:\n",
    "        y = np.array(y).flatten()\n",
    "        obj[1,:] = y\n",
    "        \n",
    "    return obj"
   ]
  },
  {
   "cell_type": "code",
   "execution_count": 31,
   "metadata": {},
   "outputs": [],
   "source": [
    "# Substitute for matlab while true loop\n",
    "j = np.where([ii[counter] != ii[0] for counter in range(len(ii))])[0]\n",
    "\n",
    "while len(j) > 0:\n",
    "    j = [min(j)]\n",
    "\n",
    "    for k in j:\n",
    "        sect_container, cur = chop(cur, k, True)\n",
    "        sect += [sect_container]\n",
    "        ii = ii[k:]\n",
    "        i +=1\n",
    "        j = np.where([ii[counter] != ii[0] for counter in range(len(ii))])[0]\n",
    "\n",
    "if i >1:\n",
    "    sect += [cur]"
   ]
  },
  {
   "cell_type": "code",
   "execution_count": 32,
   "metadata": {},
   "outputs": [
    {
     "data": {
      "text/plain": [
       "3"
      ]
     },
     "execution_count": 32,
     "metadata": {},
     "output_type": "execute_result"
    }
   ],
   "source": [
    "# Note: One discontinutiy produces 3 sections\n",
    "len(sect)"
   ]
  },
  {
   "cell_type": "markdown",
   "metadata": {},
   "source": [
    "sect = sort_polyline(sect)\n",
    "\n",
    "!!! Does not work with this object"
   ]
  },
  {
   "cell_type": "code",
   "execution_count": 33,
   "metadata": {},
   "outputs": [
    {
     "data": {
      "text/plain": [
       "array([[6.36285742, 8.95308944],\n",
       "       [2.44271185, 2.55666561]])"
      ]
     },
     "execution_count": 33,
     "metadata": {},
     "output_type": "execute_result"
    }
   ],
   "source": [
    "# Explore wether one can simply use numpy for sorting insted of the translated matlab function\n",
    "sect[1] = np.sort(sect[1])\n",
    "sect[1]"
   ]
  },
  {
   "cell_type": "markdown",
   "metadata": {},
   "source": [
    "Upper envelope"
   ]
  },
  {
   "cell_type": "code",
   "execution_count": 34,
   "metadata": {},
   "outputs": [],
   "source": [
    "# aux_function used in upper_evelope below\n",
    "def aux_function(x, obj1, obj2):\n",
    "    x = [x]\n",
    "    value, extr = np.subtract(interpolate(x,obj1), interpolate(x, obj2))\n",
    "    return value"
   ]
  },
  {
   "cell_type": "code",
   "execution_count": 35,
   "metadata": {},
   "outputs": [],
   "source": [
    "# interpolate used in upper_evelope below\n",
    "def interpolate(xx, obj, one=False):    \n",
    "    if not one:\n",
    "        interpolation = InterpolatedUnivariateSpline(obj[0], obj[1], k=1)\n",
    "        container = interpolation(xx)\n",
    "        extrapolate = [True if (i>max(obj[0])) |(i<min(obj[0])) else False for i in xx]\n",
    "    else:\n",
    "        container = []\n",
    "        extrapolate = []\n",
    "        \n",
    "        for poly  in obj:\n",
    "            interpolation = InterpolatedUnivariateSpline(poly[0], poly[1], k=1)\n",
    "            container += [interpolation(xx)]\n",
    "            extrapolate += [np.array([True if (i>max(poly[0])) |(i<min(poly[0])) else False for i in xx])]\n",
    "    return container, extrapolate"
   ]
  },
  {
   "cell_type": "code",
   "execution_count": 36,
   "metadata": {},
   "outputs": [],
   "source": [
    "# Upper envelope changed compared to original\n",
    "# Most importantly, assigning the proper output values to result_upper was completely missing\n",
    "def upper_envelope(obj, fullinterval=False, intersection=False):\n",
    "    \n",
    "    # Assert if input of polyline objects is not an array (length==1)\n",
    "    assert (len(obj) != 1), 'Upper envelope is meant for an array of polylines'\n",
    "    length = []\n",
    "    \n",
    "    # copy original input\n",
    "    aux_object = deepcopy(obj)\n",
    "    \n",
    "    # check length of polyline entries and drop polylines with x-length == 0\n",
    "    for k1 in range(len(obj)):\n",
    "        length += [(len(obj[k1][0]), len(obj[k1][1]))]\n",
    "        aux_object[k1] = [i for i in aux_object[k1] if len(i) != 0]\n",
    "    \n",
    "    # Get all unique values of x\n",
    "    xx = np.array([])\n",
    "    for k1 in range(len(aux_object)):\n",
    "           xx = np.append(xx, aux_object[k1][0].astype(list))\n",
    "    xx =  np.array([i for i in np.unique(xx)])\n",
    "    \n",
    "    # set up containers\n",
    "    interpolated = np.empty((len(obj), len(xx))) \n",
    "    extrapolated = np.empty((len(obj), len(xx)))\n",
    "    \n",
    "    # interpolate for each unique value of x\n",
    "    for counter in range(len(obj)):\n",
    "        inter, extra = interpolate(xx, obj[counter])\n",
    "        interpolated[counter, :] = inter\n",
    "        extrapolated[counter, :] = extra\n",
    "    extrapolated = extrapolated.astype(bool)\n",
    "    \n",
    "    if not fullinterval:\n",
    "        mask = np.sum(extrapolated, axis=0) > 0\n",
    "        container = np.empty((interpolated.shape[0], int(mask.sum())))\n",
    "        for i in range(interpolated.shape[0]):\n",
    "            container[i,:] = np.extract(mask, interpolated[i,:])\n",
    "        interpolated = container\n",
    "        xx = xx[mask]\n",
    "        n = sum(~mask)\n",
    "    else:\n",
    "        interpolated[extrapolated] = -np.inf\n",
    "        n = len(xx)\n",
    "        \n",
    "    # create upper envelope\n",
    "    maxinterpolated = repmat(interpolated.max(axis=0), m=interpolated.shape[0], n=1)\n",
    "    top=interpolated==maxinterpolated \n",
    "    \n",
    "    \n",
    "    # Initialise container\n",
    "    #result_upper = polyline(xx, maxinterpolated[1,:]) ## This does not seem to work as intended\n",
    "    result_inter = np.empty((2,0))\n",
    "    container1 = np.array([])\n",
    "    container2 = np.array([])\n",
    "    \n",
    "    # Containers for collection of valid polyline points\n",
    "    result_upper_cont_x = [xx[0]] # Added line\n",
    "    result_upper_cont_y = [interpolated [0, 0]] #Added line\n",
    "\n",
    "    Test = True\n",
    "    if Test is True:\n",
    "        k0 = np.where(top[:,0]==True)[0][0]\n",
    "        for i in range(1, n):\n",
    "            k1 = np.where(top[:,i]==True)[0][0]\n",
    "            if k1 != k0:\n",
    "                ln1 = k0\n",
    "                ln2 = k1\n",
    "                xx1 = xx[i - 1]\n",
    "                xx2 = xx[i]\n",
    "                y1, extr1 = interpolate([xx1, xx2], aux_object[ln1])\n",
    "                y2, extr2 = interpolate([xx1, xx2], aux_object[ln2])\n",
    "                if all(~np.stack([extr1, extr2])) & all(abs(y1-y2)>0):\n",
    "                    xx3 = brenth(aux_function, xx1, xx2, args=(aux_object[ln1], aux_object[ln2]))\n",
    "                    xx3f, _ = interpolate([xx3], aux_object[ln1])\n",
    "                    # set up containers\n",
    "                    interpolated2 = np.empty((len(obj), 1)) \n",
    "                    extrapolated2 = np.empty((len(obj), 1))\n",
    "\n",
    "                    # interpolate for each unique value of x\n",
    "                    for counter in range(len(obj)):\n",
    "                        inter2, extra2 = interpolate([xx3], obj[counter])\n",
    "                        interpolated2[counter] = inter2\n",
    "                        extrapolated2[counter] = extra2\n",
    "\n",
    "                    extrapolated2 = extrapolated2.astype(bool)\n",
    "                    interpolated2[extrapolated2] = -np.inf\n",
    "                    maxinterpolated2 = repmat(interpolated2.max(), m=len(obj), n=1)\n",
    "                    ln3=np.where(interpolated2==maxinterpolated2)[0][0]\n",
    "                    if (ln3==ln1) | (ln3==ln2):\n",
    "\n",
    "                        #there are no other functions above!\n",
    "                        #add the intersection point\n",
    "                        result_upper_cont_x.append(xx3)\n",
    "                        result_upper_cont_y.append(float(xx3f))\n",
    "                        \n",
    "                        if intersection:\n",
    "                            container1 = np.append(container1, [xx3])\n",
    "                            \n",
    "                            container2 = np.append(container2, [xx3f])\n",
    "                        if ln2==k1:\n",
    "\n",
    "                            pass\n",
    "                            \n",
    "                        else:\n",
    "                            ln1=ln2\n",
    "                            xx1=xx3\n",
    "                            ln2=k1\n",
    "                            xx2=xx[i]\n",
    "                    else:\n",
    "                        ln2=ln3\n",
    "                        xx2=xx3\n",
    "            \n",
    "            # This was missing before!!!! : replicates MatLab lines 342-346 which are extremely important\n",
    "            # Add point to container if it is on the currently highest line            \n",
    "            if any(abs(obj[k1][0] - xx[i]) < 2.2204e-16) == True:\n",
    "                result_upper_cont_x.append(xx[i])\n",
    "                result_upper_cont_y.append(maxinterpolated[0, i])\n",
    "            \n",
    "            k0=k1\n",
    "        \n",
    "        # Collect results\n",
    "        result_inter = np.empty((2, len(container1)))\n",
    "        result_inter[0], result_inter[1] = container1, container2\n",
    "        result_upper = [np.array(result_upper_cont_x), np.array(result_upper_cont_y)] # Added line\n",
    "        \n",
    "    return result_upper, result_inter      "
   ]
  },
  {
   "cell_type": "code",
   "execution_count": 37,
   "metadata": {},
   "outputs": [],
   "source": [
    "# Perform upper envelope calculation\n",
    "result_container, newdots_container = upper_envelope(sect, True, True)"
   ]
  },
  {
   "cell_type": "code",
   "execution_count": 38,
   "metadata": {},
   "outputs": [
    {
     "data": {
      "text/plain": [
       "(482,)"
      ]
     },
     "execution_count": 38,
     "metadata": {},
     "output_type": "execute_result"
    }
   ],
   "source": [
    "# Array of same length as MatLab code\n",
    "# Same number of points removed\n",
    "result_container[0].shape"
   ]
  },
  {
   "cell_type": "code",
   "execution_count": 39,
   "metadata": {},
   "outputs": [],
   "source": [
    "# Verify result for x values of value after upper envelope\n",
    "# Same points removed as in MatLab code\n",
    "np.testing.assert_array_almost_equal(m0_value[19:501, 1, 0, 21], result_container[0])"
   ]
  },
  {
   "cell_type": "code",
   "execution_count": 40,
   "metadata": {},
   "outputs": [],
   "source": [
    "# Verify result for y values of value after upper envelope\n",
    "# Same points removed as in MatLab code\n",
    "np.testing.assert_array_almost_equal(m0_value[19:501, 0, 0, 21], result_container[1])"
   ]
  },
  {
   "cell_type": "code",
   "execution_count": 41,
   "metadata": {},
   "outputs": [
    {
     "data": {
      "text/plain": [
       "array([[7.31557897],\n",
       "       [2.51034068]])"
      ]
     },
     "execution_count": 41,
     "metadata": {},
     "output_type": "execute_result"
    }
   ],
   "source": [
    "# Verify output of result_inter\n",
    "# One new point added, one intersection, same as MatLab code\n",
    "newdots_container"
   ]
  },
  {
   "cell_type": "markdown",
   "metadata": {},
   "source": [
    "Finish up secondary envelope"
   ]
  },
  {
   "cell_type": "markdown",
   "metadata": {
    "scrolled": true
   },
   "source": [
    "diff(obj, result_container)\n",
    "\n",
    "!!! Function not working with this input"
   ]
  },
  {
   "cell_type": "code",
   "execution_count": 42,
   "metadata": {},
   "outputs": [
    {
     "data": {
      "text/plain": [
       "array([6.36285742, 6.49994529, 6.63703316, 6.77412103, 6.9112089 ,\n",
       "       7.04829677, 7.18538464, 7.44512287, 7.58221074, 7.71929861,\n",
       "       7.85638648, 7.99347435, 8.13056222, 8.26765009, 8.40473796,\n",
       "       8.54182583, 8.6789137 , 8.81600157, 8.95308944])"
      ]
     },
     "execution_count": 42,
     "metadata": {},
     "output_type": "execute_result"
    }
   ],
   "source": [
    "# Find indexes of missing elements\n",
    "missing_elements = np.setdiff1d(obj[0], result_container[0])\n",
    "missing_elements"
   ]
  },
  {
   "cell_type": "code",
   "execution_count": 43,
   "metadata": {},
   "outputs": [],
   "source": [
    "indexremoved = []\n",
    "\n",
    "for value in missing_elements:\n",
    "    indexremoved.append(obj[0].tolist().index(value))\n",
    "\n",
    "indexremoved = np.array(sort(indexremoved))"
   ]
  },
  {
   "cell_type": "code",
   "execution_count": 44,
   "metadata": {},
   "outputs": [
    {
     "data": {
      "text/plain": [
       "array([14, 15, 16, 17, 18, 19, 20, 21, 22, 23, 24, 25, 26, 27, 28, 29, 30,\n",
       "       31, 32])"
      ]
     },
     "execution_count": 44,
     "metadata": {},
     "output_type": "execute_result"
    }
   ],
   "source": [
    "# Same indexes of removed points as in MatLab code\n",
    "indexremoved"
   ]
  },
  {
   "cell_type": "markdown",
   "metadata": {},
   "source": [
    "Back to retirement_model.m solve_dsegm line 149ff."
   ]
  },
  {
   "cell_type": "code",
   "execution_count": 45,
   "metadata": {},
   "outputs": [
    {
     "data": {
      "text/plain": [
       "True"
      ]
     },
     "execution_count": 45,
     "metadata": {},
     "output_type": "execute_result"
    }
   ],
   "source": [
    "len(indexremoved) > 0"
   ]
  },
  {
   "cell_type": "code",
   "execution_count": 46,
   "metadata": {},
   "outputs": [
    {
     "data": {
      "text/plain": [
       "array([ 0,  1,  2,  3,  4,  5,  6,  7,  8,  9, 10, 11, 12, 13, 14])"
      ]
     },
     "execution_count": 46,
     "metadata": {},
     "output_type": "execute_result"
    }
   ],
   "source": [
    "# All points below\n",
    "# Note what MatLab function find is doing\n",
    "# If one simply does \"<\" in Python, result would be wrong\n",
    "# Current workaround might not be robust to all cases - find a better wat to pythonise MatLabs find function\n",
    "j = arange(0, (np.where(policy[:, 0, 1, 21] > newdots_container[0][0]))[0][0])\n",
    "j"
   ]
  },
  {
   "cell_type": "code",
   "execution_count": 47,
   "metadata": {},
   "outputs": [
    {
     "data": {
      "text/plain": [
       "array([ 0,  1,  2,  3,  4,  5,  6,  7,  8,  9, 10, 11, 12, 13])"
      ]
     },
     "execution_count": 47,
     "metadata": {},
     "output_type": "execute_result"
    }
   ],
   "source": [
    "# Points that were not deleted\n",
    "j_new = np.setdiff1d(j, indexremoved)\n",
    "j_new"
   ]
  },
  {
   "cell_type": "code",
   "execution_count": 48,
   "metadata": {},
   "outputs": [
    {
     "data": {
      "text/plain": [
       "13"
      ]
     },
     "execution_count": 48,
     "metadata": {},
     "output_type": "execute_result"
    }
   ],
   "source": [
    "j = max(j_new)\n",
    "j"
   ]
  },
  {
   "cell_type": "code",
   "execution_count": 49,
   "metadata": {},
   "outputs": [
    {
     "data": {
      "text/plain": [
       "6.007459709059365"
      ]
     },
     "execution_count": 49,
     "metadata": {},
     "output_type": "execute_result"
    }
   ],
   "source": [
    "# Potentially a better way of setting j exists, such that indexes here are simplified\n",
    "new_left = np.interp(newdots_container[0][0], policy[j+1:j+3, 0, 1, 21], policy[j+1:j+3, 1, 1, 21])\n",
    "new_left"
   ]
  },
  {
   "cell_type": "code",
   "execution_count": 50,
   "metadata": {},
   "outputs": [
    {
     "data": {
      "text/plain": [
       "array([ 33,  34,  35,  36,  37,  38,  39,  40,  41,  42,  43,  44,  45,\n",
       "        46,  47,  48,  49,  50,  51,  52,  53,  54,  55,  56,  57,  58,\n",
       "        59,  60,  61,  62,  63,  64,  65,  66,  67,  68,  69,  70,  71,\n",
       "        72,  73,  74,  75,  76,  77,  78,  79,  80,  81,  82,  83,  84,\n",
       "        85,  86,  87,  88,  89,  90,  91,  92,  93,  94,  95,  96,  97,\n",
       "        98,  99, 100, 101, 102, 103, 104, 105, 106, 107, 108, 109, 110,\n",
       "       111, 112, 113, 114, 115, 116, 117, 118, 119, 120, 121, 122, 123,\n",
       "       124, 125, 126, 127, 128, 129, 130, 131, 132, 133, 134, 135, 136,\n",
       "       137, 138, 139, 140, 141, 142, 143, 144, 145, 146, 147, 148, 149,\n",
       "       150, 151, 152, 153, 154, 155, 156, 157, 158, 159, 160, 161, 162,\n",
       "       163, 164, 165, 166, 167, 168, 169, 170, 171, 172, 173, 174, 175,\n",
       "       176, 177, 178, 179, 180, 181, 182, 183, 184, 185, 186, 187, 188,\n",
       "       189, 190, 191, 192, 193, 194, 195, 196, 197, 198, 199, 200, 201,\n",
       "       202, 203, 204, 205, 206, 207, 208, 209, 210, 211, 212, 213, 214,\n",
       "       215, 216, 217, 218, 219, 220, 221, 222, 223, 224, 225, 226, 227,\n",
       "       228, 229, 230, 231, 232, 233, 234, 235, 236, 237, 238, 239, 240,\n",
       "       241, 242, 243, 244, 245, 246, 247, 248, 249, 250, 251, 252, 253,\n",
       "       254, 255, 256, 257, 258, 259, 260, 261, 262, 263, 264, 265, 266,\n",
       "       267, 268, 269, 270, 271, 272, 273, 274, 275, 276, 277, 278, 279,\n",
       "       280, 281, 282, 283, 284, 285, 286, 287, 288, 289, 290, 291, 292,\n",
       "       293, 294, 295, 296, 297, 298, 299, 300, 301, 302, 303, 304, 305,\n",
       "       306, 307, 308, 309, 310, 311, 312, 313, 314, 315, 316, 317, 318,\n",
       "       319, 320, 321, 322, 323, 324, 325, 326, 327, 328, 329, 330, 331,\n",
       "       332, 333, 334, 335, 336, 337, 338, 339, 340, 341, 342, 343, 344,\n",
       "       345, 346, 347, 348, 349, 350, 351, 352, 353, 354, 355, 356, 357,\n",
       "       358, 359, 360, 361, 362, 363, 364, 365, 366, 367, 368, 369, 370,\n",
       "       371, 372, 373, 374, 375, 376, 377, 378, 379, 380, 381, 382, 383,\n",
       "       384, 385, 386, 387, 388, 389, 390, 391, 392, 393, 394, 395, 396,\n",
       "       397, 398, 399, 400, 401, 402, 403, 404, 405, 406, 407, 408, 409,\n",
       "       410, 411, 412, 413, 414, 415, 416, 417, 418, 419, 420, 421, 422,\n",
       "       423, 424, 425, 426, 427, 428, 429, 430, 431, 432, 433, 434, 435,\n",
       "       436, 437, 438, 439, 440, 441, 442, 443, 444, 445, 446, 447, 448,\n",
       "       449, 450, 451, 452, 453, 454, 455, 456, 457, 458, 459, 460, 461,\n",
       "       462, 463, 464, 465, 466, 467, 468, 469, 470, 471, 472, 473, 474,\n",
       "       475, 476, 477, 478, 479, 480, 481, 482, 483, 484, 485, 486, 487,\n",
       "       488, 489, 490, 491, 492, 493, 494, 495, 496, 497, 498, 499, 500,\n",
       "       501])"
      ]
     },
     "execution_count": 50,
     "metadata": {},
     "output_type": "execute_result"
    }
   ],
   "source": [
    "# Perform similar operation for the upper/right side\n",
    "# All comments from above apply here\n",
    "j = np.arange(np.where(policy[:, 0, 1, 21] < newdots_container[0][0])[0][-1], policy.shape[0]+1)\n",
    "j"
   ]
  },
  {
   "cell_type": "code",
   "execution_count": 51,
   "metadata": {},
   "outputs": [
    {
     "data": {
      "text/plain": [
       "array([ 33,  34,  35,  36,  37,  38,  39,  40,  41,  42,  43,  44,  45,\n",
       "        46,  47,  48,  49,  50,  51,  52,  53,  54,  55,  56,  57,  58,\n",
       "        59,  60,  61,  62,  63,  64,  65,  66,  67,  68,  69,  70,  71,\n",
       "        72,  73,  74,  75,  76,  77,  78,  79,  80,  81,  82,  83,  84,\n",
       "        85,  86,  87,  88,  89,  90,  91,  92,  93,  94,  95,  96,  97,\n",
       "        98,  99, 100, 101, 102, 103, 104, 105, 106, 107, 108, 109, 110,\n",
       "       111, 112, 113, 114, 115, 116, 117, 118, 119, 120, 121, 122, 123,\n",
       "       124, 125, 126, 127, 128, 129, 130, 131, 132, 133, 134, 135, 136,\n",
       "       137, 138, 139, 140, 141, 142, 143, 144, 145, 146, 147, 148, 149,\n",
       "       150, 151, 152, 153, 154, 155, 156, 157, 158, 159, 160, 161, 162,\n",
       "       163, 164, 165, 166, 167, 168, 169, 170, 171, 172, 173, 174, 175,\n",
       "       176, 177, 178, 179, 180, 181, 182, 183, 184, 185, 186, 187, 188,\n",
       "       189, 190, 191, 192, 193, 194, 195, 196, 197, 198, 199, 200, 201,\n",
       "       202, 203, 204, 205, 206, 207, 208, 209, 210, 211, 212, 213, 214,\n",
       "       215, 216, 217, 218, 219, 220, 221, 222, 223, 224, 225, 226, 227,\n",
       "       228, 229, 230, 231, 232, 233, 234, 235, 236, 237, 238, 239, 240,\n",
       "       241, 242, 243, 244, 245, 246, 247, 248, 249, 250, 251, 252, 253,\n",
       "       254, 255, 256, 257, 258, 259, 260, 261, 262, 263, 264, 265, 266,\n",
       "       267, 268, 269, 270, 271, 272, 273, 274, 275, 276, 277, 278, 279,\n",
       "       280, 281, 282, 283, 284, 285, 286, 287, 288, 289, 290, 291, 292,\n",
       "       293, 294, 295, 296, 297, 298, 299, 300, 301, 302, 303, 304, 305,\n",
       "       306, 307, 308, 309, 310, 311, 312, 313, 314, 315, 316, 317, 318,\n",
       "       319, 320, 321, 322, 323, 324, 325, 326, 327, 328, 329, 330, 331,\n",
       "       332, 333, 334, 335, 336, 337, 338, 339, 340, 341, 342, 343, 344,\n",
       "       345, 346, 347, 348, 349, 350, 351, 352, 353, 354, 355, 356, 357,\n",
       "       358, 359, 360, 361, 362, 363, 364, 365, 366, 367, 368, 369, 370,\n",
       "       371, 372, 373, 374, 375, 376, 377, 378, 379, 380, 381, 382, 383,\n",
       "       384, 385, 386, 387, 388, 389, 390, 391, 392, 393, 394, 395, 396,\n",
       "       397, 398, 399, 400, 401, 402, 403, 404, 405, 406, 407, 408, 409,\n",
       "       410, 411, 412, 413, 414, 415, 416, 417, 418, 419, 420, 421, 422,\n",
       "       423, 424, 425, 426, 427, 428, 429, 430, 431, 432, 433, 434, 435,\n",
       "       436, 437, 438, 439, 440, 441, 442, 443, 444, 445, 446, 447, 448,\n",
       "       449, 450, 451, 452, 453, 454, 455, 456, 457, 458, 459, 460, 461,\n",
       "       462, 463, 464, 465, 466, 467, 468, 469, 470, 471, 472, 473, 474,\n",
       "       475, 476, 477, 478, 479, 480, 481, 482, 483, 484, 485, 486, 487,\n",
       "       488, 489, 490, 491, 492, 493, 494, 495, 496, 497, 498, 499, 500,\n",
       "       501])"
      ]
     },
     "execution_count": 51,
     "metadata": {},
     "output_type": "execute_result"
    }
   ],
   "source": [
    "j_new = np.setdiff1d(j, indexremoved)\n",
    "j_new"
   ]
  },
  {
   "cell_type": "code",
   "execution_count": 52,
   "metadata": {},
   "outputs": [
    {
     "data": {
      "text/plain": [
       "33"
      ]
     },
     "execution_count": 52,
     "metadata": {},
     "output_type": "execute_result"
    }
   ],
   "source": [
    "j = min(j_new)\n",
    "j"
   ]
  },
  {
   "cell_type": "code",
   "execution_count": 53,
   "metadata": {},
   "outputs": [
    {
     "data": {
      "text/plain": [
       "4.014004377221639"
      ]
     },
     "execution_count": 53,
     "metadata": {},
     "output_type": "execute_result"
    }
   ],
   "source": [
    "new_right = np.interp(newdots_container[0][0], policy[j:j+2, 0, 1, period], policy[j:j+2, 1, 1, period])\n",
    "new_right"
   ]
  },
  {
   "cell_type": "code",
   "execution_count": 62,
   "metadata": {},
   "outputs": [],
   "source": [
    "# Remove inferior points from policy\n",
    "# Means: Remove all points with indexes in indexremoved\n",
    "policy_thinout_x = policy[:, 0, 1, period].tolist()\n",
    "policy_thinout_y = policy[:, 1, 1, period].tolist()"
   ]
  },
  {
   "cell_type": "code",
   "execution_count": 64,
   "metadata": {},
   "outputs": [],
   "source": [
    "del policy_thinout_x[indexremoved[0]+1 : indexremoved[-1]+2]\n",
    "del policy_thinout_y[indexremoved[0]+1 : indexremoved[-1]+2]"
   ]
  },
  {
   "cell_type": "code",
   "execution_count": 65,
   "metadata": {},
   "outputs": [],
   "source": [
    "# Add new point twice\n",
    "policy_thinout_x.append(newdots_container[0][0] - 1e3*2.2204e-16)\n",
    "policy_thinout_x.append(newdots_container[0][0])"
   ]
  },
  {
   "cell_type": "code",
   "execution_count": 66,
   "metadata": {},
   "outputs": [],
   "source": [
    "# Add new point twice\n",
    "policy_thinout_y.append(new_left)\n",
    "policy_thinout_y.append(new_right)"
   ]
  },
  {
   "cell_type": "code",
   "execution_count": 67,
   "metadata": {},
   "outputs": [
    {
     "data": {
      "text/plain": [
       "484"
      ]
     },
     "execution_count": 67,
     "metadata": {},
     "output_type": "execute_result"
    }
   ],
   "source": [
    "len(policy_thinout_x)"
   ]
  },
  {
   "cell_type": "code",
   "execution_count": 69,
   "metadata": {},
   "outputs": [],
   "source": [
    "new_policy = np.full((2, ngridm + 1), np.nan)\n",
    "new_policy[0, - len(policy_thinout_x):] = np.array(policy_thinout_x)\n",
    "new_policy[1, - len(policy_thinout_y):] = np.array(policy_thinout_y)"
   ]
  },
  {
   "cell_type": "code",
   "execution_count": 70,
   "metadata": {},
   "outputs": [],
   "source": [
    "# Ensure that points are in the right position\n",
    "new_policy = np.sort(new_policy)"
   ]
  },
  {
   "cell_type": "code",
   "execution_count": 75,
   "metadata": {},
   "outputs": [],
   "source": [
    "# Verify correct solution for t-3 in policy\n",
    "np.testing.assert_almost_equal(m0_policy[17:501, 1, 0, 21], new_policy[0, 0:484])"
   ]
  },
  {
   "cell_type": "code",
   "execution_count": 76,
   "metadata": {},
   "outputs": [],
   "source": [
    "# Finish up\n",
    "policy[:, :, 1, period] = new_policy.T"
   ]
  }
 ],
 "metadata": {
  "kernelspec": {
   "display_name": "Python [conda env:dcegm] *",
   "language": "python",
   "name": "conda-env-dcegm-py"
  },
  "language_info": {
   "codemirror_mode": {
    "name": "ipython",
    "version": 3
   },
   "file_extension": ".py",
   "mimetype": "text/x-python",
   "name": "python",
   "nbconvert_exporter": "python",
   "pygments_lexer": "ipython3",
   "version": "3.7.3"
  }
 },
 "nbformat": 4,
 "nbformat_minor": 2
}
