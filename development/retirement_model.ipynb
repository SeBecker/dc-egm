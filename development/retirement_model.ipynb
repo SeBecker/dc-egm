{
 "cells": [
  {
   "cell_type": "markdown",
   "metadata": {},
   "source": [
    "Minimal shocks retirement model\n",
    "===========================\n",
    "\n",
    "This notebook presents the step by step solution for a backward induction problem with a discrete and continuout choice variable for one period based on model_retirement.m\n",
    "\n",
    "The comparison file for verification of the correct output of each step is retirement_minimal_shocks.m"
   ]
  },
  {
   "cell_type": "code",
   "execution_count": 223,
   "metadata": {},
   "outputs": [],
   "source": [
    "import numpy as np\n",
    "import math\n",
    "import scipy.stats as scps\n",
    "import matplotlib.pyplot as plt\n",
    "import pickle"
   ]
  },
  {
   "cell_type": "code",
   "execution_count": 224,
   "metadata": {},
   "outputs": [
    {
     "name": "stdout",
     "output_type": "stream",
     "text": [
      "The autoreload extension is already loaded. To reload it, use:\n",
      "  %reload_ext autoreload\n"
     ]
    }
   ],
   "source": [
    "%load_ext autoreload\n",
    "\n",
    "%autoreload 2\n",
    "\n",
    "import numpy as np\n",
    "from collections import namedtuple\n",
    "from scipy.interpolate import InterpolatedUnivariateSpline\n",
    "from scipy.stats import norm\n",
    "from copy import *\n",
    "from numpy.matlib import * \n",
    "from scipy.optimize import *\n",
    "from dc_egm import interpolate, chop, upper_envelope,diff\n",
    "from copy import *\n",
    "import scipy.interpolate as scin\n"
   ]
  },
  {
   "cell_type": "code",
   "execution_count": 225,
   "metadata": {},
   "outputs": [],
   "source": [
    "# There potentially is a pythonic solution that would make this function obsolete\n",
    "def quadrature(n, lbnd, ubnd):\n",
    "    \n",
    "    x1 = lbnd\n",
    "    x2 = ubnd\n",
    "    x = np.zeros(n)\n",
    "    w = x\n",
    "    EPS = 3e-14\n",
    "    m = int(round((n+EPS)/2)) # flor function in matlab, rounding to the lower integer\n",
    "    xm = (x2+x1)/2\n",
    "    xl = (x2-x1)/2\n",
    "    z1 = 1e99\n",
    "\n",
    "    x = np.full(n+1, np.nan)\n",
    "    w = np.full(n+1, np.nan)\n",
    "\n",
    "    i = 1\n",
    "\n",
    "    while i <= m:\n",
    "\n",
    "        z = math.cos(math.pi*(i - 0.25)/(n + 0.5))\n",
    "\n",
    "        while abs(z - z1) > EPS:\n",
    "            p1 = 1\n",
    "            p2 = 0\n",
    "            j = 1\n",
    "\n",
    "            while j <= n:\n",
    "                p3 = p2\n",
    "                p2 = p1\n",
    "                p1 = ((2*j -1)*z*p2 - (j-1)*p3)/j\n",
    "                j += 1\n",
    "\n",
    "            pp = n*(z*p1 - p2)/(z*z - 1)\n",
    "            z1 = z\n",
    "            z = z1 - p1/pp\n",
    "\n",
    "        x[i] = xm - xl*z\n",
    "        x[n + 1 - i] = xm + xl*z\n",
    "        w[i] = 2*xl/((1-z*z)*pp*pp)\n",
    "        w[n + 1 - i] = w[i]\n",
    "        i += 1\n",
    "\n",
    "    x = x[1:]\n",
    "    w = w[1:]\n",
    "\n",
    "    return x, w"
   ]
  },
  {
   "cell_type": "code",
   "execution_count": 226,
   "metadata": {},
   "outputs": [],
   "source": [
    "# Model parameters (default)\n",
    "\n",
    "Tbar = 25 # number of periods (fist period is t=1) \n",
    "ngridm = 500 # number of grid points over assets\n",
    "mmax = 50 # maximum level of assets\n",
    "expn = 5 # number of quadrature points used in calculation of expectations\n",
    "nsims = 10 # number of simulations\n",
    "init = [10, 30] # interval of the initial wealth\n",
    "r = 0.05 # interest rate\n",
    "df = 0.95 # discount factor\n",
    "sigma = 0.25 # sigma parameter in income shocks\n",
    "duw = 0.35 #disutility of work\n",
    "theta = 1.95 # CRRA coefficient (log utility if ==1)\n",
    "inc0 = 0.75 # income equation: constant\n",
    "inc1 = 0.04 # income equation: age coef\n",
    "inc2 = 0.0002 # income equation: age^2 coef\n",
    "cfloor =0.001 # consumption floor (safety net in retirement)\n",
    "lambda_ = 0.02 # scale of the EV taste shocks "
   ]
  },
  {
   "cell_type": "code",
   "execution_count": 227,
   "metadata": {},
   "outputs": [],
   "source": [
    "# Functions: utility and budget constraint\n",
    "\n",
    "def util(consumption, working):\n",
    "    \"\"\"CRRA utility\"\"\"\n",
    "    \n",
    "    u = (consumption**(1-theta)-1)/(1-theta)\n",
    "    u = u - duw*(working)\n",
    "    \n",
    "    return u\n",
    "\n",
    "def mutil(consumption):\n",
    "    \"\"\"Marginal utility CRRA\"\"\"\n",
    "    \n",
    "    mu = consumption**(-theta)\n",
    "    \n",
    "    return mu\n",
    "\n",
    "def imutil(mutil):\n",
    "    \"\"\"Inverse marginal utility CRRA\n",
    "    Consumption as a function of marginal utility\"\"\"\n",
    "    \n",
    "    cons = mutil**(-1/theta)\n",
    "    \n",
    "    return cons\n",
    "\n",
    "\n",
    "def income(it, shock):\n",
    "    \"\"\"Income in period it given normal shock\"\"\"\n",
    "    \n",
    "    age = it + 20 # matlab strats counting at 1, Python at zero\n",
    "    w = np.exp(inc0 + inc1*age - inc2*age**2 + shock)\n",
    "    \n",
    "    return w\n",
    "\n",
    "\n",
    "def budget(it, savings, shocks, working):\n",
    "    \"\"\"Wealth, M_{t+1} in period t+1, where it == t\n",
    "    \n",
    "    Arguments\n",
    "    ---------\n",
    "        savings: np.array of savings with length ngridm\n",
    "        shocks: np.array of shocks with length expn\n",
    "    \n",
    "    Returns\n",
    "    -------\n",
    "        w1: matrix with dimension (expn, ngridm) of all possible\n",
    "    next period wealths\n",
    "    \"\"\"\n",
    "    \n",
    "    w1 = np.full((ngridm, expn), income(it + 1, shocks)*working).T + np.full((expn, ngridm), savings*(1+r))\n",
    "    \n",
    "    return w1\n",
    "\n",
    "def mbudget():\n",
    "    \"\"\"Marginal budget:\n",
    "    Derivative of budget with respect to savings\"\"\"\n",
    "    \n",
    "    mw1 = np.full((expn, ngridm), (1+r))\n",
    "    \n",
    "    return mw1"
   ]
  },
  {
   "cell_type": "code",
   "execution_count": 228,
   "metadata": {},
   "outputs": [],
   "source": [
    "# Value function for worker\n",
    "# interpolate and extrapolate are potentially substitutable by the interpolate function below\n",
    "\n",
    "def value_function(working, it, x):\n",
    "    \"\"\"Value function calculation for the \"\"\"\n",
    "    \n",
    "    x = x.flatten('F')\n",
    "    \n",
    "    res = np.full(x.shape, np.nan)\n",
    "    \n",
    "    # Mark constrained region\n",
    "    mask = x < value[1, 0, working, it] # credit constraint between 1st (M_{t+1) = 0) and second point (A_{t+1} = 0)\n",
    "    \n",
    "    # Calculate t+1 value function in the constrained region\n",
    "    res[mask] = util(x[mask], working) + df*value[0, 1, working, it]\n",
    "    \n",
    "    # Calculate t+1 value function in non-constrained region\n",
    "    # interpolate\n",
    "    res[~mask] = np.interp(x[~mask], value[:, 0, working, it], value[:, 1, working, it])\n",
    "    # extrapolate\n",
    "    slope = (value[-2, 1, working, it] - value[-1, 1, working, it])/(value[-2, 0, working, it] - value[-1, 0, working, it])\n",
    "    intercept = value[-1, 1, working, it] - value[-1, 0, working, it]*slope\n",
    "    res[res == np.max(value[:, 1, working, it])] = intercept + slope*x[res == np.max(value[:, 1, working, it])]\n",
    "\n",
    "    return res"
   ]
  },
  {
   "cell_type": "code",
   "execution_count": 229,
   "metadata": {},
   "outputs": [],
   "source": [
    "# Calculation of probability to choose work, if a worker today\n",
    "def chpr(x):\n",
    "    \"\"\"Calculate the probability of choosing work in t+1\n",
    "    for state worker given t+1 value functions\"\"\"\n",
    "    \n",
    "    mx = np.amax(x, axis = 0)\n",
    "    mxx = x - mx\n",
    "    res = np.exp(mxx[1, :]/lambda_)/np.sum(np.exp(mxx/lambda_), axis = 0)\n",
    "    \n",
    "    return res"
   ]
  },
  {
   "cell_type": "code",
   "execution_count": 230,
   "metadata": {},
   "outputs": [],
   "source": [
    "# Expected value function calculation in state worker\n",
    "def logsum(x):\n",
    "    \"\"\"Calculate expected value function\"\"\"\n",
    "    \n",
    "    mx = np.amax(x, axis = 0)\n",
    "    mxx = x - mx\n",
    "    res = mx + lambda_*np.log(np.sum(np.exp(mxx/lambda_), axis = 0))\n",
    "    \n",
    "    return res"
   ]
  },
  {
   "cell_type": "markdown",
   "metadata": {},
   "source": [
    "m0 parametrisation - minimal shocks\n",
    "--------------------------------------------"
   ]
  },
  {
   "cell_type": "code",
   "execution_count": 231,
   "metadata": {},
   "outputs": [],
   "source": [
    "# Minimal shocks\n",
    "sigma = 0\n",
    "lambda_ = 2.2204e-16"
   ]
  },
  {
   "cell_type": "code",
   "execution_count": 232,
   "metadata": {},
   "outputs": [],
   "source": [
    "# Initialize grids\n",
    "quadp, quadw = quadrature(expn,0,1)\n",
    "quadstnorm = scps.norm.ppf(quadp)\n",
    "savingsgrid = np.linspace(0, mmax, ngridm)"
   ]
  },
  {
   "cell_type": "code",
   "execution_count": 233,
   "metadata": {},
   "outputs": [],
   "source": [
    "# Initialize containers\n",
    "\n",
    "# Container for endogenous gridpoints of (beginning-of-period) assets\n",
    "# and corresponding consumption\n",
    "policy = np.full((ngridm + 1, 2, 2, Tbar), np.nan)\n",
    "\n",
    "# Value functions\n",
    "value = np.full((ngridm + 1, 2, 2, Tbar), np.nan)"
   ]
  },
  {
   "cell_type": "code",
   "execution_count": 234,
   "metadata": {},
   "outputs": [],
   "source": [
    "# Handling of last period and first elements\n",
    "# policy\n",
    "policy[1:, 0, 0, Tbar-1] = savingsgrid\n",
    "policy[1:, 0, 1, Tbar-1] = savingsgrid\n",
    "policy[1:, 1, :, Tbar-1] = policy[1:, 0, :, Tbar-1]\n",
    "policy[0, :, :, :] = 0.00"
   ]
  },
  {
   "cell_type": "code",
   "execution_count": 235,
   "metadata": {},
   "outputs": [],
   "source": [
    "# value\n",
    "value[2:, 0, :, Tbar-1] = util(policy[2:, 0, :, Tbar-1], 0)\n",
    "value[2:, 1, :, Tbar-1] = util(policy[2:, 0, :, Tbar-1], 1)\n",
    "value[0:2, :, :, Tbar -1] = 0.00\n",
    "value[0, 0, :, :] = 0.00"
   ]
  },
  {
   "cell_type": "code",
   "execution_count": null,
   "metadata": {},
   "outputs": [],
   "source": []
  },
  {
   "cell_type": "code",
   "execution_count": 236,
   "metadata": {},
   "outputs": [],
   "source": [
    "# Solve workers problem with EGM for period T-1, T-2 and T-3\n",
    "# The EGM step already yields the same result as the matlab code for T-1 and T-2\n",
    "# Difference in result for T-3 => DC step has to be performed after the EGM step\n",
    "for period in [23, 22, 21]:\n",
    "    \n",
    "    for choice in[0, 1]:\n",
    "        # M_{t+1}\n",
    "        wk1 = budget(period, savingsgrid, quadstnorm*sigma, choice)\n",
    "        wk1[wk1 < cfloor] = cfloor\n",
    "\n",
    "        # Value function\n",
    "        vl1 = np.full((2, ngridm * expn), np.nan)\n",
    "\n",
    "        if period + 1 == Tbar - 1:\n",
    "            vl1[0, :] = util(wk1, 0).flatten('F')\n",
    "            vl1[1, :] = util(wk1, 1).flatten('F')\n",
    "        else:\n",
    "            vl1[1, :] = value_function(1, period + 1, wk1) # value function in t+1 if choice in t+1 is work\n",
    "            vl1[0, :] = value_function(0, period + 1, wk1) # value function in t+1 if choice in t+1 is retiree\n",
    "\n",
    "        # Probability of choosing work in t+1\n",
    "        if choice == 0:\n",
    "            # Probability of choosing work in t+1\n",
    "            pr1 = np.full(2500, 0.00)\n",
    "        else:\n",
    "            pr1 = chpr(vl1)\n",
    "\n",
    "        # Next period consumption based on interpolation and extrapolation\n",
    "        # given grid points and associated consumption\n",
    "        cons10 = np.interp(wk1, policy[:, 0, 0, period + 1], policy[:, 1, 0, period+1])\n",
    "        # extrapolate linearly right of max grid point\n",
    "        slope = (policy[-2, 1, 0, period + 1] - policy[-1, 1, 0, period + 1])/(policy[-2, 0, 0, period + 1] - policy[-1, 0, 0, period + 1])\n",
    "        intercept = policy[-1, 1, 0, period + 1] - policy[-1, 0, 0, period + 1]*slope\n",
    "        cons10[cons10 == np.max(policy[:, 1, 0, period+1])] = intercept + slope*wk1[cons10 == np.max(policy[:, 1, 0, period+1])]\n",
    "        cons10_flat = cons10.flatten('F')\n",
    "\n",
    "        cons11 = np.interp(wk1, policy[:, 0, 1, period + 1], policy[:, 1, 1, period+1])\n",
    "        # extrapolate linearly right of max grid point\n",
    "        slope = (policy[-2, 1, 1, period + 1] - policy[-1, 1, 1, period + 1])/(policy[-2, 0, 1, period + 1] - policy[-1, 0, 1, period + 1])\n",
    "        intercept = policy[-1, 1, 1, period + 1] - policy[-1, 0, 1, period + 1]*slope\n",
    "        cons11[cons11 == np.max(policy[:, 1, 1, period+1])] = intercept + slope*wk1[cons11 == np.max(policy[:, 1, 1, period+1])]\n",
    "        cons11_flat = cons11.flatten('F')\n",
    "\n",
    "        # Marginal utility of expected consumption next period\n",
    "        mu1 = pr1*mutil(cons11_flat) + (1 - pr1)*mutil(cons10_flat)\n",
    "\n",
    "        # Marginal budget\n",
    "        # Note: Constant for this model formulation (1+r)\n",
    "        mwk1 = mbudget()\n",
    "\n",
    "        # RHS of Euler eq., p 337, integrate out error of y\n",
    "        rhs = np.dot(quadw.T, np.multiply(mu1.reshape(wk1.shape, order = 'F'), mwk1))\n",
    "        # Current period consumption from Euler equation\n",
    "        \n",
    "        cons0 = imutil(df*rhs)\n",
    "        # Update containers related to consumption\n",
    "        policy[1:, 1, choice, period] = cons0\n",
    "        policy[1:, 0, choice, period] = savingsgrid + cons0\n",
    "\n",
    "\n",
    "        if choice == 1:\n",
    "            # Calculate continuation value\n",
    "            ev = np.dot(quadw.T, logsum(vl1).reshape(wk1.shape, order = 'F'))\n",
    "        else:\n",
    "            ev = np.dot(quadw.T, vl1[0, :].reshape(wk1.shape, order = 'F'))\n",
    "\n",
    "        # Update value function related containers\n",
    "        value[1:, 1, choice, period] = util(cons0, choice) + df*ev\n",
    "        value[1:, 0, choice, period] = savingsgrid + cons0\n",
    "        value[0, 1, choice, period] = ev[0]"
   ]
  },
  {
   "cell_type": "code",
   "execution_count": 237,
   "metadata": {},
   "outputs": [
    {
     "data": {
      "text/plain": [
       "array([0.91252708, 1.42959855, 1.4328254 , 1.43597492, 1.4390499 ,\n",
       "       1.44205296, 1.44498662, 1.44785329, 1.45065524, 1.45339466,\n",
       "       1.45607365, 1.45869419, 1.46125819, 1.46376747, 1.46622379,\n",
       "       1.46862882, 1.47098416, 1.47329135, 1.47555186, 1.4777671 ,\n",
       "       1.47993843, 1.48206717, 1.48415454, 1.48620178, 1.48821001,\n",
       "       1.49018037, 1.49211392, 1.49401169, 1.49587468, 1.49770383,\n",
       "       1.49950008, 1.5012643 , 1.50299736, 1.50470007, 1.50637324,\n",
       "       1.50801764, 1.509634  , 1.51122304, 1.51278546, 1.51432192,\n",
       "       1.51583308, 1.51731955, 1.51878194, 1.52022084, 1.52163681,\n",
       "       1.52303041, 1.52440215, 1.52575256, 1.52708214, 1.52839136,\n",
       "       1.5296807 , 1.5309506 , 1.53220152, 1.53343386, 1.53464805,\n",
       "       1.5358445 , 1.53702358, 1.53818567, 1.53933116, 1.54046038,\n",
       "       1.54157369, 1.54267142, 1.54375391, 1.54482147, 1.5458744 ,\n",
       "       1.54691302, 1.54793761, 1.54894845, 1.54994583, 1.55093002,\n",
       "       1.55190127, 1.55285984, 1.55380598, 1.55473994, 1.55566194,\n",
       "       1.55657222, 1.557471  , 1.55835851, 1.55923495, 1.56010052,\n",
       "       1.56095545, 1.56179991, 1.5626341 , 1.56345821, 1.56427243,\n",
       "       1.56507693, 1.56587189, 1.56665747, 1.56743385, 1.56820118,\n",
       "       1.56895963, 1.56970934, 1.57045047, 1.57118317, 1.57190759,\n",
       "       1.57262385, 1.57333211, 1.57403249, 1.57472512, 1.57541015,\n",
       "       1.57608768, 1.57675785, 1.57742078, 1.57807658, 1.57872536,\n",
       "       1.57936725, 1.58000235, 1.58063077, 1.58125261, 1.58186798,\n",
       "       1.58247699, 1.58307972, 1.58367628, 1.58426676, 1.58485125,\n",
       "       1.58542985, 1.58600265, 1.58656973, 1.58713118, 1.58768708,\n",
       "       1.58823752, 1.58878257, 1.58932232, 1.58985685, 1.59038622,\n",
       "       1.59091052, 1.59142982, 1.59194418, 1.59245369, 1.5929584 ,\n",
       "       1.59345839, 1.59395373, 1.59444447, 1.59493069, 1.59541244,\n",
       "       1.59588979, 1.5963628 , 1.59683153, 1.59729603, 1.59775636,\n",
       "       1.59821259, 1.59866476, 1.59911293, 1.59955715, 1.59999747,\n",
       "       1.60043396, 1.60086664, 1.60129559, 1.60172084, 1.60214244,\n",
       "       1.60256045, 1.6029749 , 1.60338584, 1.60379332, 1.60419738,\n",
       "       1.60459806, 1.60499541, 1.60538947, 1.60578028, 1.60616787,\n",
       "       1.6065523 , 1.60693359, 1.6073118 , 1.60768694, 1.60805907,\n",
       "       1.60842822, 1.60879442, 1.60915771, 1.60951813, 1.6098757 ,\n",
       "       1.61023047, 1.61058246, 1.61093171, 1.61127826, 1.61162212,\n",
       "       1.61196334, 1.61230195, 1.61263796, 1.61297143, 1.61330236,\n",
       "       1.6136308 , 1.61395677, 1.6142803 , 1.61460141, 1.61492014,\n",
       "       1.61523651, 1.61555054, 1.61586227, 1.61617172, 1.61647891,\n",
       "       1.61678386, 1.61708661, 1.61738718, 1.61768558, 1.61798185,\n",
       "       1.61827601, 1.61856808, 1.61885807, 1.61914603, 1.61943195,\n",
       "       1.61971588, 1.61999782, 1.6202778 , 1.62055585, 1.62083197,\n",
       "       1.62110619, 1.62137853, 1.62164901, 1.62191765, 1.62218447,\n",
       "       1.62244948, 1.6227127 , 1.62297416, 1.62323387, 1.62349185,\n",
       "       1.62374811, 1.62400267, 1.62425556, 1.62450678, 1.62475635,\n",
       "       1.62500429, 1.62525062, 1.62549535, 1.62573849, 1.62598007,\n",
       "       1.62622009, 1.62645858, 1.62669554, 1.62693099, 1.62716495,\n",
       "       1.62739744, 1.62762845, 1.62785802, 1.62808615, 1.62831285,\n",
       "       1.62853814, 1.62876204, 1.62898455, 1.62920569, 1.62942547,\n",
       "       1.6296439 , 1.629861  , 1.63007678, 1.63029125, 1.63050443,\n",
       "       1.63071632, 1.63092693, 1.63113628, 1.63134438, 1.63155124,\n",
       "       1.63175688, 1.63196129, 1.6321645 , 1.63236652, 1.63256734,\n",
       "       1.632767  , 1.63296549, 1.63316282, 1.63335901, 1.63355407,\n",
       "       1.633748  , 1.63394082, 1.63413254, 1.63432316, 1.63451269,\n",
       "       1.63470115, 1.63488854, 1.63507487, 1.63526015, 1.6354444 ,\n",
       "       1.63562761, 1.6358098 , 1.63599097, 1.63617114, 1.63635032,\n",
       "       1.6365285 , 1.6367057 , 1.63688194, 1.6370572 , 1.63723151,\n",
       "       1.63740488, 1.6375773 , 1.63774879, 1.63791935, 1.638089  ,\n",
       "       1.63825773, 1.63842556, 1.6385925 , 1.63875855, 1.63892371,\n",
       "       1.63908801, 1.63925143, 1.639414  , 1.63957571, 1.63973657,\n",
       "       1.6398966 , 1.64005579, 1.64021415, 1.64037169, 1.64052842,\n",
       "       1.64068435, 1.64083947, 1.64099379, 1.64114733, 1.64130008,\n",
       "       1.64145206, 1.64160326, 1.6417537 , 1.64190338, 1.64205231,\n",
       "       1.64220049, 1.64234793, 1.64249463, 1.6426406 , 1.64278584,\n",
       "       1.64293037, 1.64307418, 1.64321728, 1.64335967, 1.64350137,\n",
       "       1.64364238, 1.64378269, 1.64392232, 1.64406128, 1.64419956,\n",
       "       1.64433717, 1.64447412, 1.64461041, 1.64474605, 1.64488103,\n",
       "       1.64501538, 1.64514908, 1.64528214, 1.64541458, 1.64554639,\n",
       "       1.64567758, 1.64580815, 1.64593811, 1.64606746, 1.6461962 ,\n",
       "       1.64632435, 1.6464519 , 1.64657885, 1.64670522, 1.64683101,\n",
       "       1.64695622, 1.64708085, 1.64720491, 1.6473284 , 1.64745133,\n",
       "       1.6475737 , 1.64769552, 1.64781678, 1.64793749, 1.64805766,\n",
       "       1.64817729, 1.64829639, 1.64841494, 1.64853297, 1.64865048,\n",
       "       1.64876746, 1.64888392, 1.64899986, 1.6491153 , 1.64923022,\n",
       "       1.64934464, 1.64945856, 1.64957197, 1.6496849 , 1.64979733,\n",
       "       1.64990927, 1.65002072, 1.6501317 , 1.65024219, 1.65035221,\n",
       "       1.65046175, 1.65057083, 1.65067943, 1.65078758, 1.65089526,\n",
       "       1.65100248, 1.65110925, 1.65121557, 1.65132143, 1.65142685,\n",
       "       1.65153183, 1.65163637, 1.65174047, 1.65184413, 1.65194736,\n",
       "       1.65205016, 1.65215253, 1.65225448, 1.65235601, 1.65245712,\n",
       "       1.65255781, 1.65265809, 1.65275795, 1.65285741, 1.65295646,\n",
       "       1.65305511, 1.65315336, 1.6532512 , 1.65334866, 1.65344571,\n",
       "       1.65354238, 1.65363866, 1.65373455, 1.65383005, 1.65392517,\n",
       "       1.65401992, 1.65411428, 1.65420828, 1.65430189, 1.65439514,\n",
       "       1.65448802, 1.65458053, 1.65467268, 1.65476446, 1.65485589,\n",
       "       1.65494696, 1.65503767, 1.65512803, 1.65521804, 1.6553077 ,\n",
       "       1.65539701, 1.65548597, 1.6555746 , 1.65566288, 1.65575082,\n",
       "       1.65583843, 1.65592569, 1.65601263, 1.65609924, 1.65618551,\n",
       "       1.65627146, 1.65635708, 1.65644238, 1.65652735, 1.65661201,\n",
       "       1.65669634, 1.65678036, 1.65686407, 1.65694746, 1.65703054,\n",
       "       1.65711331, 1.65719578, 1.65727793, 1.65735979, 1.65744134,\n",
       "       1.65752259, 1.65760354, 1.65768419, 1.65776454, 1.65784461,\n",
       "       1.65792438, 1.65800385, 1.65808304, 1.65816194, 1.65824056,\n",
       "       1.65831889, 1.65839694, 1.6584747 , 1.65855219, 1.65862939,\n",
       "       1.65870632, 1.65878298, 1.65885935, 1.65893546, 1.6590113 ,\n",
       "       1.65908686, 1.65916216, 1.65923719, 1.65931196, 1.65938646,\n",
       "       1.6594607 , 1.65953468, 1.6596084 , 1.65968186, 1.65975506,\n",
       "       1.65982801, 1.6599007 , 1.65997314, 1.66004533, 1.66011727,\n",
       "       1.66018896, 1.6602604 , 1.6603316 , 1.66040255, 1.66047325,\n",
       "       1.66054372, 1.66061394, 1.66068392, 1.66075367, 1.66082317,\n",
       "       1.66089244, 1.66096148, 1.66103028, 1.66109884, 1.66116718,\n",
       "       1.66123529])"
      ]
     },
     "execution_count": 237,
     "metadata": {},
     "output_type": "execute_result"
    }
   ],
   "source": [
    "value[:, 1, 1, 23]"
   ]
  },
  {
   "cell_type": "code",
   "execution_count": 82,
   "metadata": {},
   "outputs": [],
   "source": [
    "with open('m0_value.pkl', 'rb') as file : \n",
    "    m0_value = pickle.load(file)\n",
    "\n",
    "with open('m0_policy.pkl', 'rb') as file : \n",
    "    m0_policy = pickle.load(file)"
   ]
  },
  {
   "cell_type": "code",
   "execution_count": 60,
   "metadata": {},
   "outputs": [],
   "source": [
    "# Verify that EGM already yields correct solution for t-1 and t-2 in value\n",
    "np.testing.assert_almost_equal(m0_value[0:501, 1, 1, 22], value[:, 1, 1, 22])"
   ]
  },
  {
   "cell_type": "code",
   "execution_count": 61,
   "metadata": {},
   "outputs": [],
   "source": [
    "np.testing.assert_almost_equal(m0_value[0:501, 1, 0, 22], value[:, 1, 0, 22])"
   ]
  },
  {
   "cell_type": "code",
   "execution_count": 62,
   "metadata": {},
   "outputs": [],
   "source": [
    "# Verify that EGM already yields correct solution for t-1 and t-2 in policy\n",
    "np.testing.assert_almost_equal(m0_policy[0:501, 1, 1, 22], policy[:, 1, 1, 22])"
   ]
  },
  {
   "cell_type": "code",
   "execution_count": 63,
   "metadata": {},
   "outputs": [],
   "source": [
    "np.testing.assert_almost_equal(m0_policy[0:501, 1, 0, 22], policy[:, 1, 0, 22])"
   ]
  },
  {
   "cell_type": "code",
   "execution_count": 148,
   "metadata": {},
   "outputs": [
    {
     "data": {
      "text/plain": [
       "array([-2.12269774e+03, -2.75980810e+03, -1.12058718e+03, -4.41607496e+02,\n",
       "       -2.81369826e+01, -2.16432559e+01, -1.65814677e+01, -1.26072883e+01,\n",
       "       -1.05387511e+01, -8.78154880e+00, -7.30430272e+00, -6.28485664e+00,\n",
       "       -5.39026599e+00, -4.61280653e+00, -4.00421184e+00, -3.46156104e+00,\n",
       "       -2.97982042e+00, -2.57460113e+00, -2.21011855e+00, -1.88137302e+00,\n",
       "       -1.59178817e+00, -1.33002698e+00, -1.09084792e+00, -8.73615204e-01,\n",
       "       -6.76243625e-01, -4.94092139e-01, -3.25598043e-01, -1.70843491e-01,\n",
       "       -2.72854700e-02,  1.07209644e-01,  2.31876542e-01,  3.48076254e-01,\n",
       "        4.57907344e-01,  5.60531714e-01,  6.56616505e-01,  7.47984688e-01,\n",
       "        8.33971184e-01,  9.14824022e-01,  9.92010735e-01,  1.06512608e+00,\n",
       "        1.13416048e+00,  1.20021748e+00,  1.26316811e+00,  1.32284343e+00,\n",
       "        1.38000500e+00,  1.43472125e+00,  1.48691996e+00,  1.53685962e+00,\n",
       "        1.58482405e+00,  1.63094007e+00,  1.67493625e+00,  1.71734840e+00,\n",
       "        1.75839370e+00,  1.79743989e+00,  1.83522987e+00,  1.87200301e+00,\n",
       "        1.90688298e+00,  1.94078319e+00,  1.97392283e+00,  2.00526327e+00,\n",
       "        2.03585832e+00,  2.06588147e+00,  2.09418943e+00,  2.12194205e+00,\n",
       "        2.14925008e+00,  2.17496108e+00,  2.20025382e+00,  2.22511592e+00,\n",
       "        2.24866082e+00,  2.27181802e+00,  2.29453493e+00,  2.31619893e+00,\n",
       "        2.33747692e+00,  2.35832054e+00,  2.37832210e+00,  2.39793777e+00,\n",
       "        2.41713584e+00,  2.43566071e+00,  2.45379882e+00,  2.47154351e+00,\n",
       "        2.48875067e+00,  2.50556960e+00,  2.52202419e+00,  2.53805051e+00,\n",
       "        2.55368679e+00,  2.56899093e+00,  2.58395486e+00,  2.59852683e+00,\n",
       "        2.61280063e+00,  2.62678576e+00,  2.64041600e+00,  2.65376332e+00,\n",
       "        2.66686038e+00,  2.67963849e+00,  2.69214963e+00,  2.70443899e+00,\n",
       "        2.71644299e+00,  2.72819682e+00,  2.73974946e+00,  2.75104811e+00])"
      ]
     },
     "execution_count": 148,
     "metadata": {},
     "output_type": "execute_result"
    }
   ],
   "source": [
    "# Difference in t-3\n",
    "value[0:100, 1, 0, 21]"
   ]
  },
  {
   "cell_type": "code",
   "execution_count": 173,
   "metadata": {},
   "outputs": [
    {
     "data": {
      "text/plain": [
       "array([-2.12269774e+03, -2.75980810e+03, -1.12058718e+03, -4.41607496e+02,\n",
       "       -2.81369826e+01, -2.16432559e+01, -1.65814677e+01, -1.26072883e+01,\n",
       "       -1.05387511e+01, -8.78154880e+00, -7.30430272e+00, -6.28485664e+00,\n",
       "       -5.39026599e+00, -4.61280653e+00, -4.00421184e+00, -3.46156104e+00,\n",
       "       -2.97982042e+00, -2.57460113e+00, -2.21011855e+00, -1.88137302e+00,\n",
       "       -1.59178817e+00, -1.33002698e+00, -1.09084792e+00, -8.73615204e-01,\n",
       "       -6.76243625e-01, -4.94092139e-01, -3.25598043e-01, -1.70843491e-01,\n",
       "       -2.72854700e-02,  1.07209644e-01,  2.31876542e-01,  3.48076254e-01,\n",
       "        4.57907344e-01,  5.60531714e-01,  6.56616505e-01,  7.47984688e-01,\n",
       "        8.33971184e-01,  9.14824022e-01,  9.92010735e-01,  1.06512608e+00,\n",
       "        1.13416048e+00,  1.20021748e+00,  1.26316811e+00,  1.32284343e+00,\n",
       "        1.38000500e+00,  1.43472125e+00,  1.48691996e+00,  1.53685962e+00,\n",
       "        1.58482405e+00,  1.63094007e+00,  1.67493625e+00,  1.71734840e+00,\n",
       "        1.75839370e+00,  1.79743989e+00,  1.83522987e+00,  1.87200301e+00,\n",
       "        1.90688298e+00,  1.94078319e+00,  1.97392283e+00,  2.00526327e+00,\n",
       "        2.03585832e+00,  2.06588147e+00,  2.09418943e+00,  2.12194205e+00,\n",
       "        2.14925008e+00,  2.17496108e+00,  2.20025382e+00,  2.22511592e+00,\n",
       "        2.24866082e+00,  2.27181802e+00,  2.29453493e+00,  2.31619893e+00,\n",
       "        2.33747692e+00,  2.35832054e+00,  2.37832210e+00,  2.39793777e+00,\n",
       "        2.41713584e+00,  2.43566071e+00,  2.45379882e+00,  2.47154351e+00,\n",
       "        2.48875067e+00,  2.50556960e+00,  2.52202419e+00,  2.53805051e+00,\n",
       "        2.55368679e+00,  2.56899093e+00,  2.58395486e+00,  2.59852683e+00,\n",
       "        2.61280063e+00,  2.62678576e+00,  2.64041600e+00,  2.65376332e+00,\n",
       "        2.66686038e+00,  2.67963849e+00,  2.69214963e+00,  2.70443899e+00,\n",
       "        2.71644299e+00,  2.72819682e+00,  2.73974946e+00,  2.75104811e+00])"
      ]
     },
     "execution_count": 173,
     "metadata": {},
     "output_type": "execute_result"
    }
   ],
   "source": [
    "m0_value[:100, 1, 0, 21]"
   ]
  },
  {
   "cell_type": "code",
   "execution_count": 22,
   "metadata": {
    "scrolled": true
   },
   "outputs": [
    {
     "data": {
      "text/plain": [
       "array([ 0.        ,  5.52589268,  5.66298055,  5.80006842,  5.93715629,\n",
       "        6.07424416,  6.21133203,  6.3484199 ,  6.48550777,  6.62259564,\n",
       "        6.75968351,  6.89677138,  7.03385925,  7.17094712,  7.308035  ,\n",
       "        7.44512287,  7.58221074,  7.71929861,  7.85638648,  7.99347435,\n",
       "        8.13056222,  8.26765009,  8.40473796,  8.54182583,  8.6789137 ,\n",
       "        8.81600157,  8.95308944,  6.36285742,  6.49994529,  6.63703316,\n",
       "        6.77412103,  6.9112089 ,  7.04829677,  7.18538464,  7.32247251,\n",
       "        7.45956038,  7.59664825,  7.73373612,  7.87082399,  8.00791186,\n",
       "        8.14499974,  8.28208761,  8.41917548,  8.55626335,  8.69335122,\n",
       "        8.83043909,  8.96752696,  9.10461483,  9.2417027 ,  9.37879057,\n",
       "        9.51587844,  9.65296631,  9.79005418,  9.92714205, 10.06422992,\n",
       "       10.20131779, 10.33840566, 10.47549353, 10.61258141, 10.74966928,\n",
       "       10.88675715, 11.02384502, 11.16093289, 11.29802076, 11.43510863,\n",
       "       11.5721965 , 11.70928437, 11.84637224, 11.98346011, 12.12054798,\n",
       "       12.25763585, 12.39472372, 12.53181159, 12.66889946, 12.80598733,\n",
       "       12.9430752 , 13.08016308, 13.21725095, 13.35433882, 13.49142669,\n",
       "       13.62851456, 13.76560243, 13.9026903 , 14.03977817, 14.17686604,\n",
       "       14.31395391, 14.45104178, 14.58812965, 14.72521752, 14.86230539,\n",
       "       14.99939326, 15.13648113, 15.273569  , 15.41065687, 15.54774475,\n",
       "       15.68483262, 15.82192049, 15.95900836, 16.09609623, 16.2331841 ,\n",
       "       16.37027197, 16.50735984, 16.64444771, 16.78153558, 16.91862345,\n",
       "       17.05571132, 17.19279919, 17.32988706, 17.46697493, 17.6040628 ,\n",
       "       17.74115067, 17.87823854, 18.01532641, 18.15241429, 18.28950216,\n",
       "       18.42659003, 18.5636779 , 18.70076577, 18.83785364, 18.97494151,\n",
       "       19.11202938, 19.24911725, 19.38620512, 19.52329299, 19.66038086,\n",
       "       19.79746873, 19.9345566 , 20.07164447, 20.20873234, 20.34582021,\n",
       "       20.48290808, 20.61999596, 20.75708383, 20.8941717 , 21.03125957,\n",
       "       21.16834744, 21.30543531, 21.44252318, 21.57961105, 21.71669892,\n",
       "       21.85378679, 21.99087466, 22.12796253, 22.2650504 , 22.40213827,\n",
       "       22.53922614, 22.67631401, 22.81340188, 22.95048975, 23.08757763,\n",
       "       23.2246655 , 23.36175337, 23.49884124, 23.63592911, 23.77301698,\n",
       "       23.91010485, 24.04719272, 24.18428059, 24.32136846, 24.45845633,\n",
       "       24.5955442 , 24.73263207, 24.86971994, 25.00680781, 25.14389568,\n",
       "       25.28098355, 25.41807142, 25.5551593 , 25.69224717, 25.82933504,\n",
       "       25.96642291, 26.10351078, 26.24059865, 26.37768652, 26.51477439,\n",
       "       26.65186226, 26.78895013, 26.926038  , 27.06312587, 27.20021374,\n",
       "       27.33730161, 27.47438948, 27.61147735, 27.74856522, 27.88565309,\n",
       "       28.02274096, 28.15982884, 28.29691671, 28.43400458, 28.57109245,\n",
       "       28.70818032, 28.84526819, 28.98235606, 29.11944393, 29.2565318 ,\n",
       "       29.39361967, 29.53070754, 29.66779541, 29.80488328, 29.94197115,\n",
       "       30.07905902, 30.21614689, 30.35323476, 30.49032263, 30.62741051,\n",
       "       30.76449838, 30.90158625, 31.03867412, 31.17576199, 31.31284986,\n",
       "       31.44993773, 31.5870256 , 31.72411347, 31.86120134, 31.99828921,\n",
       "       32.13537708, 32.27246495, 32.40955282, 32.54664069, 32.68372856,\n",
       "       32.82081643, 32.9579043 , 33.09499218, 33.23208005, 33.36916792,\n",
       "       33.50625579, 33.64334366, 33.78043153, 33.9175194 , 34.05460727,\n",
       "       34.19169514, 34.32878301, 34.46587088, 34.60295875, 34.74004662,\n",
       "       34.87713449, 35.01422236, 35.15131023, 35.2883981 , 35.42548597,\n",
       "       35.56257385, 35.69966172, 35.83674959, 35.97383746, 36.11092533,\n",
       "       36.2480132 , 36.38510107, 36.52218894, 36.65927681, 36.79636468,\n",
       "       36.93345255, 37.07054042, 37.20762829, 37.34471616, 37.48180403,\n",
       "       37.6188919 , 37.75597977, 37.89306764, 38.03015551, 38.16724339,\n",
       "       38.30433126, 38.44141913, 38.578507  , 38.71559487, 38.85268274,\n",
       "       38.98977061, 39.12685848, 39.26394635, 39.40103422, 39.53812209,\n",
       "       39.67520996, 39.81229783, 39.9493857 , 40.08647357, 40.22356144,\n",
       "       40.36064931, 40.49773718, 40.63482506, 40.77191293, 40.9090008 ,\n",
       "       41.04608867, 41.18317654, 41.32026441, 41.45735228, 41.59444015,\n",
       "       41.73152802, 41.86861589, 42.00570376, 42.14279163, 42.2798795 ,\n",
       "       42.41696737, 42.55405524, 42.69114311, 42.82823098, 42.96531885,\n",
       "       43.10240673, 43.2394946 , 43.37658247, 43.51367034, 43.65075821,\n",
       "       43.78784608, 43.92493395, 44.06202182, 44.19910969, 44.33619756,\n",
       "       44.47328543, 44.6103733 , 44.74746117, 44.88454904, 45.02163691,\n",
       "       45.15872478, 45.29581265, 45.43290052, 45.5699884 , 45.70707627,\n",
       "       45.84416414, 45.98125201, 46.11833988, 46.25542775, 46.39251562,\n",
       "       46.52960349, 46.66669136, 46.80377923, 46.9408671 , 47.07795497,\n",
       "       47.21504284, 47.35213071, 47.48921858, 47.62630645, 47.76339432,\n",
       "       47.90048219, 48.03757006, 48.17465794, 48.31174581, 48.44883368,\n",
       "       48.58592155, 48.72300942, 48.86009729, 48.99718516, 49.13427303,\n",
       "       49.2713609 , 49.40844877, 49.54553664, 49.68262451, 49.81971238,\n",
       "       49.95680025, 50.09388812, 50.23097599, 50.36806386, 50.50515173,\n",
       "       50.64223961, 50.77932748, 50.91641535, 51.05350322, 51.19059109,\n",
       "       51.32767896, 51.46476683, 51.6018547 , 51.73894257, 51.87603044,\n",
       "       52.01311831, 52.15020618, 52.28729405, 52.42438192, 52.56146979,\n",
       "       52.69855766, 52.83564553, 52.9727334 , 53.10982128, 53.24690915,\n",
       "       53.38399702, 53.52108489, 53.65817276, 53.79526063, 53.9323485 ,\n",
       "       54.06943637, 54.20652424, 54.34361211, 54.48069998, 54.61778785,\n",
       "       54.75487572, 54.89196359, 55.02905146, 55.16613933, 55.3032272 ,\n",
       "       55.44031507, 55.57740295, 55.71449082, 55.85157869, 55.98866656,\n",
       "       56.12575443, 56.2628423 , 56.39993017, 56.53701804, 56.67410591,\n",
       "       56.81119378, 56.94828165, 57.08536952, 57.22245739, 57.35954526,\n",
       "       57.49663313, 57.633721  , 57.77080887, 57.90789674, 58.04498461,\n",
       "       58.18207249, 58.31916036, 58.45624823, 58.5933361 , 58.73042397,\n",
       "       58.86751184, 59.00459971, 59.14168758, 59.27877545, 59.41586332,\n",
       "       59.55295119, 59.69003906, 59.82712693, 59.9642148 , 60.10130267,\n",
       "       60.23839054, 60.37547841, 60.51256628, 60.64965416, 60.78674203,\n",
       "       60.9238299 , 61.06091777, 61.19800564, 61.33509351, 61.47218138,\n",
       "       61.60926925, 61.74635712, 61.88344499, 62.02053286, 62.15762073,\n",
       "       62.2947086 , 62.43179647, 62.56888434, 62.70597221, 62.84306008,\n",
       "       62.98014795, 63.11723583, 63.2543237 , 63.39141157, 63.52849944,\n",
       "       63.66558731, 63.80267518, 63.93976305, 64.07685092, 64.21393879,\n",
       "       64.35102666, 64.48811453, 64.6252024 , 64.76229027, 64.89937814,\n",
       "       65.03646601, 65.17355388, 65.31064175, 65.44772962, 65.5848175 ,\n",
       "       65.72190537, 65.85899324, 65.99608111, 66.13316898, 66.27025685,\n",
       "       66.40734472, 66.54443259, 66.68152046, 66.81860833, 66.9556962 ,\n",
       "       67.09278407, 67.22987194, 67.36695981, 67.50404768, 67.64113555,\n",
       "       67.77822342, 67.91531129, 68.05239916, 68.18948704, 68.32657491,\n",
       "       68.46366278, 68.60075065, 68.73783852, 68.87492639, 69.01201426,\n",
       "       69.14910213, 69.28619   , 69.42327787, 69.56036574, 69.69745361,\n",
       "       69.83454148, 69.97162935, 70.10871722, 70.24580509, 70.38289296,\n",
       "       70.51998083, 70.65706871, 70.79415658, 70.93124445, 71.06833232,\n",
       "       71.20542019])"
      ]
     },
     "execution_count": 22,
     "metadata": {},
     "output_type": "execute_result"
    }
   ],
   "source": [
    "policy[:, 0, 1, period]"
   ]
  },
  {
   "cell_type": "markdown",
   "metadata": {},
   "source": [
    "Start secondary evelope\n",
    "-----------------------------\n",
    "\n",
    "To Do: Secondary envelope as a function and not line-by-line\n",
    "To Do: Handling of discontinuity in the credit constrained region, retirement_model.m 137-148"
   ]
  },
  {
   "cell_type": "code",
   "execution_count": 204,
   "metadata": {},
   "outputs": [],
   "source": [
    "def secondary_envelope(obj):\n",
    "    result = []\n",
    "    newdots = []\n",
    "    index_removed = []\n",
    "\n",
    "    for k in range(obj.shape[0]):\n",
    "        sect = []\n",
    "        cur = deepcopy(obj[k])\n",
    "        # Find discontinutiy\n",
    "        ii = cur[0][1:]>cur[0][:-1]\n",
    "        # Substitute for matlab while true loop\n",
    "        i=1\n",
    "        while_operator = True\n",
    "        while while_operator:\n",
    "            j = np.where([ii[counter] != ii[0] for counter in range(len(ii))])[0]\n",
    "            if len(j) == 0:\n",
    "                if i >1:\n",
    "                    sect += [cur]\n",
    "                while_operator=False\n",
    "            else:\n",
    "                j = min(j)\n",
    "\n",
    "                sect_container, cur = chop(cur, j, True)\n",
    "                sect += [sect_container]\n",
    "                ii = ii[j:]\n",
    "                i += 1\n",
    "        # yes we can use np.sort instead of the pre-specified function from the upper envelope notebook\n",
    "        if len(sect) > 1:\n",
    "            sect = [np.sort(i) for i in sect]\n",
    "            result_container, newdots_container = upper_envelope(sect, True, True)\n",
    "            index_removed_container = diff(obj[k], result_container, 10)\n",
    "        else:\n",
    "            result_container = obj[k]\n",
    "            index_removed_container = np.array([])\n",
    "            newdots_container = np.stack([np.array([]), np.array([])])\n",
    "        \n",
    "        result += [result_container]\n",
    "        newdots += [newdots_container]\n",
    "        index_removed += [index_removed_container]\n",
    "        \n",
    "    return result, newdots, index_removed\n"
   ]
  },
  {
   "cell_type": "code",
   "execution_count": 205,
   "metadata": {},
   "outputs": [],
   "source": [
    "for point in [21]:\n",
    "    obj = np.stack([value[1:, :, 1, point].T, value[1:, :, 0, point].T])\n",
    "    r1, new, rem = secondary_envelope(obj)\n",
    "    # Values are now equal \n",
    "    np.testing.assert_almost_equal(m0_value[0:501, 0, 1, point].T[~np.isnan(m0_value[0:501, :, 1, point].T[0])][1:], r1[0][0])\n",
    "    np.testing.assert_almost_equal(m0_value[0:501, 1, 1, point].T[~np.isnan(m0_value[0:501, :, 1, point].T[0])][1:], r1[0][1])\n",
    "    np.testing.assert_almost_equal(m0_value[0:501, 0, 0, point].T[~np.isnan(m0_value[0:501, :, 0, point].T[0])][1:], r1[1][0])\n",
    "    np.testing.assert_almost_equal(m0_value[0:501, 1, 0, point].T[~np.isnan(m0_value[0:501, :, 0, point].T[0])][1:], r1[1][1])"
   ]
  },
  {
   "cell_type": "code",
   "execution_count": 219,
   "metadata": {},
   "outputs": [
    {
     "ename": "ValueError",
     "evalue": "could not broadcast input array from shape (493) into shape (501)",
     "output_type": "error",
     "traceback": [
      "\u001b[0;31m---------------------------------------------------------------------------\u001b[0m",
      "\u001b[0;31mValueError\u001b[0m                                Traceback (most recent call last)",
      "\u001b[0;32m<ipython-input-219-72463527ef26>\u001b[0m in \u001b[0;36m<module>\u001b[0;34m\u001b[0m\n\u001b[0;32m----> 1\u001b[0;31m \u001b[0mvalue\u001b[0m\u001b[0;34m[\u001b[0m\u001b[0;34m:\u001b[0m\u001b[0;34m,\u001b[0m \u001b[0;36m0\u001b[0m\u001b[0;34m,\u001b[0m \u001b[0;36m1\u001b[0m\u001b[0;34m,\u001b[0m \u001b[0;36m21\u001b[0m\u001b[0;34m]\u001b[0m \u001b[0;34m=\u001b[0m \u001b[0mnp\u001b[0m\u001b[0;34m.\u001b[0m\u001b[0mappend\u001b[0m\u001b[0;34m(\u001b[0m\u001b[0mnp\u001b[0m\u001b[0;34m.\u001b[0m\u001b[0mappend\u001b[0m\u001b[0;34m(\u001b[0m\u001b[0mnp\u001b[0m\u001b[0;34m.\u001b[0m\u001b[0mfull\u001b[0m\u001b[0;34m(\u001b[0m\u001b[0;36m18\u001b[0m\u001b[0;34m,\u001b[0m \u001b[0mnp\u001b[0m\u001b[0;34m.\u001b[0m\u001b[0mnan\u001b[0m\u001b[0;34m)\u001b[0m\u001b[0;34m,\u001b[0m\u001b[0mnp\u001b[0m\u001b[0;34m.\u001b[0m\u001b[0marray\u001b[0m\u001b[0;34m(\u001b[0m\u001b[0;34m[\u001b[0m\u001b[0;36m0.0\u001b[0m\u001b[0;34m]\u001b[0m\u001b[0;34m)\u001b[0m\u001b[0;34m)\u001b[0m \u001b[0;34m,\u001b[0m \u001b[0mr1\u001b[0m\u001b[0;34m[\u001b[0m\u001b[0;36m0\u001b[0m\u001b[0;34m]\u001b[0m\u001b[0;34m[\u001b[0m\u001b[0;36m0\u001b[0m\u001b[0;34m]\u001b[0m\u001b[0;34m)\u001b[0m\u001b[0;34m\u001b[0m\u001b[0;34m\u001b[0m\u001b[0m\n\u001b[0m\u001b[1;32m      2\u001b[0m \u001b[0mvalue\u001b[0m\u001b[0;34m[\u001b[0m\u001b[0;34m:\u001b[0m\u001b[0;34m,\u001b[0m \u001b[0;36m1\u001b[0m\u001b[0;34m,\u001b[0m \u001b[0;36m1\u001b[0m\u001b[0;34m,\u001b[0m \u001b[0;36m21\u001b[0m\u001b[0;34m]\u001b[0m \u001b[0;34m=\u001b[0m \u001b[0mnp\u001b[0m\u001b[0;34m.\u001b[0m\u001b[0mappend\u001b[0m\u001b[0;34m(\u001b[0m\u001b[0mnp\u001b[0m\u001b[0;34m.\u001b[0m\u001b[0mappend\u001b[0m\u001b[0;34m(\u001b[0m\u001b[0mnp\u001b[0m\u001b[0;34m.\u001b[0m\u001b[0mfull\u001b[0m\u001b[0;34m(\u001b[0m\u001b[0;36m18\u001b[0m\u001b[0;34m,\u001b[0m \u001b[0mnp\u001b[0m\u001b[0;34m.\u001b[0m\u001b[0mnan\u001b[0m\u001b[0;34m)\u001b[0m\u001b[0;34m,\u001b[0m\u001b[0mvalue\u001b[0m\u001b[0;34m[\u001b[0m\u001b[0;36m0\u001b[0m\u001b[0;34m,\u001b[0m \u001b[0;36m1\u001b[0m\u001b[0;34m,\u001b[0m \u001b[0;36m1\u001b[0m\u001b[0;34m,\u001b[0m \u001b[0;36m21\u001b[0m\u001b[0;34m]\u001b[0m\u001b[0;34m)\u001b[0m \u001b[0;34m,\u001b[0m \u001b[0mr1\u001b[0m\u001b[0;34m[\u001b[0m\u001b[0;36m0\u001b[0m\u001b[0;34m]\u001b[0m\u001b[0;34m[\u001b[0m\u001b[0;36m1\u001b[0m\u001b[0;34m]\u001b[0m\u001b[0;34m)\u001b[0m\u001b[0;34m\u001b[0m\u001b[0;34m\u001b[0m\u001b[0m\n",
      "\u001b[0;31mValueError\u001b[0m: could not broadcast input array from shape (493) into shape (501)"
     ]
    }
   ],
   "source": [
    "value[:, 0, 1, 21] = np.append(np.append(np.full(18, np.nan),np.array([0.0])) , r1[0][0])\n",
    "value[:, 1, 1, 21] = np.append(np.append(np.full(18, np.nan),value[0, 1, 1, 21]) , r1[0][1])\n"
   ]
  },
  {
   "cell_type": "code",
   "execution_count": 210,
   "metadata": {},
   "outputs": [
    {
     "data": {
      "text/plain": [
       "array([       nan,        nan,        nan,        nan,        nan,\n",
       "              nan,        nan,        nan,        nan,        nan,\n",
       "              nan,        nan,        nan,        nan,        nan,\n",
       "              nan,        nan,        nan, 2.05931703, 2.45149424,\n",
       "       2.45635048, 2.461171  , 2.46588366, 2.47055756, 2.47519777,\n",
       "       2.47973316, 2.4842344 , 2.48869924, 2.49307278, 2.49741036,\n",
       "       2.50170953, 2.50593035, 2.51011269, 2.51034068, 2.51080362,\n",
       "       2.51983117, 2.5287087 , 2.53743052, 2.5459949 , 2.55442686,\n",
       "       2.56270043, 2.57083315, 2.57885725, 2.58671531, 2.59444954,\n",
       "       2.60209492, 2.60956709, 2.61693268, 2.62422575, 2.63133893,\n",
       "       2.63836114, 2.6453203 , 2.65210264, 2.65880848, 2.66545529,\n",
       "       2.67193087, 2.67834133, 2.68469649, 2.6908866 , 2.69702015,\n",
       "       2.70309779, 2.70902657, 2.71490019, 2.72071481, 2.7264027 ,\n",
       "       2.73203201, 2.73760106, 2.74306257, 2.74846197, 2.75380139,\n",
       "       2.75904988, 2.76423268, 2.76935705, 2.77440485, 2.77938333,\n",
       "       2.78430602, 2.78916452, 2.79395007, 2.79868337, 2.8033631 ,\n",
       "       2.80796629, 2.81252148, 2.81702892, 2.82146286, 2.82585035,\n",
       "       2.8301936 , 2.83446838, 2.83869778, 2.84288528, 2.84700937,\n",
       "       2.85108957, 2.85512919, 2.85911049, 2.86304971, 2.86694881,\n",
       "       2.87079466, 2.87460052, 2.87836599, 2.88208323, 2.88576282,\n",
       "       2.8894011 , 2.8929961 , 2.89655603, 2.90007315, 2.90355048,\n",
       "       2.90699827, 2.9103999 , 2.91376561, 2.91710653, 2.92039799,\n",
       "       2.92365759, 2.92689604, 2.93008259, 2.93324125, 2.9363804 ,\n",
       "       2.93946781, 2.94253111, 2.94557548, 2.9485686 , 2.95154057,\n",
       "       2.95449443, 2.95739779, 2.96028224, 2.96314886, 2.96596744,\n",
       "       2.96876798, 2.97154933, 2.97428892, 2.97700896, 2.97970902,\n",
       "       2.98237293, 2.9850157 , 2.98763821, 2.99022956, 2.99279812,\n",
       "       2.99534661, 2.99786835, 3.0003656 , 3.00284337, 3.00529829,\n",
       "       3.00772699, 3.01013715, 3.01252789, 3.01489066, 3.01723614,\n",
       "       3.0195644 , 3.02186453, 3.0241481 , 3.02641542, 3.02865612,\n",
       "       3.03088038, 3.03308897, 3.03527253, 3.03743994, 3.03959191,\n",
       "       3.0417205 , 3.0438334 , 3.04593076, 3.04800645, 3.05006702,\n",
       "       3.05211169, 3.05413644, 3.05614678, 3.05814059, 3.06011626,\n",
       "       3.06207833, 3.06402303, 3.065951  , 3.06786709, 3.06976434,\n",
       "       3.07164629, 3.07351816, 3.07536957, 3.07720716, 3.07903574,\n",
       "       3.0808431 , 3.0826383 , 3.08442481, 3.08618989, 3.08794428,\n",
       "       3.08969015, 3.09141454, 3.0931294 , 3.09483602, 3.09652123,\n",
       "       3.09819778, 3.09986647, 3.10151393, 3.10315335, 3.10478423,\n",
       "       3.10639645, 3.10799986, 3.10959431, 3.11117242, 3.11274091,\n",
       "       3.11430023, 3.11584532, 3.11737992, 3.11890537, 3.12041846,\n",
       "       3.12192018, 3.12341295, 3.12489505, 3.12636485, 3.12782606,\n",
       "       3.12927811, 3.13071692, 3.13214766, 3.1335704 , 3.13497929,\n",
       "       3.13638059, 3.13777427, 3.13915472, 3.14052758, 3.141893  ,\n",
       "       3.14324587, 3.14459122, 3.14592916, 3.14725528, 3.14857404,\n",
       "       3.14988525, 3.15118541, 3.15247842, 3.15376363, 3.15503859,\n",
       "       3.15630669, 3.1575666 , 3.15881709, 3.16006106, 3.16129634,\n",
       "       3.16252294, 3.16374367, 3.16495497, 3.16615827, 3.16735652,\n",
       "       3.1685445 , 3.16972518, 3.17090115, 3.17206658, 3.1732256 ,\n",
       "       3.17437991, 3.1755235 , 3.17666139, 3.17779464, 3.17891706,\n",
       "       3.18003434, 3.18114711, 3.182249  , 3.18334617, 3.18443901,\n",
       "       3.18552099, 3.18659854, 3.18767156, 3.18873466, 3.18979305,\n",
       "       3.19084668, 3.19189155, 3.19293125, 3.19396605, 3.19499317,\n",
       "       3.19601462, 3.19703115, 3.19804097, 3.1990446 , 3.20004339,\n",
       "       3.20103635, 3.20202257, 3.20300413, 3.20398065, 3.20494988,\n",
       "       3.2059147 , 3.20687519, 3.20782781, 3.20877637, 3.20972079,\n",
       "       3.21065761, 3.21159037, 3.21251906, 3.21344049, 3.21435789,\n",
       "       3.21527119, 3.21617763, 3.21708008, 3.21797834, 3.21887014,\n",
       "       3.21975805, 3.2206416 , 3.22151911, 3.22239289, 3.22326204,\n",
       "       3.22412561, 3.22498562, 3.22584069, 3.22669063, 3.22753726,\n",
       "       3.22837856, 3.22921507, 3.23004865, 3.23087648, 3.23170002,\n",
       "       3.23252069, 3.23333545, 3.23414639, 3.23495447, 3.23575649,\n",
       "       3.23655509, 3.23735086, 3.23814047, 3.23892698, 3.23971072,\n",
       "       3.24048826, 3.24126291, 3.2420349 , 3.24280067, 3.2435637 ,\n",
       "       3.24432405, 3.2450785 , 3.24583014, 3.24657894, 3.24732252,\n",
       "       3.24806301, 3.24880055, 3.2495335 , 3.25026304, 3.25098962,\n",
       "       3.25171216, 3.25243096, 3.25314685, 3.25385921, 3.25456748,\n",
       "       3.25527294, 3.25597533, 3.25667328, 3.25736856, 3.2580612 ,\n",
       "       3.25874902, 3.25943438, 3.26011727, 3.26079534, 3.26147103,\n",
       "       3.26214426, 3.26281288, 3.26347912, 3.26414287, 3.26480224,\n",
       "       3.26545925, 3.26611371, 3.26676401, 3.26741202, 3.26805734,\n",
       "       3.26869877, 3.26933798, 3.26997434, 3.27060708, 3.27123769,\n",
       "       3.27186524, 3.27248947, 3.27311169, 3.27373059, 3.2743464 ,\n",
       "       3.27496033, 3.27557077, 3.27617846, 3.27678425, 3.27738643,\n",
       "       3.27798615, 3.27858397, 3.27917808, 3.27976997, 3.28035998,\n",
       "       3.2809462 , 3.28153038, 3.28211273, 3.28269124, 3.28326785,\n",
       "       3.28384268, 3.28441366, 3.28498283, 3.28555026, 3.2861139 ,\n",
       "       3.28667574, 3.28723575, 3.28779239, 3.28834703, 3.28889978,\n",
       "       3.28944955, 3.28999711, 3.29054275, 3.29108578, 3.29162637,\n",
       "       3.29216508, 3.29270148, 3.29323522, 3.29376713, 3.29429704,\n",
       "       3.29482404, 3.29534931, 3.29587284, 3.2963932 , 3.29691197,\n",
       "       3.29742915, 3.29794307, 3.29845548, 3.29896631, 3.29947401,\n",
       "       3.29998019, 3.30048477, 3.30098635, 3.30148644, 3.30198487,\n",
       "       3.30248046, 3.30297458, 3.30346695, 3.30395664, 3.30444492,\n",
       "       3.30493133, 3.30541523, 3.30589779, 3.30637832, 3.30685655,\n",
       "       3.30733346, 3.30780821, 3.30828085, 3.30875219, 3.30922127,\n",
       "       3.30968847, 3.31015435, 3.31061787, 3.31107972, 3.31154023,\n",
       "       3.31199831, 3.31245487, 3.31291011, 3.31336287, 3.31381422,\n",
       "       3.31426427, 3.31471181, 3.31515803, 3.31560299, 3.31604542,\n",
       "       3.31648658, 3.31692653, 3.31736394, 3.31780011, 3.31823503,\n",
       "       3.31866764, 3.3190989 , 3.31952885, 3.31995677, 3.32038318,\n",
       "       3.32080827, 3.32123157, 3.3216532 , 3.32207353, 3.32249228,\n",
       "       3.3229092 , 3.32332486, 3.32373914, 3.32415141, 3.32456249,\n",
       "       3.32497237, 3.32538006, 3.32578665, 3.32619218, 3.32659537,\n",
       "       3.32699756, 3.32739869, 3.32779756, 3.32819543, 3.32859222,\n",
       "       3.32898684, 3.32938047, 3.32977298, 3.33016343, 3.3305529 ,\n",
       "       3.33094118, 3.33132752, 3.33171291, 3.33209702, 3.33247931,\n",
       "       3.3328607 , 3.33324069, 3.333619  , 3.3339964 , 3.33437234,\n",
       "       3.33474677, 3.33512024, 3.33549219, 3.3358628 , 3.33623242,\n",
       "       3.33660046, 3.33696729, 3.33733313, 3.33769732, 3.33806042,\n",
       "       3.33842253, 3.33878296, 3.33914236, 3.33950081, 3.33985754,\n",
       "       3.3402133 ])"
      ]
     },
     "execution_count": 210,
     "metadata": {},
     "output_type": "execute_result"
    }
   ],
   "source": []
  },
  {
   "cell_type": "code",
   "execution_count": 211,
   "metadata": {},
   "outputs": [
    {
     "name": "stderr",
     "output_type": "stream",
     "text": [
      "/home/sebastian/anaconda3/envs/dcegm/lib/python3.7/site-packages/ipykernel_launcher.py:12: RuntimeWarning: invalid value encountered in less\n",
      "  if sys.path[0] == '':\n"
     ]
    }
   ],
   "source": [
    "# Solve workers problem with EGM for period T-1, T-2 and T-3\n",
    "# The EGM step already yields the same result as the matlab code for T-1 and T-2\n",
    "# Difference in result for T-3 => DC step has to be performed after the EGM step\n",
    "for period in [20]:\n",
    "    \n",
    "    for choice in[0, 1]:\n",
    "        # M_{t+1}\n",
    "        wk1 = budget(period, savingsgrid, quadstnorm*sigma, choice)\n",
    "        wk1[wk1 < cfloor] = cfloor\n",
    "\n",
    "        # Value function\n",
    "        vl1 = np.full((2, ngridm * expn), np.nan)\n",
    "\n",
    "        if period + 1 == Tbar - 1:\n",
    "            vl1[0, :] = util(wk1, 0).flatten('F')\n",
    "            vl1[1, :] = util(wk1, 1).flatten('F')\n",
    "        else:\n",
    "            vl1[1, :] = value_function(1, period + 1, wk1) # value function in t+1 if choice in t+1 is work\n",
    "            vl1[0, :] = value_function(0, period + 1, wk1) # value function in t+1 if choice in t+1 is retiree\n",
    "\n",
    "        # Probability of choosing work in t+1\n",
    "        if choice == 0:\n",
    "            # Probability of choosing work in t+1\n",
    "            pr1 = np.full(2500, 0.00)\n",
    "        else:\n",
    "            pr1 = chpr(vl1)\n",
    "\n",
    "        # Next period consumption based on interpolation and extrapolation\n",
    "        # given grid points and associated consumption\n",
    "        cons10 = np.interp(wk1, policy[:, 0, 0, period + 1], policy[:, 1, 0, period+1])\n",
    "        # extrapolate linearly right of max grid point\n",
    "        slope = (policy[-2, 1, 0, period + 1] - policy[-1, 1, 0, period + 1])/(policy[-2, 0, 0, period + 1] - policy[-1, 0, 0, period + 1])\n",
    "        intercept = policy[-1, 1, 0, period + 1] - policy[-1, 0, 0, period + 1]*slope\n",
    "        cons10[cons10 == np.max(policy[:, 1, 0, period+1])] = intercept + slope*wk1[cons10 == np.max(policy[:, 1, 0, period+1])]\n",
    "        cons10_flat = cons10.flatten('F')\n",
    "\n",
    "        cons11 = np.interp(wk1, policy[:, 0, 1, period + 1], policy[:, 1, 1, period+1])\n",
    "        # extrapolate linearly right of max grid point\n",
    "        slope = (policy[-2, 1, 1, period + 1] - policy[-1, 1, 1, period + 1])/(policy[-2, 0, 1, period + 1] - policy[-1, 0, 1, period + 1])\n",
    "        intercept = policy[-1, 1, 1, period + 1] - policy[-1, 0, 1, period + 1]*slope\n",
    "        cons11[cons11 == np.max(policy[:, 1, 1, period+1])] = intercept + slope*wk1[cons11 == np.max(policy[:, 1, 1, period+1])]\n",
    "        cons11_flat = cons11.flatten('F')\n",
    "\n",
    "        # Marginal utility of expected consumption next period\n",
    "        mu1 = pr1*mutil(cons11_flat) + (1 - pr1)*mutil(cons10_flat)\n",
    "\n",
    "        # Marginal budget\n",
    "        # Note: Constant for this model formulation (1+r)\n",
    "        mwk1 = mbudget()\n",
    "\n",
    "        # RHS of Euler eq., p 337, integrate out error of y\n",
    "        rhs = np.dot(quadw.T, np.multiply(mu1.reshape(wk1.shape, order = 'F'), mwk1))\n",
    "        # Current period consumption from Euler equation\n",
    "        \n",
    "        cons0 = imutil(df*rhs)\n",
    "        # Update containers related to consumption\n",
    "        policy[1:, 1, choice, period] = cons0\n",
    "        policy[1:, 0, choice, period] = savingsgrid + cons0\n",
    "\n",
    "\n",
    "        if choice == 1:\n",
    "            # Calculate continuation value\n",
    "            ev = np.dot(quadw.T, logsum(vl1).reshape(wk1.shape, order = 'F'))\n",
    "        else:\n",
    "            ev = np.dot(quadw.T, vl1[0, :].reshape(wk1.shape, order = 'F'))\n",
    "\n",
    "        # Update value function related containers\n",
    "        value[1:, 1, choice, period] = util(cons0, choice) + df*ev\n",
    "        value[1:, 0, choice, period] = savingsgrid + cons0\n",
    "        value[0, 1, choice, period] = ev[0]"
   ]
  },
  {
   "cell_type": "code",
   "execution_count": 212,
   "metadata": {},
   "outputs": [],
   "source": [
    "for point in [20]:\n",
    "    obj = np.stack([value[1:, :, 1, point].T, value[1:, :, 0, point].T])\n",
    "    r1, new, rem = secondary_envelope(obj)\n"
   ]
  },
  {
   "cell_type": "code",
   "execution_count": 218,
   "metadata": {},
   "outputs": [
    {
     "data": {
      "text/plain": [
       "(array([5.56300853, 5.69155521, 5.82010189, 5.94864857, 6.07719525,\n",
       "        6.20574193, 6.33428861, 6.4628353 , 6.59138198, 6.71992866]),\n",
       " array([5.52589268, 5.66298055, 5.80006842, 5.93715629, 6.07424416,\n",
       "        6.21133203, 6.3484199 , 6.48550777, 6.62259564, 6.75968351]))"
      ]
     },
     "execution_count": 218,
     "metadata": {},
     "output_type": "execute_result"
    }
   ],
   "source": [
    "r1[0][0][:10], m0_value[0:501, 0, 1, 21].T[~np.isnan(m0_value[0:501, :, 1, 21].T[0])][1:11]"
   ]
  },
  {
   "cell_type": "code",
   "execution_count": 164,
   "metadata": {},
   "outputs": [
    {
     "data": {
      "text/plain": [
       "array(2.25574365)"
      ]
     },
     "execution_count": 164,
     "metadata": {},
     "output_type": "execute_result"
    }
   ],
   "source": [
    "import scipy.interpolate as scin\n",
    "interpolation = scin.interp1d(r1[0][0], r1[0][1], bounds_error=False, fill_value='extrapolate')\n",
    "interpolation(0.0)"
   ]
  },
  {
   "cell_type": "code",
   "execution_count": 175,
   "metadata": {},
   "outputs": [
    {
     "data": {
      "text/plain": [
       "482"
      ]
     },
     "execution_count": 175,
     "metadata": {},
     "output_type": "execute_result"
    }
   ],
   "source": [
    "len(r1[0][0])"
   ]
  },
  {
   "cell_type": "code",
   "execution_count": 184,
   "metadata": {},
   "outputs": [
    {
     "data": {
      "text/plain": [
       "array([        nan,         nan,         nan,         nan,         nan,\n",
       "               nan,         nan,         nan,         nan,         nan,\n",
       "               nan,         nan,         nan,         nan,         nan,\n",
       "               nan,         nan,         nan,  5.52589268,  5.66298055,\n",
       "        5.80006842,  5.93715629,  6.07424416,  6.21133203,  6.3484199 ,\n",
       "        6.48550777,  6.62259564,  6.75968351,  6.89677138,  7.03385925,\n",
       "        7.17094712,  7.308035  ,  7.31557897,  7.32247251,  7.45956038,\n",
       "        7.59664825,  7.73373612,  7.87082399,  8.00791186,  8.14499974,\n",
       "        8.28208761,  8.41917548,  8.55626335,  8.69335122,  8.83043909,\n",
       "        8.96752696,  9.10461483,  9.2417027 ,  9.37879057,  9.51587844,\n",
       "        9.65296631,  9.79005418,  9.92714205, 10.06422992, 10.20131779,\n",
       "       10.33840566, 10.47549353, 10.61258141, 10.74966928, 10.88675715,\n",
       "       11.02384502, 11.16093289, 11.29802076, 11.43510863, 11.5721965 ,\n",
       "       11.70928437, 11.84637224, 11.98346011, 12.12054798, 12.25763585,\n",
       "       12.39472372, 12.53181159, 12.66889946, 12.80598733, 12.9430752 ,\n",
       "       13.08016308, 13.21725095, 13.35433882, 13.49142669, 13.62851456,\n",
       "       13.76560243, 13.9026903 , 14.03977817, 14.17686604, 14.31395391,\n",
       "       14.45104178, 14.58812965, 14.72521752, 14.86230539, 14.99939326,\n",
       "       15.13648113, 15.273569  , 15.41065687, 15.54774475, 15.68483262,\n",
       "       15.82192049, 15.95900836, 16.09609623, 16.2331841 , 16.37027197,\n",
       "       16.50735984, 16.64444771, 16.78153558, 16.91862345, 17.05571132,\n",
       "       17.19279919, 17.32988706, 17.46697493, 17.6040628 , 17.74115067,\n",
       "       17.87823854, 18.01532641, 18.15241429, 18.28950216, 18.42659003,\n",
       "       18.5636779 , 18.70076577, 18.83785364, 18.97494151, 19.11202938,\n",
       "       19.24911725, 19.38620512, 19.52329299, 19.66038086, 19.79746873,\n",
       "       19.9345566 , 20.07164447, 20.20873234, 20.34582021, 20.48290808,\n",
       "       20.61999596, 20.75708383, 20.8941717 , 21.03125957, 21.16834744,\n",
       "       21.30543531, 21.44252318, 21.57961105, 21.71669892, 21.85378679,\n",
       "       21.99087466, 22.12796253, 22.2650504 , 22.40213827, 22.53922614,\n",
       "       22.67631401, 22.81340188, 22.95048975, 23.08757763, 23.2246655 ,\n",
       "       23.36175337, 23.49884124, 23.63592911, 23.77301698, 23.91010485,\n",
       "       24.04719272, 24.18428059, 24.32136846, 24.45845633, 24.5955442 ,\n",
       "       24.73263207, 24.86971994, 25.00680781, 25.14389568, 25.28098355,\n",
       "       25.41807142, 25.5551593 , 25.69224717, 25.82933504, 25.96642291,\n",
       "       26.10351078, 26.24059865, 26.37768652, 26.51477439, 26.65186226,\n",
       "       26.78895013, 26.926038  , 27.06312587, 27.20021374, 27.33730161,\n",
       "       27.47438948, 27.61147735, 27.74856522, 27.88565309, 28.02274096,\n",
       "       28.15982884, 28.29691671, 28.43400458, 28.57109245, 28.70818032,\n",
       "       28.84526819, 28.98235606, 29.11944393, 29.2565318 , 29.39361967,\n",
       "       29.53070754, 29.66779541, 29.80488328, 29.94197115, 30.07905902,\n",
       "       30.21614689, 30.35323476, 30.49032263, 30.62741051, 30.76449838,\n",
       "       30.90158625, 31.03867412, 31.17576199, 31.31284986, 31.44993773,\n",
       "       31.5870256 , 31.72411347, 31.86120134, 31.99828921, 32.13537708,\n",
       "       32.27246495, 32.40955282, 32.54664069, 32.68372856, 32.82081643,\n",
       "       32.9579043 , 33.09499218, 33.23208005, 33.36916792, 33.50625579,\n",
       "       33.64334366, 33.78043153, 33.9175194 , 34.05460727, 34.19169514,\n",
       "       34.32878301, 34.46587088, 34.60295875, 34.74004662, 34.87713449,\n",
       "       35.01422236, 35.15131023, 35.2883981 , 35.42548597, 35.56257385,\n",
       "       35.69966172, 35.83674959, 35.97383746, 36.11092533, 36.2480132 ,\n",
       "       36.38510107, 36.52218894, 36.65927681, 36.79636468, 36.93345255,\n",
       "       37.07054042, 37.20762829, 37.34471616, 37.48180403, 37.6188919 ,\n",
       "       37.75597977, 37.89306764, 38.03015551, 38.16724339, 38.30433126,\n",
       "       38.44141913, 38.578507  , 38.71559487, 38.85268274, 38.98977061,\n",
       "       39.12685848, 39.26394635, 39.40103422, 39.53812209, 39.67520996,\n",
       "       39.81229783, 39.9493857 , 40.08647357, 40.22356144, 40.36064931,\n",
       "       40.49773718, 40.63482506, 40.77191293, 40.9090008 , 41.04608867,\n",
       "       41.18317654, 41.32026441, 41.45735228, 41.59444015, 41.73152802,\n",
       "       41.86861589, 42.00570376, 42.14279163, 42.2798795 , 42.41696737,\n",
       "       42.55405524, 42.69114311, 42.82823098, 42.96531885, 43.10240673,\n",
       "       43.2394946 , 43.37658247, 43.51367034, 43.65075821, 43.78784608,\n",
       "       43.92493395, 44.06202182, 44.19910969, 44.33619756, 44.47328543,\n",
       "       44.6103733 , 44.74746117, 44.88454904, 45.02163691, 45.15872478,\n",
       "       45.29581265, 45.43290052, 45.5699884 , 45.70707627, 45.84416414,\n",
       "       45.98125201, 46.11833988, 46.25542775, 46.39251562, 46.52960349,\n",
       "       46.66669136, 46.80377923, 46.9408671 , 47.07795497, 47.21504284,\n",
       "       47.35213071, 47.48921858, 47.62630645, 47.76339432, 47.90048219,\n",
       "       48.03757006, 48.17465794, 48.31174581, 48.44883368, 48.58592155,\n",
       "       48.72300942, 48.86009729, 48.99718516, 49.13427303, 49.2713609 ,\n",
       "       49.40844877, 49.54553664, 49.68262451, 49.81971238, 49.95680025,\n",
       "       50.09388812, 50.23097599, 50.36806386, 50.50515173, 50.64223961,\n",
       "       50.77932748, 50.91641535, 51.05350322, 51.19059109, 51.32767896,\n",
       "       51.46476683, 51.6018547 , 51.73894257, 51.87603044, 52.01311831,\n",
       "       52.15020618, 52.28729405, 52.42438192, 52.56146979, 52.69855766,\n",
       "       52.83564553, 52.9727334 , 53.10982128, 53.24690915, 53.38399702,\n",
       "       53.52108489, 53.65817276, 53.79526063, 53.9323485 , 54.06943637,\n",
       "       54.20652424, 54.34361211, 54.48069998, 54.61778785, 54.75487572,\n",
       "       54.89196359, 55.02905146, 55.16613933, 55.3032272 , 55.44031507,\n",
       "       55.57740295, 55.71449082, 55.85157869, 55.98866656, 56.12575443,\n",
       "       56.2628423 , 56.39993017, 56.53701804, 56.67410591, 56.81119378,\n",
       "       56.94828165, 57.08536952, 57.22245739, 57.35954526, 57.49663313,\n",
       "       57.633721  , 57.77080887, 57.90789674, 58.04498461, 58.18207249,\n",
       "       58.31916036, 58.45624823, 58.5933361 , 58.73042397, 58.86751184,\n",
       "       59.00459971, 59.14168758, 59.27877545, 59.41586332, 59.55295119,\n",
       "       59.69003906, 59.82712693, 59.9642148 , 60.10130267, 60.23839054,\n",
       "       60.37547841, 60.51256628, 60.64965416, 60.78674203, 60.9238299 ,\n",
       "       61.06091777, 61.19800564, 61.33509351, 61.47218138, 61.60926925,\n",
       "       61.74635712, 61.88344499, 62.02053286, 62.15762073, 62.2947086 ,\n",
       "       62.43179647, 62.56888434, 62.70597221, 62.84306008, 62.98014795,\n",
       "       63.11723583, 63.2543237 , 63.39141157, 63.52849944, 63.66558731,\n",
       "       63.80267518, 63.93976305, 64.07685092, 64.21393879, 64.35102666,\n",
       "       64.48811453, 64.6252024 , 64.76229027, 64.89937814, 65.03646601,\n",
       "       65.17355388, 65.31064175, 65.44772962, 65.5848175 , 65.72190537,\n",
       "       65.85899324, 65.99608111, 66.13316898, 66.27025685, 66.40734472,\n",
       "       66.54443259, 66.68152046, 66.81860833, 66.9556962 , 67.09278407,\n",
       "       67.22987194, 67.36695981, 67.50404768, 67.64113555, 67.77822342,\n",
       "       67.91531129, 68.05239916, 68.18948704, 68.32657491, 68.46366278,\n",
       "       68.60075065, 68.73783852, 68.87492639, 69.01201426, 69.14910213,\n",
       "       69.28619   , 69.42327787, 69.56036574, 69.69745361, 69.83454148,\n",
       "       69.97162935, 70.10871722, 70.24580509, 70.38289296, 70.51998083,\n",
       "       70.65706871, 70.79415658, 70.93124445, 71.06833232, 71.20542019])"
      ]
     },
     "execution_count": 184,
     "metadata": {},
     "output_type": "execute_result"
    }
   ],
   "source": [
    "np.append(np.full(18, np.nan), r1[0][0])"
   ]
  },
  {
   "cell_type": "code",
   "execution_count": 398,
   "metadata": {},
   "outputs": [
    {
     "data": {
      "text/plain": [
       "array([8.81600157, 8.95308944, 6.36285742, 6.49994529, 6.63703316,\n",
       "       6.77412103, 6.9112089 , 7.04829677, 7.18538464, 7.32247251,\n",
       "       7.45956038, 7.59664825, 7.73373612, 7.87082399, 8.00791186,\n",
       "       8.14499974, 8.28208761, 8.41917548, 8.55626335, 8.69335122,\n",
       "       8.83043909, 8.96752696, 9.10461483, 9.2417027 , 9.37879057,\n",
       "       9.51587844])"
      ]
     },
     "execution_count": 398,
     "metadata": {},
     "output_type": "execute_result"
    }
   ],
   "source": [
    "# Discontinuity in values\n",
    "obj[0, 0, 24:50]"
   ]
  },
  {
   "cell_type": "code",
   "execution_count": 117,
   "metadata": {},
   "outputs": [
    {
     "data": {
      "text/plain": [
       "range(0, 2)"
      ]
     },
     "execution_count": 117,
     "metadata": {},
     "output_type": "execute_result"
    }
   ],
   "source": [
    "range(len(ii))"
   ]
  },
  {
   "cell_type": "code",
   "execution_count": 118,
   "metadata": {},
   "outputs": [],
   "source": [
    "i = 1\n",
    "sect = []"
   ]
  },
  {
   "cell_type": "code",
   "execution_count": 119,
   "metadata": {},
   "outputs": [
    {
     "data": {
      "text/plain": [
       "2"
      ]
     },
     "execution_count": 119,
     "metadata": {},
     "output_type": "execute_result"
    }
   ],
   "source": [
    "len(ii)"
   ]
  },
  {
   "cell_type": "code",
   "execution_count": 112,
   "metadata": {},
   "outputs": [
    {
     "data": {
      "text/plain": [
       "array([[6.36285742, 8.95308944],\n",
       "       [2.44271185, 2.55666561]])"
      ]
     },
     "execution_count": 112,
     "metadata": {},
     "output_type": "execute_result"
    }
   ],
   "source": [
    "# Explore wether one can simply use numpy for sorting insted of the translated matlab function\n",
    "sect[1] = np.sort(sect[1])\n",
    "sect[1]"
   ]
  },
  {
   "cell_type": "markdown",
   "metadata": {},
   "source": [
    "Upper envelope"
   ]
  },
  {
   "cell_type": "code",
   "execution_count": 34,
   "metadata": {},
   "outputs": [],
   "source": [
    "# aux_function used in upper_evelope below\n",
    "def aux_function(x, obj1, obj2):\n",
    "    x = [x]\n",
    "    value, extr = np.subtract(interpolate(x,obj1), interpolate(x, obj2))\n",
    "    return value"
   ]
  },
  {
   "cell_type": "code",
   "execution_count": 35,
   "metadata": {},
   "outputs": [],
   "source": [
    "# interpolate used in upper_evelope below\n",
    "def interpolate(xx, obj, one=False):    \n",
    "    if not one:\n",
    "        interpolation = InterpolatedUnivariateSpline(obj[0], obj[1], k=1)\n",
    "        container = interpolation(xx)\n",
    "        extrapolate = [True if (i>max(obj[0])) |(i<min(obj[0])) else False for i in xx]\n",
    "    else:\n",
    "        container = []\n",
    "        extrapolate = []\n",
    "        \n",
    "        for poly  in obj:\n",
    "            interpolation = InterpolatedUnivariateSpline(poly[0], poly[1], k=1)\n",
    "            container += [interpolation(xx)]\n",
    "            extrapolate += [np.array([True if (i>max(poly[0])) |(i<min(poly[0])) else False for i in xx])]\n",
    "    return container, extrapolate"
   ]
  },
  {
   "cell_type": "code",
   "execution_count": 37,
   "metadata": {},
   "outputs": [],
   "source": [
    "# Perform upper envelope calculation\n",
    "result_container, newdots_container = upper_envelope(sect, True, True)"
   ]
  },
  {
   "cell_type": "code",
   "execution_count": 38,
   "metadata": {},
   "outputs": [
    {
     "data": {
      "text/plain": [
       "(482,)"
      ]
     },
     "execution_count": 38,
     "metadata": {},
     "output_type": "execute_result"
    }
   ],
   "source": [
    "# Array of same length as MatLab code\n",
    "# Same number of points removed\n",
    "result_container[0].shape"
   ]
  },
  {
   "cell_type": "code",
   "execution_count": 39,
   "metadata": {},
   "outputs": [],
   "source": [
    "# Verify result for x values of value after upper envelope\n",
    "# Same points removed as in MatLab code\n",
    "np.testing.assert_array_almost_equal(m0_value[19:501, 1, 0, 21], result_container[0])"
   ]
  },
  {
   "cell_type": "code",
   "execution_count": 40,
   "metadata": {},
   "outputs": [],
   "source": [
    "# Verify result for y values of value after upper envelope\n",
    "# Same points removed as in MatLab code\n",
    "np.testing.assert_array_almost_equal(m0_value[19:501, 0, 0, 21], result_container[1])"
   ]
  },
  {
   "cell_type": "code",
   "execution_count": 41,
   "metadata": {},
   "outputs": [
    {
     "data": {
      "text/plain": [
       "array([[7.31557897],\n",
       "       [2.51034068]])"
      ]
     },
     "execution_count": 41,
     "metadata": {},
     "output_type": "execute_result"
    }
   ],
   "source": [
    "# Verify output of result_inter\n",
    "# One new point added, one intersection, same as MatLab code\n",
    "newdots_container"
   ]
  },
  {
   "cell_type": "markdown",
   "metadata": {},
   "source": [
    "Finish up secondary envelope"
   ]
  },
  {
   "cell_type": "markdown",
   "metadata": {
    "scrolled": true
   },
   "source": [
    "diff(obj, result_container)\n",
    "\n",
    "!!! Function not working with this input"
   ]
  },
  {
   "cell_type": "code",
   "execution_count": 42,
   "metadata": {},
   "outputs": [
    {
     "data": {
      "text/plain": [
       "array([6.36285742, 6.49994529, 6.63703316, 6.77412103, 6.9112089 ,\n",
       "       7.04829677, 7.18538464, 7.44512287, 7.58221074, 7.71929861,\n",
       "       7.85638648, 7.99347435, 8.13056222, 8.26765009, 8.40473796,\n",
       "       8.54182583, 8.6789137 , 8.81600157, 8.95308944])"
      ]
     },
     "execution_count": 42,
     "metadata": {},
     "output_type": "execute_result"
    }
   ],
   "source": [
    "# Find indexes of missing elements\n",
    "missing_elements = np.setdiff1d(obj[0], result_container[0])\n",
    "missing_elements"
   ]
  },
  {
   "cell_type": "code",
   "execution_count": 43,
   "metadata": {},
   "outputs": [],
   "source": [
    "indexremoved = []\n",
    "\n",
    "for value in missing_elements:\n",
    "    indexremoved.append(obj[0].tolist().index(value))\n",
    "\n",
    "indexremoved = np.array(sort(indexremoved))"
   ]
  },
  {
   "cell_type": "code",
   "execution_count": 44,
   "metadata": {},
   "outputs": [
    {
     "data": {
      "text/plain": [
       "array([14, 15, 16, 17, 18, 19, 20, 21, 22, 23, 24, 25, 26, 27, 28, 29, 30,\n",
       "       31, 32])"
      ]
     },
     "execution_count": 44,
     "metadata": {},
     "output_type": "execute_result"
    }
   ],
   "source": [
    "# Same indexes of removed points as in MatLab code\n",
    "indexremoved"
   ]
  },
  {
   "cell_type": "markdown",
   "metadata": {},
   "source": [
    "Back to retirement_model.m solve_dsegm line 149ff."
   ]
  },
  {
   "cell_type": "code",
   "execution_count": 45,
   "metadata": {},
   "outputs": [
    {
     "data": {
      "text/plain": [
       "True"
      ]
     },
     "execution_count": 45,
     "metadata": {},
     "output_type": "execute_result"
    }
   ],
   "source": [
    "len(indexremoved) > 0"
   ]
  },
  {
   "cell_type": "code",
   "execution_count": 46,
   "metadata": {},
   "outputs": [
    {
     "data": {
      "text/plain": [
       "array([ 0,  1,  2,  3,  4,  5,  6,  7,  8,  9, 10, 11, 12, 13, 14])"
      ]
     },
     "execution_count": 46,
     "metadata": {},
     "output_type": "execute_result"
    }
   ],
   "source": [
    "# All points below\n",
    "# Note what MatLab function find is doing\n",
    "# If one simply does \"<\" in Python, result would be wrong\n",
    "# Current workaround might not be robust to all cases - find a better wat to pythonise MatLabs find function\n",
    "j = arange(0, (np.where(policy[:, 0, 1, 21] > newdots_container[0][0]))[0][0])\n",
    "j"
   ]
  },
  {
   "cell_type": "code",
   "execution_count": 47,
   "metadata": {},
   "outputs": [
    {
     "data": {
      "text/plain": [
       "array([ 0,  1,  2,  3,  4,  5,  6,  7,  8,  9, 10, 11, 12, 13])"
      ]
     },
     "execution_count": 47,
     "metadata": {},
     "output_type": "execute_result"
    }
   ],
   "source": [
    "# Points that were not deleted\n",
    "j_new = np.setdiff1d(j, indexremoved)\n",
    "j_new"
   ]
  },
  {
   "cell_type": "code",
   "execution_count": 48,
   "metadata": {},
   "outputs": [
    {
     "data": {
      "text/plain": [
       "13"
      ]
     },
     "execution_count": 48,
     "metadata": {},
     "output_type": "execute_result"
    }
   ],
   "source": [
    "j = max(j_new)\n",
    "j"
   ]
  },
  {
   "cell_type": "code",
   "execution_count": 49,
   "metadata": {},
   "outputs": [
    {
     "data": {
      "text/plain": [
       "6.007459709059365"
      ]
     },
     "execution_count": 49,
     "metadata": {},
     "output_type": "execute_result"
    }
   ],
   "source": [
    "# Potentially a better way of setting j exists, such that indexes here are simplified\n",
    "new_left = np.interp(newdots_container[0][0], policy[j+1:j+3, 0, 1, 21], policy[j+1:j+3, 1, 1, 21])\n",
    "new_left"
   ]
  },
  {
   "cell_type": "code",
   "execution_count": 50,
   "metadata": {},
   "outputs": [
    {
     "data": {
      "text/plain": [
       "array([ 33,  34,  35,  36,  37,  38,  39,  40,  41,  42,  43,  44,  45,\n",
       "        46,  47,  48,  49,  50,  51,  52,  53,  54,  55,  56,  57,  58,\n",
       "        59,  60,  61,  62,  63,  64,  65,  66,  67,  68,  69,  70,  71,\n",
       "        72,  73,  74,  75,  76,  77,  78,  79,  80,  81,  82,  83,  84,\n",
       "        85,  86,  87,  88,  89,  90,  91,  92,  93,  94,  95,  96,  97,\n",
       "        98,  99, 100, 101, 102, 103, 104, 105, 106, 107, 108, 109, 110,\n",
       "       111, 112, 113, 114, 115, 116, 117, 118, 119, 120, 121, 122, 123,\n",
       "       124, 125, 126, 127, 128, 129, 130, 131, 132, 133, 134, 135, 136,\n",
       "       137, 138, 139, 140, 141, 142, 143, 144, 145, 146, 147, 148, 149,\n",
       "       150, 151, 152, 153, 154, 155, 156, 157, 158, 159, 160, 161, 162,\n",
       "       163, 164, 165, 166, 167, 168, 169, 170, 171, 172, 173, 174, 175,\n",
       "       176, 177, 178, 179, 180, 181, 182, 183, 184, 185, 186, 187, 188,\n",
       "       189, 190, 191, 192, 193, 194, 195, 196, 197, 198, 199, 200, 201,\n",
       "       202, 203, 204, 205, 206, 207, 208, 209, 210, 211, 212, 213, 214,\n",
       "       215, 216, 217, 218, 219, 220, 221, 222, 223, 224, 225, 226, 227,\n",
       "       228, 229, 230, 231, 232, 233, 234, 235, 236, 237, 238, 239, 240,\n",
       "       241, 242, 243, 244, 245, 246, 247, 248, 249, 250, 251, 252, 253,\n",
       "       254, 255, 256, 257, 258, 259, 260, 261, 262, 263, 264, 265, 266,\n",
       "       267, 268, 269, 270, 271, 272, 273, 274, 275, 276, 277, 278, 279,\n",
       "       280, 281, 282, 283, 284, 285, 286, 287, 288, 289, 290, 291, 292,\n",
       "       293, 294, 295, 296, 297, 298, 299, 300, 301, 302, 303, 304, 305,\n",
       "       306, 307, 308, 309, 310, 311, 312, 313, 314, 315, 316, 317, 318,\n",
       "       319, 320, 321, 322, 323, 324, 325, 326, 327, 328, 329, 330, 331,\n",
       "       332, 333, 334, 335, 336, 337, 338, 339, 340, 341, 342, 343, 344,\n",
       "       345, 346, 347, 348, 349, 350, 351, 352, 353, 354, 355, 356, 357,\n",
       "       358, 359, 360, 361, 362, 363, 364, 365, 366, 367, 368, 369, 370,\n",
       "       371, 372, 373, 374, 375, 376, 377, 378, 379, 380, 381, 382, 383,\n",
       "       384, 385, 386, 387, 388, 389, 390, 391, 392, 393, 394, 395, 396,\n",
       "       397, 398, 399, 400, 401, 402, 403, 404, 405, 406, 407, 408, 409,\n",
       "       410, 411, 412, 413, 414, 415, 416, 417, 418, 419, 420, 421, 422,\n",
       "       423, 424, 425, 426, 427, 428, 429, 430, 431, 432, 433, 434, 435,\n",
       "       436, 437, 438, 439, 440, 441, 442, 443, 444, 445, 446, 447, 448,\n",
       "       449, 450, 451, 452, 453, 454, 455, 456, 457, 458, 459, 460, 461,\n",
       "       462, 463, 464, 465, 466, 467, 468, 469, 470, 471, 472, 473, 474,\n",
       "       475, 476, 477, 478, 479, 480, 481, 482, 483, 484, 485, 486, 487,\n",
       "       488, 489, 490, 491, 492, 493, 494, 495, 496, 497, 498, 499, 500,\n",
       "       501])"
      ]
     },
     "execution_count": 50,
     "metadata": {},
     "output_type": "execute_result"
    }
   ],
   "source": [
    "# Perform similar operation for the upper/right side\n",
    "# All comments from above apply here\n",
    "j = np.arange(np.where(policy[:, 0, 1, 21] < newdots_container[0][0])[0][-1], policy.shape[0]+1)\n",
    "j"
   ]
  },
  {
   "cell_type": "code",
   "execution_count": 51,
   "metadata": {},
   "outputs": [
    {
     "data": {
      "text/plain": [
       "array([ 33,  34,  35,  36,  37,  38,  39,  40,  41,  42,  43,  44,  45,\n",
       "        46,  47,  48,  49,  50,  51,  52,  53,  54,  55,  56,  57,  58,\n",
       "        59,  60,  61,  62,  63,  64,  65,  66,  67,  68,  69,  70,  71,\n",
       "        72,  73,  74,  75,  76,  77,  78,  79,  80,  81,  82,  83,  84,\n",
       "        85,  86,  87,  88,  89,  90,  91,  92,  93,  94,  95,  96,  97,\n",
       "        98,  99, 100, 101, 102, 103, 104, 105, 106, 107, 108, 109, 110,\n",
       "       111, 112, 113, 114, 115, 116, 117, 118, 119, 120, 121, 122, 123,\n",
       "       124, 125, 126, 127, 128, 129, 130, 131, 132, 133, 134, 135, 136,\n",
       "       137, 138, 139, 140, 141, 142, 143, 144, 145, 146, 147, 148, 149,\n",
       "       150, 151, 152, 153, 154, 155, 156, 157, 158, 159, 160, 161, 162,\n",
       "       163, 164, 165, 166, 167, 168, 169, 170, 171, 172, 173, 174, 175,\n",
       "       176, 177, 178, 179, 180, 181, 182, 183, 184, 185, 186, 187, 188,\n",
       "       189, 190, 191, 192, 193, 194, 195, 196, 197, 198, 199, 200, 201,\n",
       "       202, 203, 204, 205, 206, 207, 208, 209, 210, 211, 212, 213, 214,\n",
       "       215, 216, 217, 218, 219, 220, 221, 222, 223, 224, 225, 226, 227,\n",
       "       228, 229, 230, 231, 232, 233, 234, 235, 236, 237, 238, 239, 240,\n",
       "       241, 242, 243, 244, 245, 246, 247, 248, 249, 250, 251, 252, 253,\n",
       "       254, 255, 256, 257, 258, 259, 260, 261, 262, 263, 264, 265, 266,\n",
       "       267, 268, 269, 270, 271, 272, 273, 274, 275, 276, 277, 278, 279,\n",
       "       280, 281, 282, 283, 284, 285, 286, 287, 288, 289, 290, 291, 292,\n",
       "       293, 294, 295, 296, 297, 298, 299, 300, 301, 302, 303, 304, 305,\n",
       "       306, 307, 308, 309, 310, 311, 312, 313, 314, 315, 316, 317, 318,\n",
       "       319, 320, 321, 322, 323, 324, 325, 326, 327, 328, 329, 330, 331,\n",
       "       332, 333, 334, 335, 336, 337, 338, 339, 340, 341, 342, 343, 344,\n",
       "       345, 346, 347, 348, 349, 350, 351, 352, 353, 354, 355, 356, 357,\n",
       "       358, 359, 360, 361, 362, 363, 364, 365, 366, 367, 368, 369, 370,\n",
       "       371, 372, 373, 374, 375, 376, 377, 378, 379, 380, 381, 382, 383,\n",
       "       384, 385, 386, 387, 388, 389, 390, 391, 392, 393, 394, 395, 396,\n",
       "       397, 398, 399, 400, 401, 402, 403, 404, 405, 406, 407, 408, 409,\n",
       "       410, 411, 412, 413, 414, 415, 416, 417, 418, 419, 420, 421, 422,\n",
       "       423, 424, 425, 426, 427, 428, 429, 430, 431, 432, 433, 434, 435,\n",
       "       436, 437, 438, 439, 440, 441, 442, 443, 444, 445, 446, 447, 448,\n",
       "       449, 450, 451, 452, 453, 454, 455, 456, 457, 458, 459, 460, 461,\n",
       "       462, 463, 464, 465, 466, 467, 468, 469, 470, 471, 472, 473, 474,\n",
       "       475, 476, 477, 478, 479, 480, 481, 482, 483, 484, 485, 486, 487,\n",
       "       488, 489, 490, 491, 492, 493, 494, 495, 496, 497, 498, 499, 500,\n",
       "       501])"
      ]
     },
     "execution_count": 51,
     "metadata": {},
     "output_type": "execute_result"
    }
   ],
   "source": [
    "j_new = np.setdiff1d(j, indexremoved)\n",
    "j_new"
   ]
  },
  {
   "cell_type": "code",
   "execution_count": 52,
   "metadata": {},
   "outputs": [
    {
     "data": {
      "text/plain": [
       "33"
      ]
     },
     "execution_count": 52,
     "metadata": {},
     "output_type": "execute_result"
    }
   ],
   "source": [
    "j = min(j_new)\n",
    "j"
   ]
  },
  {
   "cell_type": "code",
   "execution_count": 53,
   "metadata": {},
   "outputs": [
    {
     "data": {
      "text/plain": [
       "4.014004377221639"
      ]
     },
     "execution_count": 53,
     "metadata": {},
     "output_type": "execute_result"
    }
   ],
   "source": [
    "new_right = np.interp(newdots_container[0][0], policy[j:j+2, 0, 1, period], policy[j:j+2, 1, 1, period])\n",
    "new_right"
   ]
  },
  {
   "cell_type": "code",
   "execution_count": 62,
   "metadata": {},
   "outputs": [],
   "source": [
    "# Remove inferior points from policy\n",
    "# Means: Remove all points with indexes in indexremoved\n",
    "policy_thinout_x = policy[:, 0, 1, period].tolist()\n",
    "policy_thinout_y = policy[:, 1, 1, period].tolist()"
   ]
  },
  {
   "cell_type": "code",
   "execution_count": 64,
   "metadata": {},
   "outputs": [],
   "source": [
    "del policy_thinout_x[indexremoved[0]+1 : indexremoved[-1]+2]\n",
    "del policy_thinout_y[indexremoved[0]+1 : indexremoved[-1]+2]"
   ]
  },
  {
   "cell_type": "code",
   "execution_count": 65,
   "metadata": {},
   "outputs": [],
   "source": [
    "# Add new point twice\n",
    "policy_thinout_x.append(newdots_container[0][0] - 1e3*2.2204e-16)\n",
    "policy_thinout_x.append(newdots_container[0][0])"
   ]
  },
  {
   "cell_type": "code",
   "execution_count": 66,
   "metadata": {},
   "outputs": [],
   "source": [
    "# Add new point twice\n",
    "policy_thinout_y.append(new_left)\n",
    "policy_thinout_y.append(new_right)"
   ]
  },
  {
   "cell_type": "code",
   "execution_count": 67,
   "metadata": {},
   "outputs": [
    {
     "data": {
      "text/plain": [
       "484"
      ]
     },
     "execution_count": 67,
     "metadata": {},
     "output_type": "execute_result"
    }
   ],
   "source": [
    "len(policy_thinout_x)"
   ]
  },
  {
   "cell_type": "code",
   "execution_count": 69,
   "metadata": {},
   "outputs": [],
   "source": [
    "new_policy = np.full((2, ngridm + 1), np.nan)\n",
    "new_policy[0, - len(policy_thinout_x):] = np.array(policy_thinout_x)\n",
    "new_policy[1, - len(policy_thinout_y):] = np.array(policy_thinout_y)"
   ]
  },
  {
   "cell_type": "code",
   "execution_count": 70,
   "metadata": {},
   "outputs": [],
   "source": [
    "# Ensure that points are in the right position\n",
    "new_policy = np.sort(new_policy)"
   ]
  },
  {
   "cell_type": "code",
   "execution_count": 75,
   "metadata": {},
   "outputs": [],
   "source": [
    "# Verify correct solution for t-3 in policy\n",
    "np.testing.assert_almost_equal(m0_policy[17:501, 1, 0, 21], new_policy[0, 0:484])"
   ]
  },
  {
   "cell_type": "code",
   "execution_count": 76,
   "metadata": {},
   "outputs": [],
   "source": [
    "# Finish up\n",
    "policy[:, :, 1, period] = new_policy.T"
   ]
  }
 ],
 "metadata": {
  "kernelspec": {
   "display_name": "Python [conda env:dcegm] *",
   "language": "python",
   "name": "conda-env-dcegm-py"
  },
  "language_info": {
   "codemirror_mode": {
    "name": "ipython",
    "version": 3
   },
   "file_extension": ".py",
   "mimetype": "text/x-python",
   "name": "python",
   "nbconvert_exporter": "python",
   "pygments_lexer": "ipython3",
   "version": "3.7.3"
  }
 },
 "nbformat": 4,
 "nbformat_minor": 2
}
