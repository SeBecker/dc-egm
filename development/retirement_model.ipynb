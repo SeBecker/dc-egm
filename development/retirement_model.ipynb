{
 "cells": [
  {
   "cell_type": "markdown",
   "metadata": {},
   "source": [
    "Minimal shocks retirement model\n",
    "===========================\n",
    "\n",
    "This notebook presents the step by step solution for a backward induction problem with a discrete and continuout choice variable for one period based on model_retirement.m\n",
    "\n",
    "The comparison file for verification of the correct output of each step is retirement_minimal_shocks.m"
   ]
  },
  {
   "cell_type": "code",
   "execution_count": 1,
   "metadata": {},
   "outputs": [],
   "source": [
    "import numpy as np\n",
    "import math\n",
    "import scipy.stats as scps\n",
    "import matplotlib.pyplot as plt\n",
    "import pickle"
   ]
  },
  {
   "cell_type": "code",
   "execution_count": 2,
   "metadata": {},
   "outputs": [],
   "source": [
    "%load_ext autoreload\n",
    "\n",
    "%autoreload 2\n",
    "\n",
    "import numpy as np\n",
    "from collections import namedtuple\n",
    "from scipy.interpolate import InterpolatedUnivariateSpline\n",
    "from scipy.stats import norm\n",
    "from copy import *\n",
    "from numpy.matlib import * \n",
    "from scipy.optimize import *\n",
    "from dc_egm import interpolate, chop, upper_envelope,diff\n",
    "from copy import *\n",
    "import scipy.interpolate as scin\n"
   ]
  },
  {
   "cell_type": "code",
   "execution_count": 3,
   "metadata": {},
   "outputs": [],
   "source": [
    "# There potentially is a pythonic solution that would make this function obsolete\n",
    "def quadrature(n, lbnd, ubnd):\n",
    "    \n",
    "    x1 = lbnd\n",
    "    x2 = ubnd\n",
    "    x = np.zeros(n)\n",
    "    w = x\n",
    "    EPS = 3e-14\n",
    "    m = int(round((n+EPS)/2)) # flor function in matlab, rounding to the lower integer\n",
    "    xm = (x2+x1)/2\n",
    "    xl = (x2-x1)/2\n",
    "    z1 = 1e99\n",
    "\n",
    "    x = np.full(n+1, np.nan)\n",
    "    w = np.full(n+1, np.nan)\n",
    "\n",
    "    i = 1\n",
    "\n",
    "    while i <= m:\n",
    "\n",
    "        z = math.cos(math.pi*(i - 0.25)/(n + 0.5))\n",
    "\n",
    "        while abs(z - z1) > EPS:\n",
    "            p1 = 1\n",
    "            p2 = 0\n",
    "            j = 1\n",
    "\n",
    "            while j <= n:\n",
    "                p3 = p2\n",
    "                p2 = p1\n",
    "                p1 = ((2*j -1)*z*p2 - (j-1)*p3)/j\n",
    "                j += 1\n",
    "\n",
    "            pp = n*(z*p1 - p2)/(z*z - 1)\n",
    "            z1 = z\n",
    "            z = z1 - p1/pp\n",
    "\n",
    "        x[i] = xm - xl*z\n",
    "        x[n + 1 - i] = xm + xl*z\n",
    "        w[i] = 2*xl/((1-z*z)*pp*pp)\n",
    "        w[n + 1 - i] = w[i]\n",
    "        i += 1\n",
    "\n",
    "    x = x[1:]\n",
    "    w = w[1:]\n",
    "\n",
    "    return x, w"
   ]
  },
  {
   "cell_type": "code",
   "execution_count": 81,
   "metadata": {},
   "outputs": [],
   "source": [
    "# Model parameters (default)\n",
    "\n",
    "Tbar = 25 # number of periods (fist period is t=1) \n",
    "ngridm = 500 # number of grid points over assets\n",
    "mmax = 50 # maximum level of assets\n",
    "expn = 5 # number of quadrature points used in calculation of expectations\n",
    "nsims = 10 # number of simulations\n",
    "init = [10, 30] # interval of the initial wealth\n",
    "r = 0.05 # interest rate\n",
    "df = 0.95 # discount factor\n",
    "sigma = 0.25 # sigma parameter in income shocks\n",
    "duw = 0.35 #disutility of work\n",
    "theta = 1.95 # CRRA coefficient (log utility if ==1)\n",
    "inc0 = 0.75 # income equation: constant\n",
    "inc1 = 0.04 # income equation: age coef\n",
    "inc2 = 0.0002 # income equation: age^2 coef\n",
    "cfloor =0.001 # consumption floor (safety net in retirement)\n",
    "lambda_ = 0.02 # scale of the EV taste shocks "
   ]
  },
  {
   "cell_type": "code",
   "execution_count": 92,
   "metadata": {},
   "outputs": [],
   "source": [
    "# Functions: utility and budget constraint\n",
    "\n",
    "def util(consumption, working):\n",
    "    \"\"\"CRRA utility\"\"\"\n",
    "    \n",
    "    u = (consumption**(1-theta)-1)/(1-theta)\n",
    "    u = u - duw*(working)\n",
    "    \n",
    "    return u\n",
    "\n",
    "def mutil(consumption):\n",
    "    \"\"\"Marginal utility CRRA\"\"\"\n",
    "    \n",
    "    mu = consumption**(-theta)\n",
    "    \n",
    "    return mu\n",
    "\n",
    "def imutil(mutil):\n",
    "    \"\"\"Inverse marginal utility CRRA\n",
    "    Consumption as a function of marginal utility\"\"\"\n",
    "    \n",
    "    cons = mutil**(-1/theta)\n",
    "    \n",
    "    return cons\n",
    "\n",
    "\n",
    "def income(it, shock):\n",
    "    \"\"\"Income in period it given normal shock\"\"\"\n",
    "    \n",
    "    age = it + 20 # matlab strats counting at 1, Python at zero\n",
    "    print(inc0 + inc1*age - inc2*age**2)\n",
    "    w = np.exp(inc0 + inc1*age - inc2*age**2 + shock)\n",
    "    \n",
    "    return w\n",
    "\n",
    "\n",
    "def budget(it, savings, shocks, working):\n",
    "    \"\"\"Wealth, M_{t+1} in period t+1, where it == t\n",
    "    \n",
    "    Arguments\n",
    "    ---------\n",
    "        savings: np.array of savings with length ngridm\n",
    "        shocks: np.array of shocks with length expn\n",
    "    \n",
    "    Returns\n",
    "    -------\n",
    "        w1: matrix with dimension (expn, ngridm) of all possible\n",
    "    next period wealths\n",
    "    \"\"\"\n",
    "    \n",
    "    w1 = np.full((ngridm, expn), income(it, shocks)*working).T + np.full((expn, ngridm), savings*(1+r))\n",
    "    \n",
    "    return w1\n",
    "\n",
    "def mbudget():\n",
    "    \"\"\"Marginal budget:\n",
    "    Derivative of budget with respect to savings\"\"\"\n",
    "    \n",
    "    mw1 = np.full((expn, ngridm), (1+r))\n",
    "    \n",
    "    return mw1"
   ]
  },
  {
   "cell_type": "code",
   "execution_count": 93,
   "metadata": {},
   "outputs": [],
   "source": [
    "# Value function for worker\n",
    "# interpolate and extrapolate are potentially substitutable by the interpolate function below\n",
    "\n",
    "def value_function(working, it, x):\n",
    "    \"\"\"Value function calculation for the \"\"\"\n",
    "    \n",
    "    x = x.flatten('F')\n",
    "    \n",
    "    res = np.full(x.shape, np.nan)\n",
    "    \n",
    "    # Mark constrained region\n",
    "    mask = x < value[1, 0, working, it] # credit constraint between 1st (M_{t+1) = 0) and second point (A_{t+1} = 0)\n",
    "    \n",
    "    # Calculate t+1 value function in the constrained region\n",
    "    res[mask] = util(x[mask], working) + df*value[0, 1, working, it]\n",
    "    \n",
    "    # Calculate t+1 value function in non-constrained region\n",
    "    # interpolate\n",
    "    res[~mask] = np.interp(x[~mask], value[:, 0, working, it], value[:, 1, working, it])\n",
    "    # extrapolate\n",
    "    slope = (value[-2, 1, working, it] - value[-1, 1, working, it])/(value[-2, 0, working, it] - value[-1, 0, working, it])\n",
    "    intercept = value[-1, 1, working, it] - value[-1, 0, working, it]*slope\n",
    "    res[res == np.max(value[:, 1, working, it])] = intercept + slope*x[res == np.max(value[:, 1, working, it])]\n",
    "\n",
    "    return res"
   ]
  },
  {
   "cell_type": "code",
   "execution_count": 94,
   "metadata": {},
   "outputs": [],
   "source": [
    "# Calculation of probability to choose work, if a worker today\n",
    "def chpr(x):\n",
    "    \"\"\"Calculate the probability of choosing work in t+1\n",
    "    for state worker given t+1 value functions\"\"\"\n",
    "    \n",
    "    mx = np.amax(x, axis = 0)\n",
    "    mxx = x - mx\n",
    "    res = np.exp(mxx[1, :]/lambda_)/np.sum(np.exp(mxx/lambda_), axis = 0)\n",
    "    \n",
    "    return res"
   ]
  },
  {
   "cell_type": "code",
   "execution_count": 95,
   "metadata": {},
   "outputs": [],
   "source": [
    "# Expected value function calculation in state worker\n",
    "def logsum(x):\n",
    "    \"\"\"Calculate expected value function\"\"\"\n",
    "    \n",
    "    mx = np.amax(x, axis = 0)\n",
    "    mxx = x - mx\n",
    "    res = mx + lambda_*np.log(np.sum(np.exp(mxx/lambda_), axis = 0))\n",
    "    \n",
    "    return res"
   ]
  },
  {
   "cell_type": "markdown",
   "metadata": {},
   "source": [
    "m0 parametrisation - minimal shocks\n",
    "--------------------------------------------"
   ]
  },
  {
   "cell_type": "code",
   "execution_count": 96,
   "metadata": {},
   "outputs": [],
   "source": [
    "# Minimal shocks\n",
    "sigma = 0\n",
    "lambda_ = 2.2204e-16"
   ]
  },
  {
   "cell_type": "code",
   "execution_count": 97,
   "metadata": {},
   "outputs": [],
   "source": [
    "# Initialize grids\n",
    "quadp, quadw = quadrature(expn,0,1)\n",
    "quadstnorm = scps.norm.ppf(quadp)\n",
    "savingsgrid = np.linspace(0, mmax, ngridm)"
   ]
  },
  {
   "cell_type": "code",
   "execution_count": 98,
   "metadata": {},
   "outputs": [],
   "source": [
    "# Initialize containers\n",
    "\n",
    "# Container for endogenous gridpoints of (beginning-of-period) assets\n",
    "# and corresponding consumption\n",
    "policy = np.full((ngridm + 1, 2, 2, Tbar), np.nan)\n",
    "\n",
    "# Value functions\n",
    "value = np.full((ngridm + 1, 2, 2, Tbar), np.nan)"
   ]
  },
  {
   "cell_type": "code",
   "execution_count": 99,
   "metadata": {},
   "outputs": [],
   "source": [
    "# Handling of last period and first elements\n",
    "# policy\n",
    "policy[1:, 0, 0, Tbar-1] = savingsgrid\n",
    "policy[1:, 0, 1, Tbar-1] = savingsgrid\n",
    "policy[1:, 1, :, Tbar-1] = policy[1:, 0, :, Tbar-1]\n",
    "policy[0, :, :, :] = 0.00"
   ]
  },
  {
   "cell_type": "code",
   "execution_count": 100,
   "metadata": {},
   "outputs": [],
   "source": [
    "# value\n",
    "value[2:, 0, :, Tbar-1] = util(policy[2:, 0, :, Tbar-1], 0)\n",
    "value[2:, 1, :, Tbar-1] = util(policy[2:, 0, :, Tbar-1], 1)\n",
    "value[0:2, :, :, Tbar -1] = 0.00\n",
    "value[0, 0, :, :] = 0.00"
   ]
  },
  {
   "cell_type": "code",
   "execution_count": null,
   "metadata": {},
   "outputs": [],
   "source": []
  },
  {
   "cell_type": "code",
   "execution_count": 101,
   "metadata": {},
   "outputs": [
    {
     "name": "stdout",
     "output_type": "stream",
     "text": [
      "[-0. -0.  0.  0.  0.]\n",
      "2.1001999999999996\n",
      "[[1.00000000e-03 1.05210421e-01 2.10420842e-01 ... 5.22895792e+01\n",
      "  5.23947896e+01 5.25000000e+01]\n",
      " [1.00000000e-03 1.05210421e-01 2.10420842e-01 ... 5.22895792e+01\n",
      "  5.23947896e+01 5.25000000e+01]\n",
      " [1.00000000e-03 1.05210421e-01 2.10420842e-01 ... 5.22895792e+01\n",
      "  5.23947896e+01 5.25000000e+01]\n",
      " [1.00000000e-03 1.05210421e-01 2.10420842e-01 ... 5.22895792e+01\n",
      "  5.23947896e+01 5.25000000e+01]\n",
      " [1.00000000e-03 1.05210421e-01 2.10420842e-01 ... 5.22895792e+01\n",
      "  5.23947896e+01 5.25000000e+01]]\n",
      "[-0. -0.  0.  0.  0.]\n",
      "2.1001999999999996\n",
      "[[ 8.16780331  8.27301373  8.37822415 ... 60.45738247 60.56259289\n",
      "  60.66780331]\n",
      " [ 8.16780331  8.27301373  8.37822415 ... 60.45738247 60.56259289\n",
      "  60.66780331]\n",
      " [ 8.16780331  8.27301373  8.37822415 ... 60.45738247 60.56259289\n",
      "  60.66780331]\n",
      " [ 8.16780331  8.27301373  8.37822415 ... 60.45738247 60.56259289\n",
      "  60.66780331]\n",
      " [ 8.16780331  8.27301373  8.37822415 ... 60.45738247 60.56259289\n",
      "  60.66780331]]\n"
     ]
    }
   ],
   "source": [
    "# Solve workers problem with EGM for period T-1, T-2 and T-3\n",
    "# The EGM step already yields the same result as the matlab code for T-1 and T-2\n",
    "# Difference in result for T-3 => DC step has to be performed after the EGM step\n",
    "for period in [23]:\n",
    "    \n",
    "    for choice in[0, 1]:\n",
    "        # M_{t+1}\n",
    "        print(quadstnorm*sigma)\n",
    "        wk1 = budget(period, savingsgrid, quadstnorm*sigma, choice)\n",
    "        wk1[wk1 < cfloor] = cfloor\n",
    "        print(wk1)\n",
    "        # Value function\n",
    "        vl1 = np.full((2, ngridm * expn), np.nan)\n",
    "\n",
    "        if period + 1 == Tbar - 1:\n",
    "            vl1[0, :] = util(wk1, 0).flatten('F')\n",
    "            vl1[1, :] = util(wk1, 1).flatten('F')\n",
    "        else:\n",
    "            vl1[1, :] = value_function(1, period + 1, wk1) # value function in t+1 if choice in t+1 is work\n",
    "            vl1[0, :] = value_function(0, period + 1, wk1) # value function in t+1 if choice in t+1 is retiree\n",
    "\n",
    "        # Probability of choosing work in t+1\n",
    "        if choice == 0:\n",
    "            # Probability of choosing work in t+1\n",
    "            pr1 = np.full(2500, 0.00)\n",
    "        else:\n",
    "            pr1 = chpr(vl1)\n",
    "\n",
    "        # Next period consumption based on interpolation and extrapolation\n",
    "        # given grid points and associated consumption\n",
    "        cons10 = np.interp(wk1, policy[:, 0, 0, period + 1], policy[:, 1, 0, period+1])\n",
    "        # extrapolate linearly right of max grid point\n",
    "        slope = (policy[-2, 1, 0, period + 1] - policy[-1, 1, 0, period + 1])/(policy[-2, 0, 0, period + 1] - policy[-1, 0, 0, period + 1])\n",
    "        intercept = policy[-1, 1, 0, period + 1] - policy[-1, 0, 0, period + 1]*slope\n",
    "        cons10[cons10 == np.max(policy[:, 1, 0, period+1])] = intercept + slope*wk1[cons10 == np.max(policy[:, 1, 0, period+1])]\n",
    "        cons10_flat = cons10.flatten('F')\n",
    "\n",
    "        cons11 = np.interp(wk1, policy[:, 0, 1, period + 1], policy[:, 1, 1, period+1])\n",
    "        # extrapolate linearly right of max grid point\n",
    "        slope = (policy[-2, 1, 1, period + 1] - policy[-1, 1, 1, period + 1])/(policy[-2, 0, 1, period + 1] - policy[-1, 0, 1, period + 1])\n",
    "        intercept = policy[-1, 1, 1, period + 1] - policy[-1, 0, 1, period + 1]*slope\n",
    "        cons11[cons11 == np.max(policy[:, 1, 1, period+1])] = intercept + slope*wk1[cons11 == np.max(policy[:, 1, 1, period+1])]\n",
    "        cons11_flat = cons11.flatten('F')\n",
    "\n",
    "        # Marginal utility of expected consumption next period\n",
    "        mu1 = pr1*mutil(cons11_flat) + (1 - pr1)*mutil(cons10_flat)\n",
    "\n",
    "        # Marginal budget\n",
    "        # Note: Constant for this model formulation (1+r)\n",
    "        mwk1 = mbudget()\n",
    "\n",
    "        # RHS of Euler eq., p 337, integrate out error of y\n",
    "        rhs = np.dot(quadw.T, np.multiply(mu1.reshape(wk1.shape, order = 'F'), mwk1))\n",
    "        # Current period consumption from Euler equation\n",
    "        \n",
    "        cons0 = imutil(df*rhs)\n",
    "        # Update containers related to consumption\n",
    "        policy[1:, 1, choice, period] = cons0\n",
    "        policy[1:, 0, choice, period] = savingsgrid + cons0\n",
    "\n",
    "\n",
    "        if choice == 1:\n",
    "            # Calculate continuation value\n",
    "            ev = np.dot(quadw.T, logsum(vl1).reshape(wk1.shape, order = 'F'))\n",
    "        else:\n",
    "            ev = np.dot(quadw.T, vl1[0, :].reshape(wk1.shape, order = 'F'))\n",
    "\n",
    "        # Update value function related containers\n",
    "        value[1:, 1, choice, period] = util(cons0, choice) + df*ev\n",
    "        value[1:, 0, choice, period] = savingsgrid + cons0\n",
    "        value[0, 1, choice, period] = ev[0]"
   ]
  },
  {
   "cell_type": "code",
   "execution_count": null,
   "metadata": {},
   "outputs": [],
   "source": [
    "with open('m0_value.pkl', 'rb') as file : \n",
    "    m0_value = pickle.load(file)\n",
    "\n",
    "with open('m0_policy.pkl', 'rb') as file : \n",
    "    m0_policy = pickle.load(file)"
   ]
  },
  {
   "cell_type": "code",
   "execution_count": null,
   "metadata": {},
   "outputs": [],
   "source": [
    "# Verify that EGM already yields correct solution for t-1 and t-2 in value\n",
    "np.testing.assert_almost_equal(m0_value[0:501, 1, 1, 22], value[:, 1, 1, 22])"
   ]
  },
  {
   "cell_type": "code",
   "execution_count": null,
   "metadata": {},
   "outputs": [],
   "source": [
    "np.testing.assert_almost_equal(m0_value[0:501, 1, 0, 22], value[:, 1, 0, 22])"
   ]
  },
  {
   "cell_type": "code",
   "execution_count": null,
   "metadata": {},
   "outputs": [],
   "source": [
    "# Verify that EGM already yields correct solution for t-1 and t-2 in policy\n",
    "np.testing.assert_almost_equal(m0_policy[0:501, 1, 1, 22], policy[:, 1, 1, 22])"
   ]
  },
  {
   "cell_type": "code",
   "execution_count": null,
   "metadata": {},
   "outputs": [],
   "source": [
    "np.testing.assert_almost_equal(m0_policy[0:501, 1, 0, 22], policy[:, 1, 0, 22])"
   ]
  },
  {
   "cell_type": "code",
   "execution_count": null,
   "metadata": {},
   "outputs": [],
   "source": [
    "# Difference in t-3\n",
    "value[0:100, 1, 0, 21]"
   ]
  },
  {
   "cell_type": "code",
   "execution_count": null,
   "metadata": {},
   "outputs": [],
   "source": [
    "m0_value[:100, 1, 0, 21]"
   ]
  },
  {
   "cell_type": "code",
   "execution_count": null,
   "metadata": {
    "scrolled": true
   },
   "outputs": [],
   "source": [
    "policy[:, 0, 1, period]"
   ]
  },
  {
   "cell_type": "markdown",
   "metadata": {},
   "source": [
    "Start secondary evelope\n",
    "-----------------------------\n",
    "\n",
    "To Do: Secondary envelope as a function and not line-by-line\n",
    "To Do: Handling of discontinuity in the credit constrained region, retirement_model.m 137-148"
   ]
  },
  {
   "cell_type": "code",
   "execution_count": null,
   "metadata": {},
   "outputs": [],
   "source": [
    "def secondary_envelope(obj):\n",
    "    result = []\n",
    "    newdots = []\n",
    "    index_removed = []\n",
    "\n",
    "    for k in range(obj.shape[0]):\n",
    "        sect = []\n",
    "        cur = deepcopy(obj[k])\n",
    "        # Find discontinutiy\n",
    "        ii = cur[0][1:]>cur[0][:-1]\n",
    "        # Substitute for matlab while true loop\n",
    "        i=1\n",
    "        while_operator = True\n",
    "        while while_operator:\n",
    "            j = np.where([ii[counter] != ii[0] for counter in range(len(ii))])[0]\n",
    "            if len(j) == 0:\n",
    "                if i >1:\n",
    "                    sect += [cur]\n",
    "                while_operator=False\n",
    "            else:\n",
    "                j = min(j)\n",
    "\n",
    "                sect_container, cur = chop(cur, j, True)\n",
    "                sect += [sect_container]\n",
    "                ii = ii[j:]\n",
    "                i += 1\n",
    "        # yes we can use np.sort instead of the pre-specified function from the upper envelope notebook\n",
    "        if len(sect) > 1:\n",
    "            sect = [np.sort(i) for i in sect]\n",
    "            result_container, newdots_container = upper_envelope(sect, True, True)\n",
    "            index_removed_container = diff(obj[k], result_container, 10)\n",
    "        else:\n",
    "            result_container = obj[k]\n",
    "            index_removed_container = np.array([])\n",
    "            newdots_container = np.stack([np.array([]), np.array([])])\n",
    "        \n",
    "        result += [result_container]\n",
    "        newdots += [newdots_container]\n",
    "        index_removed += [index_removed_container]\n",
    "        \n",
    "    return result, newdots, index_removed\n"
   ]
  },
  {
   "cell_type": "code",
   "execution_count": null,
   "metadata": {},
   "outputs": [],
   "source": [
    "for point in [21]:\n",
    "    obj = np.stack([value[1:, :, 1, point].T, value[1:, :, 0, point].T])\n",
    "    r1, new, rem = secondary_envelope(obj)\n",
    "    # Values are now equal \n",
    "    np.testing.assert_almost_equal(m0_value[0:501, 0, 1, point].T[~np.isnan(m0_value[0:501, :, 1, point].T[0])][1:], r1[0][0])\n",
    "    np.testing.assert_almost_equal(m0_value[0:501, 1, 1, point].T[~np.isnan(m0_value[0:501, :, 1, point].T[0])][1:], r1[0][1])\n",
    "    np.testing.assert_almost_equal(m0_value[0:501, 0, 0, point].T[~np.isnan(m0_value[0:501, :, 0, point].T[0])][1:], r1[1][0])\n",
    "    np.testing.assert_almost_equal(m0_value[0:501, 1, 0, point].T[~np.isnan(m0_value[0:501, :, 0, point].T[0])][1:], r1[1][1])"
   ]
  },
  {
   "cell_type": "code",
   "execution_count": null,
   "metadata": {},
   "outputs": [],
   "source": [
    "value[:, 0, 1, 21] = np.append(np.append(np.full(18, np.nan),np.array([0.0])) , r1[0][0])\n",
    "value[:, 1, 1, 21] = np.append(np.append(np.full(18, np.nan),value[0, 1, 1, 21]) , r1[0][1])\n"
   ]
  },
  {
   "cell_type": "code",
   "execution_count": null,
   "metadata": {},
   "outputs": [],
   "source": []
  },
  {
   "cell_type": "code",
   "execution_count": null,
   "metadata": {},
   "outputs": [],
   "source": [
    "# Solve workers problem with EGM for period T-1, T-2 and T-3\n",
    "# The EGM step already yields the same result as the matlab code for T-1 and T-2\n",
    "# Difference in result for T-3 => DC step has to be performed after the EGM step\n",
    "for period in [20]:\n",
    "    \n",
    "    for choice in[0, 1]:\n",
    "        # M_{t+1}\n",
    "        wk1 = budget(period, savingsgrid, quadstnorm*sigma, choice)\n",
    "        wk1[wk1 < cfloor] = cfloor\n",
    "\n",
    "        # Value function\n",
    "        vl1 = np.full((2, ngridm * expn), np.nan)\n",
    "\n",
    "        if period + 1 == Tbar - 1:\n",
    "            vl1[0, :] = util(wk1, 0).flatten('F')\n",
    "            vl1[1, :] = util(wk1, 1).flatten('F')\n",
    "        else:\n",
    "            vl1[1, :] = value_function(1, period + 1, wk1) # value function in t+1 if choice in t+1 is work\n",
    "            vl1[0, :] = value_function(0, period + 1, wk1) # value function in t+1 if choice in t+1 is retiree\n",
    "\n",
    "        # Probability of choosing work in t+1\n",
    "        if choice == 0:\n",
    "            # Probability of choosing work in t+1\n",
    "            pr1 = np.full(2500, 0.00)\n",
    "        else:\n",
    "            pr1 = chpr(vl1)\n",
    "\n",
    "        # Next period consumption based on interpolation and extrapolation\n",
    "        # given grid points and associated consumption\n",
    "        cons10 = np.interp(wk1, policy[:, 0, 0, period + 1], policy[:, 1, 0, period+1])\n",
    "        # extrapolate linearly right of max grid point\n",
    "        slope = (policy[-2, 1, 0, period + 1] - policy[-1, 1, 0, period + 1])/(policy[-2, 0, 0, period + 1] - policy[-1, 0, 0, period + 1])\n",
    "        intercept = policy[-1, 1, 0, period + 1] - policy[-1, 0, 0, period + 1]*slope\n",
    "        cons10[cons10 == np.max(policy[:, 1, 0, period+1])] = intercept + slope*wk1[cons10 == np.max(policy[:, 1, 0, period+1])]\n",
    "        cons10_flat = cons10.flatten('F')\n",
    "\n",
    "        cons11 = np.interp(wk1, policy[:, 0, 1, period + 1], policy[:, 1, 1, period+1])\n",
    "        # extrapolate linearly right of max grid point\n",
    "        slope = (policy[-2, 1, 1, period + 1] - policy[-1, 1, 1, period + 1])/(policy[-2, 0, 1, period + 1] - policy[-1, 0, 1, period + 1])\n",
    "        intercept = policy[-1, 1, 1, period + 1] - policy[-1, 0, 1, period + 1]*slope\n",
    "        cons11[cons11 == np.max(policy[:, 1, 1, period+1])] = intercept + slope*wk1[cons11 == np.max(policy[:, 1, 1, period+1])]\n",
    "        cons11_flat = cons11.flatten('F')\n",
    "\n",
    "        # Marginal utility of expected consumption next period\n",
    "        mu1 = pr1*mutil(cons11_flat) + (1 - pr1)*mutil(cons10_flat)\n",
    "\n",
    "        # Marginal budget\n",
    "        # Note: Constant for this model formulation (1+r)\n",
    "        mwk1 = mbudget()\n",
    "\n",
    "        # RHS of Euler eq., p 337, integrate out error of y\n",
    "        rhs = np.dot(quadw.T, np.multiply(mu1.reshape(wk1.shape, order = 'F'), mwk1))\n",
    "        # Current period consumption from Euler equation\n",
    "        \n",
    "        cons0 = imutil(df*rhs)\n",
    "        # Update containers related to consumption\n",
    "        policy[1:, 1, choice, period] = cons0\n",
    "        policy[1:, 0, choice, period] = savingsgrid + cons0\n",
    "\n",
    "\n",
    "        if choice == 1:\n",
    "            # Calculate continuation value\n",
    "            ev = np.dot(quadw.T, logsum(vl1).reshape(wk1.shape, order = 'F'))\n",
    "        else:\n",
    "            ev = np.dot(quadw.T, vl1[0, :].reshape(wk1.shape, order = 'F'))\n",
    "\n",
    "        # Update value function related containers\n",
    "        value[1:, 1, choice, period] = util(cons0, choice) + df*ev\n",
    "        value[1:, 0, choice, period] = savingsgrid + cons0\n",
    "        value[0, 1, choice, period] = ev[0]"
   ]
  },
  {
   "cell_type": "code",
   "execution_count": null,
   "metadata": {},
   "outputs": [],
   "source": [
    "for point in [20]:\n",
    "    obj = np.stack([value[1:, :, 1, point].T, value[1:, :, 0, point].T])\n",
    "    r1, new, rem = secondary_envelope(obj)\n"
   ]
  },
  {
   "cell_type": "code",
   "execution_count": null,
   "metadata": {},
   "outputs": [],
   "source": [
    "r1[0][0][:10], m0_value[0:501, 0, 1, 21].T[~np.isnan(m0_value[0:501, :, 1, 21].T[0])][1:11]"
   ]
  },
  {
   "cell_type": "code",
   "execution_count": null,
   "metadata": {},
   "outputs": [],
   "source": [
    "import scipy.interpolate as scin\n",
    "interpolation = scin.interp1d(r1[0][0], r1[0][1], bounds_error=False, fill_value='extrapolate')\n",
    "interpolation(0.0)"
   ]
  },
  {
   "cell_type": "code",
   "execution_count": null,
   "metadata": {},
   "outputs": [],
   "source": [
    "len(r1[0][0])"
   ]
  },
  {
   "cell_type": "code",
   "execution_count": null,
   "metadata": {},
   "outputs": [],
   "source": [
    "np.append(np.full(18, np.nan), r1[0][0])"
   ]
  },
  {
   "cell_type": "code",
   "execution_count": null,
   "metadata": {},
   "outputs": [],
   "source": [
    "# Discontinuity in values\n",
    "obj[0, 0, 24:50]"
   ]
  },
  {
   "cell_type": "code",
   "execution_count": null,
   "metadata": {},
   "outputs": [],
   "source": [
    "range(len(ii))"
   ]
  },
  {
   "cell_type": "code",
   "execution_count": null,
   "metadata": {},
   "outputs": [],
   "source": [
    "i = 1\n",
    "sect = []"
   ]
  },
  {
   "cell_type": "code",
   "execution_count": null,
   "metadata": {},
   "outputs": [],
   "source": [
    "len(ii)"
   ]
  },
  {
   "cell_type": "code",
   "execution_count": null,
   "metadata": {},
   "outputs": [],
   "source": [
    "# Explore wether one can simply use numpy for sorting insted of the translated matlab function\n",
    "sect[1] = np.sort(sect[1])\n",
    "sect[1]"
   ]
  },
  {
   "cell_type": "markdown",
   "metadata": {},
   "source": [
    "Upper envelope"
   ]
  },
  {
   "cell_type": "code",
   "execution_count": null,
   "metadata": {},
   "outputs": [],
   "source": [
    "# aux_function used in upper_evelope below\n",
    "def aux_function(x, obj1, obj2):\n",
    "    x = [x]\n",
    "    value, extr = np.subtract(interpolate(x,obj1), interpolate(x, obj2))\n",
    "    return value"
   ]
  },
  {
   "cell_type": "code",
   "execution_count": null,
   "metadata": {},
   "outputs": [],
   "source": [
    "# interpolate used in upper_evelope below\n",
    "def interpolate(xx, obj, one=False):    \n",
    "    if not one:\n",
    "        interpolation = InterpolatedUnivariateSpline(obj[0], obj[1], k=1)\n",
    "        container = interpolation(xx)\n",
    "        extrapolate = [True if (i>max(obj[0])) |(i<min(obj[0])) else False for i in xx]\n",
    "    else:\n",
    "        container = []\n",
    "        extrapolate = []\n",
    "        \n",
    "        for poly  in obj:\n",
    "            interpolation = InterpolatedUnivariateSpline(poly[0], poly[1], k=1)\n",
    "            container += [interpolation(xx)]\n",
    "            extrapolate += [np.array([True if (i>max(poly[0])) |(i<min(poly[0])) else False for i in xx])]\n",
    "    return container, extrapolate"
   ]
  },
  {
   "cell_type": "code",
   "execution_count": null,
   "metadata": {},
   "outputs": [],
   "source": [
    "# Perform upper envelope calculation\n",
    "result_container, newdots_container = upper_envelope(sect, True, True)"
   ]
  },
  {
   "cell_type": "code",
   "execution_count": null,
   "metadata": {},
   "outputs": [],
   "source": [
    "# Array of same length as MatLab code\n",
    "# Same number of points removed\n",
    "result_container[0].shape"
   ]
  },
  {
   "cell_type": "code",
   "execution_count": null,
   "metadata": {},
   "outputs": [],
   "source": [
    "# Verify result for x values of value after upper envelope\n",
    "# Same points removed as in MatLab code\n",
    "np.testing.assert_array_almost_equal(m0_value[19:501, 1, 0, 21], result_container[0])"
   ]
  },
  {
   "cell_type": "code",
   "execution_count": null,
   "metadata": {},
   "outputs": [],
   "source": [
    "# Verify result for y values of value after upper envelope\n",
    "# Same points removed as in MatLab code\n",
    "np.testing.assert_array_almost_equal(m0_value[19:501, 0, 0, 21], result_container[1])"
   ]
  },
  {
   "cell_type": "code",
   "execution_count": null,
   "metadata": {},
   "outputs": [],
   "source": [
    "# Verify output of result_inter\n",
    "# One new point added, one intersection, same as MatLab code\n",
    "newdots_container"
   ]
  },
  {
   "cell_type": "markdown",
   "metadata": {},
   "source": [
    "Finish up secondary envelope"
   ]
  },
  {
   "cell_type": "markdown",
   "metadata": {
    "scrolled": true
   },
   "source": [
    "diff(obj, result_container)\n",
    "\n",
    "!!! Function not working with this input"
   ]
  },
  {
   "cell_type": "code",
   "execution_count": null,
   "metadata": {},
   "outputs": [],
   "source": [
    "# Find indexes of missing elements\n",
    "missing_elements = np.setdiff1d(obj[0], result_container[0])\n",
    "missing_elements"
   ]
  },
  {
   "cell_type": "code",
   "execution_count": null,
   "metadata": {},
   "outputs": [],
   "source": [
    "indexremoved = []\n",
    "\n",
    "for value in missing_elements:\n",
    "    indexremoved.append(obj[0].tolist().index(value))\n",
    "\n",
    "indexremoved = np.array(sort(indexremoved))"
   ]
  },
  {
   "cell_type": "code",
   "execution_count": null,
   "metadata": {},
   "outputs": [],
   "source": [
    "# Same indexes of removed points as in MatLab code\n",
    "indexremoved"
   ]
  },
  {
   "cell_type": "markdown",
   "metadata": {},
   "source": [
    "Back to retirement_model.m solve_dsegm line 149ff."
   ]
  },
  {
   "cell_type": "code",
   "execution_count": null,
   "metadata": {},
   "outputs": [],
   "source": [
    "len(indexremoved) > 0"
   ]
  },
  {
   "cell_type": "code",
   "execution_count": null,
   "metadata": {},
   "outputs": [],
   "source": [
    "# All points below\n",
    "# Note what MatLab function find is doing\n",
    "# If one simply does \"<\" in Python, result would be wrong\n",
    "# Current workaround might not be robust to all cases - find a better wat to pythonise MatLabs find function\n",
    "j = arange(0, (np.where(policy[:, 0, 1, 21] > newdots_container[0][0]))[0][0])\n",
    "j"
   ]
  },
  {
   "cell_type": "code",
   "execution_count": null,
   "metadata": {},
   "outputs": [],
   "source": [
    "# Points that were not deleted\n",
    "j_new = np.setdiff1d(j, indexremoved)\n",
    "j_new"
   ]
  },
  {
   "cell_type": "code",
   "execution_count": null,
   "metadata": {},
   "outputs": [],
   "source": [
    "j = max(j_new)\n",
    "j"
   ]
  },
  {
   "cell_type": "code",
   "execution_count": null,
   "metadata": {},
   "outputs": [],
   "source": [
    "# Potentially a better way of setting j exists, such that indexes here are simplified\n",
    "new_left = np.interp(newdots_container[0][0], policy[j+1:j+3, 0, 1, 21], policy[j+1:j+3, 1, 1, 21])\n",
    "new_left"
   ]
  },
  {
   "cell_type": "code",
   "execution_count": null,
   "metadata": {},
   "outputs": [],
   "source": [
    "# Perform similar operation for the upper/right side\n",
    "# All comments from above apply here\n",
    "j = np.arange(np.where(policy[:, 0, 1, 21] < newdots_container[0][0])[0][-1], policy.shape[0]+1)\n",
    "j"
   ]
  },
  {
   "cell_type": "code",
   "execution_count": null,
   "metadata": {},
   "outputs": [],
   "source": [
    "j_new = np.setdiff1d(j, indexremoved)\n",
    "j_new"
   ]
  },
  {
   "cell_type": "code",
   "execution_count": null,
   "metadata": {},
   "outputs": [],
   "source": [
    "j = min(j_new)\n",
    "j"
   ]
  },
  {
   "cell_type": "code",
   "execution_count": null,
   "metadata": {},
   "outputs": [],
   "source": [
    "new_right = np.interp(newdots_container[0][0], policy[j:j+2, 0, 1, period], policy[j:j+2, 1, 1, period])\n",
    "new_right"
   ]
  },
  {
   "cell_type": "code",
   "execution_count": null,
   "metadata": {},
   "outputs": [],
   "source": [
    "# Remove inferior points from policy\n",
    "# Means: Remove all points with indexes in indexremoved\n",
    "policy_thinout_x = policy[:, 0, 1, period].tolist()\n",
    "policy_thinout_y = policy[:, 1, 1, period].tolist()"
   ]
  },
  {
   "cell_type": "code",
   "execution_count": null,
   "metadata": {},
   "outputs": [],
   "source": [
    "del policy_thinout_x[indexremoved[0]+1 : indexremoved[-1]+2]\n",
    "del policy_thinout_y[indexremoved[0]+1 : indexremoved[-1]+2]"
   ]
  },
  {
   "cell_type": "code",
   "execution_count": null,
   "metadata": {},
   "outputs": [],
   "source": [
    "# Add new point twice\n",
    "policy_thinout_x.append(newdots_container[0][0] - 1e3*2.2204e-16)\n",
    "policy_thinout_x.append(newdots_container[0][0])"
   ]
  },
  {
   "cell_type": "code",
   "execution_count": null,
   "metadata": {},
   "outputs": [],
   "source": [
    "# Add new point twice\n",
    "policy_thinout_y.append(new_left)\n",
    "policy_thinout_y.append(new_right)"
   ]
  },
  {
   "cell_type": "code",
   "execution_count": null,
   "metadata": {},
   "outputs": [],
   "source": [
    "len(policy_thinout_x)"
   ]
  },
  {
   "cell_type": "code",
   "execution_count": null,
   "metadata": {},
   "outputs": [],
   "source": [
    "new_policy = np.full((2, ngridm + 1), np.nan)\n",
    "new_policy[0, - len(policy_thinout_x):] = np.array(policy_thinout_x)\n",
    "new_policy[1, - len(policy_thinout_y):] = np.array(policy_thinout_y)"
   ]
  },
  {
   "cell_type": "code",
   "execution_count": null,
   "metadata": {},
   "outputs": [],
   "source": [
    "# Ensure that points are in the right position\n",
    "new_policy = np.sort(new_policy)"
   ]
  },
  {
   "cell_type": "code",
   "execution_count": null,
   "metadata": {},
   "outputs": [],
   "source": [
    "# Verify correct solution for t-3 in policy\n",
    "np.testing.assert_almost_equal(m0_policy[17:501, 1, 0, 21], new_policy[0, 0:484])"
   ]
  },
  {
   "cell_type": "code",
   "execution_count": null,
   "metadata": {},
   "outputs": [],
   "source": [
    "# Finish up\n",
    "policy[:, :, 1, period] = new_policy.T"
   ]
  }
 ],
 "metadata": {
  "kernelspec": {
   "display_name": "Python [conda env:dcegm] *",
   "language": "python",
   "name": "conda-env-dcegm-py"
  },
  "language_info": {
   "codemirror_mode": {
    "name": "ipython",
    "version": 3
   },
   "file_extension": ".py",
   "mimetype": "text/x-python",
   "name": "python",
   "nbconvert_exporter": "python",
   "pygments_lexer": "ipython3",
   "version": "3.7.3"
  }
 },
 "nbformat": 4,
 "nbformat_minor": 2
}
