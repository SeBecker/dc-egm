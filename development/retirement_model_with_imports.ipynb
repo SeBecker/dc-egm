{
 "cells": [
  {
   "cell_type": "code",
   "execution_count": 121,
   "metadata": {},
   "outputs": [
    {
     "name": "stdout",
     "output_type": "stream",
     "text": [
      "The autoreload extension is already loaded. To reload it, use:\n",
      "  %reload_ext autoreload\n"
     ]
    }
   ],
   "source": [
    "import numpy as np\n",
    "import scipy.stats as scps\n",
    "from scipy.special.orthogonal import ps_roots\n",
    "from scipy.interpolate import InterpolatedUnivariateSpline\n",
    "%load_ext autoreload\n",
    "\n",
    "%autoreload 2\n",
    "\n",
    "\n"
   ]
  },
  {
   "cell_type": "code",
   "execution_count": 122,
   "metadata": {},
   "outputs": [],
   "source": [
    "from dc_egm import chop, polyline, aux_function, interpolate, upper_envelope\n",
    "from ret import util, mutil, imutil, income, budget, mbudget, value_function, chpr, logsum"
   ]
  },
  {
   "cell_type": "markdown",
   "metadata": {},
   "source": [
    "# Model parameters (default)"
   ]
  },
  {
   "cell_type": "code",
   "execution_count": 123,
   "metadata": {},
   "outputs": [],
   "source": [
    "# Number of periods (fist period is t=1) \n",
    "Tbar = 25\n",
    "\n",
    "# Number of grid points over assets\n",
    "ngridm = 500\n",
    "\n",
    "# Maximum level of assets\n",
    "mmax = 50\n",
    "\n",
    "# Number of quadrature points used in calculation of expectations\n",
    "n_quad_points = 5\n",
    "\n",
    "# Number of simulations\n",
    "nsims = 10\n",
    "\n",
    "# Interval of the initial wealth\n",
    "init = [10, 30]\n",
    "\n",
    "# Interest rate\n",
    "r = 0.05\n",
    "\n",
    "# Discount factor\n",
    "beta = 0.95\n",
    "\n",
    "# Standard deviation of log-normally distributed income shocks\n",
    "sigma = 0.00\n",
    "\n",
    "# Disutility of work\n",
    "duw = 0.35\n",
    "\n",
    "# CRRA coefficient (log utility if ==1)\n",
    "theta = 1.95\n",
    "\n",
    "# Careful with the coefficients here -- original code had the polynomial\n",
    "# Coded as a + b * x - c * x**2 ... (note the crazy minus)\n",
    "coeffs_age_poly = np.array([0.75, 0.04, -0.0002])\n",
    "\n",
    "# Consumption floor (safety net in retirement)\n",
    "cfloor = 0.001\n",
    "\n",
    "# Scale of the EV taste shocks \n",
    "lambda_ = 2.2204e-16\n"
   ]
  },
  {
   "cell_type": "code",
   "execution_count": 124,
   "metadata": {},
   "outputs": [],
   "source": [
    "# Initialize grids\n",
    "quadstnorm = scps.norm.ppf(ps_roots(n_quad_points)[0])\n",
    "quadw = ps_roots(n_quad_points)[1]"
   ]
  },
  {
   "cell_type": "code",
   "execution_count": 125,
   "metadata": {},
   "outputs": [],
   "source": [
    "savingsgrid = np.linspace(0, mmax, ngridm)"
   ]
  },
  {
   "cell_type": "code",
   "execution_count": null,
   "metadata": {},
   "outputs": [],
   "source": []
  }
 ],
 "metadata": {
  "kernelspec": {
   "display_name": "Python [conda env:dcegm] *",
   "language": "python",
   "name": "conda-env-dcegm-py"
  },
  "language_info": {
   "codemirror_mode": {
    "name": "ipython",
    "version": 3
   },
   "file_extension": ".py",
   "mimetype": "text/x-python",
   "name": "python",
   "nbconvert_exporter": "python",
   "pygments_lexer": "ipython3",
   "version": "3.7.3"
  }
 },
 "nbformat": 4,
 "nbformat_minor": 4
}
