{
 "cells": [
  {
   "cell_type": "code",
   "execution_count": 1,
   "metadata": {},
   "outputs": [],
   "source": [
    "import numpy as np\n",
    "import scipy.stats as scps\n",
    "from scipy.special.orthogonal import ps_roots\n",
    "import scipy.interpolate as scin\n",
    "from copy import *\n",
    "%load_ext autoreload\n",
    "\n",
    "%autoreload 2"
   ]
  },
  {
   "cell_type": "code",
   "execution_count": 2,
   "metadata": {},
   "outputs": [],
   "source": [
    "from dcegm.retirement.ret import util\n",
    "from dcegm.solve.egm_step import egm_step\n",
    "from dcegm.solve.solve_auxiliary import create_container\n",
    "from dcegm.solve.solve import solve_retirement_model"
   ]
  },
  {
   "cell_type": "code",
   "execution_count": 3,
   "metadata": {},
   "outputs": [],
   "source": [
    "import pickle\n",
    "with open('../dcegm/test/resources/m0_value_new.pkl', 'rb') as file : \n",
    "    m0_value = pickle.load(file)\n",
    "\n",
    "with open('../dcegm/test/resources/m0_policy_new.pkl', 'rb') as file : \n",
    "    m0_policy = pickle.load(file)\n",
    "\n",
    "with open('../dcegm/test/resources/m5_value_new.pkl', 'rb') as file : \n",
    "    m5_value = pickle.load(file)\n",
    "\n",
    "with open('../dcegm/test/resources/m5_policy_new.pkl', 'rb') as file : \n",
    "    m5_policy = pickle.load(file)"
   ]
  },
  {
   "cell_type": "markdown",
   "metadata": {},
   "source": [
    "# Model parameters (default)"
   ]
  },
  {
   "cell_type": "code",
   "execution_count": 4,
   "metadata": {},
   "outputs": [],
   "source": [
    "# Number of periods (fist period is t=1) \n",
    "num_periods = 25\n",
    "\n",
    "# Number of grid points over assets\n",
    "num_grid = 500\n",
    "\n",
    "# Maximum level of assets\n",
    "mmax = 50\n",
    "\n",
    "# Number of quadrature points used in calculation of expectations\n",
    "n_quad_points = 5\n",
    "\n",
    "# Number of simulations\n",
    "nsims = 50\n",
    "\n",
    "# Interval of the initial wealth\n",
    "init = [10, 30]\n",
    "\n",
    "# Interest rate\n",
    "r = 0.05\n",
    "\n",
    "# Discount factor\n",
    "beta = 0.95\n",
    "\n",
    "# Standard deviation of log-normally distributed income shocks\n",
    "sigma = 0.00\n",
    "\n",
    "# Disutility of work\n",
    "cost_work = 0.35\n",
    "\n",
    "# CRRA coefficient (log utility if ==1)\n",
    "theta = 1.95\n",
    "\n",
    "# Careful with the coefficients here -- original code had the polynomial\n",
    "# Coded as a + b * x - c * x**2 ... (note the crazy minus)\n",
    "coeffs_age_poly = np.array([0.75, 0.04, -0.0002])\n",
    "\n",
    "# Consumption floor (safety net in retirement)\n",
    "cfloor = 0.001\n",
    "\n",
    "# Scale of the EV taste shocks \n",
    "lambda_ = 2.2204e-16"
   ]
  },
  {
   "cell_type": "code",
   "execution_count": 5,
   "metadata": {},
   "outputs": [],
   "source": [
    "value, policy = solve_retirement_model(\n",
    "    num_grid,\n",
    "    n_quad_points,\n",
    "    r, coeffs_age_poly,\n",
    "    theta,\n",
    "    cost_work,\n",
    "    beta,\n",
    "    lambda_,\n",
    "    sigma,\n",
    "    mmax,\n",
    "    num_periods)"
   ]
  },
  {
   "cell_type": "code",
   "execution_count": 6,
   "metadata": {},
   "outputs": [],
   "source": [
    "for period in range(23, -1, -1):\n",
    "    for choice in [1,0]:\n",
    "        np.testing.assert_array_almost_equal(value[period][choice], m0_value[period][choice])\n",
    "        np.testing.assert_array_almost_equal(policy[period][choice], m0_policy[period][choice])"
   ]
  },
  {
   "cell_type": "code",
   "execution_count": 7,
   "metadata": {},
   "outputs": [],
   "source": [
    "# Change relevant parameters for m5 specification\n",
    "\n",
    "# Interest rate\n",
    "r = 0.05\n",
    "\n",
    "# Discount factor\n",
    "beta = 1 / (1 + r)\n",
    "\n",
    "# Standard deviation of log-normally distributed income shocks\n",
    "sigma = 0.35\n",
    "\n",
    "# Scale of the EV taste shocks \n",
    "lambda_ = 0.2"
   ]
  },
  {
   "cell_type": "code",
   "execution_count": 8,
   "metadata": {},
   "outputs": [],
   "source": [
    "value5, policy5 = solve_retirement_model(\n",
    "    num_grid,\n",
    "    n_quad_points,\n",
    "    r, coeffs_age_poly,\n",
    "    theta,\n",
    "    cost_work,\n",
    "    beta,\n",
    "    lambda_,\n",
    "    sigma,\n",
    "    mmax,\n",
    "    num_periods)"
   ]
  },
  {
   "cell_type": "code",
   "execution_count": 9,
   "metadata": {},
   "outputs": [],
   "source": [
    "for period in range(23, -1, -1):\n",
    "    for choice in [1,0]:\n",
    "        np.testing.assert_array_almost_equal(value5[period][choice], m5_value[period][choice])\n",
    "        np.testing.assert_array_almost_equal(policy5[period][choice], m5_policy[period][choice])"
   ]
  }
 ],
 "metadata": {
  "kernelspec": {
   "display_name": "Python [conda env:dcegm] *",
   "language": "python",
   "name": "conda-env-dcegm-py"
  },
  "language_info": {
   "codemirror_mode": {
    "name": "ipython",
    "version": 3
   },
   "file_extension": ".py",
   "mimetype": "text/x-python",
   "name": "python",
   "nbconvert_exporter": "python",
   "pygments_lexer": "ipython3",
   "version": "3.7.3"
  }
 },
 "nbformat": 4,
 "nbformat_minor": 1
}
