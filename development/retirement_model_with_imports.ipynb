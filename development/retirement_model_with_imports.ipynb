{
 "cells": [
  {
   "cell_type": "code",
   "execution_count": 930,
   "metadata": {},
   "outputs": [
    {
     "name": "stdout",
     "output_type": "stream",
     "text": [
      "The autoreload extension is already loaded. To reload it, use:\n",
      "  %reload_ext autoreload\n"
     ]
    }
   ],
   "source": [
    "import numpy as np\n",
    "import scipy.stats as scps\n",
    "from scipy.special.orthogonal import ps_roots\n",
    "import scipy.interpolate as scin\n",
    "from copy import *\n",
    "%load_ext autoreload\n",
    "\n",
    "%autoreload 2\n",
    "\n",
    "\n"
   ]
  },
  {
   "cell_type": "code",
   "execution_count": 931,
   "metadata": {},
   "outputs": [],
   "source": [
    "from ret import util, mutil, imutil, income, budget, mbudget, value_function, budget_old, chpr, logsum, egm_step,chop, polyline, diff, aux_function, interpolate, upper_envelope"
   ]
  },
  {
   "cell_type": "markdown",
   "metadata": {},
   "source": [
    "# Model parameters (default)"
   ]
  },
  {
   "cell_type": "code",
   "execution_count": 932,
   "metadata": {},
   "outputs": [],
   "source": [
    "# Number of periods (fist period is t=1) \n",
    "Tbar = 25\n",
    "\n",
    "# Number of grid points over assets\n",
    "ngridm = 500\n",
    "\n",
    "# Maximum level of assets\n",
    "mmax = 50\n",
    "\n",
    "# Number of quadrature points used in calculation of expectations\n",
    "n_quad_points = 5\n",
    "\n",
    "# Number of simulations\n",
    "nsims = 10\n",
    "\n",
    "# Interval of the initial wealth\n",
    "init = [10, 30]\n",
    "\n",
    "# Interest rate\n",
    "r = 0.05\n",
    "\n",
    "# Discount factor\n",
    "beta = 0.95\n",
    "\n",
    "# Standard deviation of log-normally distributed income shocks\n",
    "sigma = 0.00\n",
    "\n",
    "# Disutility of work\n",
    "duw = 0.35\n",
    "\n",
    "# CRRA coefficient (log utility if ==1)\n",
    "theta = 1.95\n",
    "\n",
    "# Careful with the coefficients here -- original code had the polynomial\n",
    "# Coded as a + b * x - c * x**2 ... (note the crazy minus)\n",
    "coeffs_age_poly = np.array([0.75, 0.04, -0.0002])\n",
    "\n",
    "# Consumption floor (safety net in retirement)\n",
    "cfloor = 0.001\n",
    "\n",
    "# Scale of the EV taste shocks \n",
    "lambda_ = 2.2204e-16"
   ]
  },
  {
   "cell_type": "code",
   "execution_count": 933,
   "metadata": {},
   "outputs": [],
   "source": [
    "# Initialize grids\n",
    "quadstnorm = scps.norm.ppf(ps_roots(n_quad_points)[0])\n",
    "quadw = ps_roots(n_quad_points)[1]"
   ]
  },
  {
   "cell_type": "code",
   "execution_count": 934,
   "metadata": {},
   "outputs": [],
   "source": [
    "savingsgrid = np.linspace(0, mmax, ngridm)"
   ]
  },
  {
   "cell_type": "code",
   "execution_count": 935,
   "metadata": {},
   "outputs": [],
   "source": [
    "# We are currently facing a problem since our result arrays do not have the same length. \n",
    "# Instead of a multidimensional array we should use a list in which we store the different arrays.\n",
    "# What would this mean for our functions? "
   ]
  },
  {
   "cell_type": "code",
   "execution_count": 950,
   "metadata": {},
   "outputs": [],
   "source": [
    "# Set up list containers\n",
    "policy = [[np.full((ngridm + 1, 2), np.nan) for k in range(2)] for i in range(Tbar)]\n",
    "value = [[np.full((ngridm + 1, 2), np.nan) for k in range(2)] for i in range(Tbar)]\n",
    "# Handling of last period and first elements\n",
    "# policy\n",
    "for k in range(Tbar):\n",
    "    for choice in range(2):\n",
    "        value[k][choice][0, 0] = 0.00\n",
    "        policy[k][choice][0, :] = 0.00\n",
    "\n",
    "policy[Tbar - 1][0][1:, 0] = deepcopy(savingsgrid)\n",
    "policy[Tbar-1][1][1:, 0] = deepcopy(savingsgrid)\n",
    "policy[Tbar-1][0][1:, 1] = deepcopy(policy[Tbar-1][0][1:, 0])\n",
    "policy[Tbar-1][1][1:, 1] = deepcopy(policy[Tbar-1][1][1:, 0])\n",
    "# value\n",
    "value[Tbar-1][0][2:, 0] = util(policy[Tbar-1][0][2:, 0], 0, theta, duw)\n",
    "value[Tbar-1][0][2:, 1] = util(policy[Tbar-1][1][2:, 0], 1, theta, duw)\n",
    "value[Tbar-1][1][2:, 0] = util(policy[Tbar-1][0][2:, 0], 0, theta, duw)\n",
    "value[Tbar-1][1][2:, 1] = util(policy[Tbar-1][1][2:, 0], 1, theta, duw)\n",
    "\n",
    "value[Tbar -1][0][0:2] = 0.00\n",
    "value[Tbar -1][1][0:2] = 0.00\n",
    "\n",
    "# The time and the choice dimension are now extracted from our array format. \n",
    "# Instead we are using a list for saving the results which allows us to alter the legth of the arrays\n"
   ]
  },
  {
   "cell_type": "code",
   "execution_count": 951,
   "metadata": {},
   "outputs": [],
   "source": [
    "for period in [23, 22, 21, 20, 19, 18]:\n",
    "    value, policy = egm_step(value, policy, savingsgrid, quadstnorm, period, Tbar, ngridm, cfloor, n_quad_points, r, coeffs_age_poly, theta, duw, beta, lambda_, sigma, quadw)"
   ]
  },
  {
   "cell_type": "code",
   "execution_count": 952,
   "metadata": {},
   "outputs": [],
   "source": [
    "import pickle\n",
    "with open('m0_value.pkl', 'rb') as file : \n",
    "    m0_value = pickle.load(file)\n",
    "\n",
    "with open('m0_policy.pkl', 'rb') as file : \n",
    "    m0_policy = pickle.load(file)\n",
    "    \n",
    "\n",
    "for point in [23, 22, 21, 20, 19]:\n",
    "    np.testing.assert_almost_equal(m0_value[:, 0, 1, point].T[~np.isnan(m0_value[:, 0, 1, point])], value[point][1].T[0])\n",
    "    np.testing.assert_almost_equal(m0_value[:, 1, 1, point].T[~np.isnan(m0_value[:, 1, 1, point])], value[point][1].T[1])\n",
    "    np.testing.assert_almost_equal(m0_policy[:, 0, 1, point].T[~np.isnan(m0_policy[:, 0, 1, point])], policy[point][1].T[0])\n",
    "    np.testing.assert_almost_equal(m0_policy[:, 1, 1, point].T[~np.isnan(m0_policy[:, 1, 1, point])], policy[point][1].T[1])\n"
   ]
  },
  {
   "cell_type": "code",
   "execution_count": null,
   "metadata": {},
   "outputs": [],
   "source": [
    "# OLD ARRAY VERSION\n",
    "# Initialize containers\n",
    "\n",
    "# Container for endogenous gridpoints of (beginning-of-period) assets\n",
    "# and corresponding consumption\n",
    "policy = np.full((ngridm + 1, 2, 2, Tbar), np.nan)\n",
    "\n",
    "# Value functions\n",
    "value = np.full((ngridm + 1, 2, 2, Tbar), np.nan)\n",
    "# Handling of last period and first elements\n",
    "# policy\n",
    "policy[1:, 0, 0, Tbar-1] = savingsgrid\n",
    "policy[1:, 0, 1, Tbar-1] = savingsgrid\n",
    "policy[1:, 1, :, Tbar-1] = policy[1:, 0, :, Tbar-1]\n",
    "policy[0, :, :, :] = 0.00\n",
    "# value\n",
    "value[2:, 0, :, Tbar-1] = util(policy[2:, 0, :, Tbar-1], 0, theta, duw)\n",
    "value[2:, 1, :, Tbar-1] = util(policy[2:, 0, :, Tbar-1], 1, theta, duw)\n",
    "value[0:2, :, :, Tbar -1] = 0.00\n",
    "value[0, 0, :, :] = 0.00"
   ]
  },
  {
   "cell_type": "code",
   "execution_count": null,
   "metadata": {},
   "outputs": [],
   "source": []
  }
 ],
 "metadata": {
  "kernelspec": {
   "display_name": "Python [conda env:dcegm] *",
   "language": "python",
   "name": "conda-env-dcegm-py"
  },
  "language_info": {
   "codemirror_mode": {
    "name": "ipython",
    "version": 3
   },
   "file_extension": ".py",
   "mimetype": "text/x-python",
   "name": "python",
   "nbconvert_exporter": "python",
   "pygments_lexer": "ipython3",
   "version": "3.7.3"
  }
 },
 "nbformat": 4,
 "nbformat_minor": 4
}
