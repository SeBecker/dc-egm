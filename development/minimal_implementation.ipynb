{
 "cells": [
  {
   "cell_type": "code",
   "execution_count": 1,
   "metadata": {},
   "outputs": [],
   "source": [
    "import numpy as np\n",
    "import math\n",
    "import scipy.stats as scps"
   ]
  },
  {
   "cell_type": "markdown",
   "metadata": {},
   "source": [
    "Quadrature points"
   ]
  },
  {
   "cell_type": "code",
   "execution_count": 2,
   "metadata": {},
   "outputs": [],
   "source": [
    "def quadrature(n, lbnd, ubnd):\n",
    "    \n",
    "    x1 = lbnd\n",
    "    x2 = ubnd\n",
    "    x = np.zeros(n)\n",
    "    w = x\n",
    "    EPS = 3e-14\n",
    "    m = int(round((n+EPS)/2)) # flor function in matlab, rounding to the lower integer\n",
    "    xm = (x2+x1)/2\n",
    "    xl = (x2-x1)/2\n",
    "    z1 = 1e99\n",
    "\n",
    "    x = np.full(n+1, np.nan)\n",
    "    w = np.full(n+1, np.nan)\n",
    "\n",
    "    i = 1\n",
    "\n",
    "    while i <= m:\n",
    "\n",
    "        z = math.cos(math.pi*(i - 0.25)/(n + 0.5))\n",
    "\n",
    "        while abs(z - z1) > EPS:\n",
    "            p1 = 1\n",
    "            p2 = 0\n",
    "            j = 1\n",
    "\n",
    "            while j <= n:\n",
    "                p3 = p2\n",
    "                p2 = p1\n",
    "                p1 = ((2*j -1)*z*p2 - (j-1)*p3)/j\n",
    "                j += 1\n",
    "\n",
    "            pp = n*(z*p1 - p2)/(z*z - 1)\n",
    "            z1 = z\n",
    "            z = z1 - p1/pp\n",
    "\n",
    "        x[i] = xm - xl*z\n",
    "        x[n + 1 - i] = xm + xl*z\n",
    "        w[i] = 2*xl/((1-z*z)*pp*pp)\n",
    "        w[n + 1 - i] = w[i]\n",
    "        i += 1\n",
    "\n",
    "    x = x[1:]\n",
    "    w = w[1:]\n",
    "\n",
    "    return x, w"
   ]
  },
  {
   "cell_type": "markdown",
   "metadata": {},
   "source": [
    "Minimal\n",
    "======="
   ]
  },
  {
   "cell_type": "code",
   "execution_count": null,
   "metadata": {},
   "outputs": [],
   "source": [
    "EXPN = 10 # number of quadrature points\n",
    "MMAX = 10 # maximum savings\n",
    "NM = 100 # number of EGM gridpoints\n",
    "TBAR = 25 # number of periods\n",
    "SIGMA = 0.25 # sigma of normal distribution\n",
    "Y = 1 # period income\n",
    "R = 0.05 # interest rate\n",
    "DF = 0.95 # discount factor\n",
    "\n",
    "step = MMAX/NM"
   ]
  },
  {
   "cell_type": "code",
   "execution_count": null,
   "metadata": {},
   "outputs": [],
   "source": [
    "# create quadrature nodes and weights\n",
    "quadp, quadw = quadrature(EXPN, 0, 1)\n",
    "\n",
    "# process through inverse normal distribution\n",
    "quadstnorm = scps.norm.ppf(quadp)\n",
    "\n",
    "# fix exogenous grod points on savings\n",
    "savingsgrid = np.linspace(0, MMAX, NM)"
   ]
  },
  {
   "cell_type": "code",
   "execution_count": null,
   "metadata": {},
   "outputs": [],
   "source": [
    "policy = np.full((NM + 1, 2, TBAR - 1), np.nan)\n",
    "policy[0, :, :] = 0.00"
   ]
  },
  {
   "cell_type": "code",
   "execution_count": null,
   "metadata": {},
   "outputs": [],
   "source": [
    "# Backward induction\n",
    "\n",
    "for period in reversed(range(TBAR - 1)): # starts at 23, end at zero\n",
    "\n",
    "    # obtain next periods wealth at every exog. savings point (A_{t+1}) using budget constraint\n",
    "    w1 = Y + np.multiply((np.exp(quadstnorm*SIGMA)*(1+R)).reshape(10,1), savingsgrid) # M_{t+1}, dim (EXPN, NM)\n",
    "\n",
    "    # every wealth level in t+1 corresponds to an optimal consumption level\n",
    "    # since wealth points might be off grid, get optimal consumption using extrapolation\n",
    "    if period == TBAR - 2:\n",
    "        c1 = w1 # separate handling of last period\n",
    "    else:\n",
    "        # interpolate\n",
    "        c1 = np.interp(w1, policy[:, 0, period + 1], policy[:, 1, period+1]) # c_{t+1}\n",
    "        # extrapolate\n",
    "        slope = (policy[-2, 1, period + 1] - policy[-1, 1, period + 1])/(policy[-2, 0, period + 1] - policy[-1, 0, period + 1])\n",
    "        intercept = policy[-1, 1, period + 1] - policy[-1, 0, period + 1]*slope\n",
    "        c1[c1 == np.max(policy[:, 1, period+1])] = intercept + slope*w1[c1 == np.max(policy[:, 1, period+1])]\n",
    "\n",
    "    # obtain current period optimal consumption and wealth via Euler equation\n",
    "    # since Euler eq. involves c_{t+1} above computations were necessary\n",
    "    rhs = np.dot(quadw.T, 1/c1)\n",
    "    policy[1:, 1, period] = 1/(DF*(1+R)*rhs)\n",
    "    policy[1:, 0, period] = savingsgrid + policy[1:, 1, period]"
   ]
  },
  {
   "cell_type": "markdown",
   "metadata": {},
   "source": [
    "Retirement\n",
    "=========="
   ]
  },
  {
   "cell_type": "markdown",
   "metadata": {},
   "source": [
    "Common elements\n",
    "----------------------"
   ]
  },
  {
   "cell_type": "code",
   "execution_count": 3,
   "metadata": {},
   "outputs": [],
   "source": [
    "# Model parameters\n",
    "\n",
    "Tbar = 25 # number of periods (fist period is t=1) \n",
    "ngridm = 500 # number of grid points over assets\n",
    "mmax = 50 # maximum level of assets\n",
    "expn = 5 # number of quadrature points used in calculation of expectations\n",
    "nsims = 10 # number of simulations\n",
    "init = [10, 30] # interval of the initial wealth\n",
    "r = 0.05 # interest rate\n",
    "df = 0.95 # discount factor\n",
    "sigma = 0.25 # sigma parameter in income shocks\n",
    "duw = 0.35 #disutility of work\n",
    "theta = 1.95 # CRRA coefficient (log utility if ==1)\n",
    "inc0 = 0.75 # income equation: constant\n",
    "inc1 = 0.04 # income equation: age coef\n",
    "inc2 = 0.0002 # income equation: age^2 coef\n",
    "cfloor =0.001 # consumption floor (safety net in retirement)\n",
    "lambda_ = 0.02 # scale of the EV taste shocks "
   ]
  },
  {
   "cell_type": "code",
   "execution_count": 4,
   "metadata": {},
   "outputs": [],
   "source": [
    "# Functions: utility and budget constraint\n",
    "\n",
    "def util(consumption, working):\n",
    "    \"\"\"CRRA utility\"\"\"\n",
    "    \n",
    "    u = (consumption**(1-theta)-1)/(1-theta)\n",
    "    u = u - duw*(working)\n",
    "    \n",
    "    return u\n",
    "\n",
    "def mutil(consumption):\n",
    "    \"\"\"Marginal utility CRRA\"\"\"\n",
    "    \n",
    "    mu = consumption**(-theta)\n",
    "    \n",
    "    return mu\n",
    "\n",
    "def imutil(mutil):\n",
    "    \"\"\"Inverse marginal utility CRRA\n",
    "    Consumption as a function of marginal utility\"\"\"\n",
    "    \n",
    "    cons = mutil**(-1/theta)\n",
    "    \n",
    "    return cons\n",
    "\n",
    "\n",
    "def income(it, shock):\n",
    "    \"\"\"Income in period it given normal shock\"\"\"\n",
    "    \n",
    "    age = it + 20 # matlab strats counting at 1, Python at zero\n",
    "    w = np.exp(inc0 + inc1*age - inc2*age**2 + shock)\n",
    "    \n",
    "    return w\n",
    "\n",
    "\n",
    "def budget(it, savings, shocks, working):\n",
    "    \"\"\"Wealth, M_{t+1} in period t+1, where it == t\n",
    "    \n",
    "    Arguments\n",
    "    ---------\n",
    "        savings: np.array of savings with length ngridm\n",
    "        shocks: np.array of shocks with length expn\n",
    "    \n",
    "    Returns\n",
    "    -------\n",
    "        w1: matrix with dimension (expn, ngridm) of all possible\n",
    "    next period wealths\n",
    "    \"\"\"\n",
    "    \n",
    "    w1 = np.full((ngridm, expn), income(it + 1, shocks)*working).T + np.full((expn, ngridm), savings*(1+r))\n",
    "    \n",
    "    return w1\n",
    "\n",
    "def mbudget():\n",
    "    \"\"\"Marginal budget:\n",
    "    Derivative of budget with respect to savings\"\"\"\n",
    "    \n",
    "    mw1 = np.full((expn, ngridm), (1+r))\n",
    "    \n",
    "    return mw1"
   ]
  },
  {
   "cell_type": "code",
   "execution_count": 5,
   "metadata": {},
   "outputs": [],
   "source": [
    "# Value function for worker\n",
    "\n",
    "def value_function(working, it, x):\n",
    "    \n",
    "    # Remove zero column\n",
    "    x = x.flatten('F')\n",
    "    \n",
    "    res = np.full(x.shape, np.nan)\n",
    "    \n",
    "    # Mark constraint region\n",
    "    if it == Tbar - 1: # special handling of last period\n",
    "        mask = x < (x+1) # all points in constraint region, rewrite in better way\n",
    "    else:\n",
    "        mask = x < value[1, 1, it] # credit constraint between 1st (zero) and second point\n",
    "    \n",
    "    res[mask] = util(x[mask], working) + df*value[0, working, it] #reshaped to array with length 2495\n",
    "    \n",
    "    ## To Do: Add interpolation for non credit constrained regions\n",
    "    # becomes relevant for second to last period\n",
    "    \n",
    "    return res"
   ]
  },
  {
   "cell_type": "code",
   "execution_count": 6,
   "metadata": {},
   "outputs": [],
   "source": [
    "# Value function for retiree\n",
    "\n",
    "def vfcalc(it, x):\n",
    "    \"\"\"Value function calculation for the case of a worker\"\"\"\n",
    "    \n",
    "    vfres = np.full(x.shape, np.nan)\n",
    "    \n",
    "    # Mark constraint region\n",
    "    if it == Tbar - 1: \n",
    "        mask = x < (x+1) \n",
    "    else:\n",
    "        mask = x < value[1, 0, it] # different notation to above\n",
    "    \n",
    "    vfres[mask] = util(x[mask], 0) + df*value[0, 1, it]\n",
    "    \n",
    "    return vfres\n",
    "    \n",
    "    # TO DO: Add interpolation\n",
    "    # becomes relevant after second to last period"
   ]
  },
  {
   "cell_type": "code",
   "execution_count": 7,
   "metadata": {},
   "outputs": [],
   "source": [
    "# Calculation of expected value function\n",
    "\n",
    "def chpr(x):\n",
    "    \n",
    "    mx = np.amax(x, axis = 0)\n",
    "    mxx = x - mx\n",
    "    res = np.exp(mxx[1, :]/lambda_)/np.sum(np.exp(mxx/lambda_), axis = 0)\n",
    "    \n",
    "    return res"
   ]
  },
  {
   "cell_type": "code",
   "execution_count": 8,
   "metadata": {},
   "outputs": [],
   "source": [
    "# Calculation of probability to choose work, if a worker today\n",
    "\n",
    "def logsum(x):\n",
    "    \n",
    "    mx = np.amax(x, axis = 0)\n",
    "    mxx = x - mx\n",
    "    res = mx + lambda_*np.log(np.sum(np.exp(mxx/lambda_), axis = 0))\n",
    "    \n",
    "    return res"
   ]
  },
  {
   "cell_type": "code",
   "execution_count": 9,
   "metadata": {},
   "outputs": [],
   "source": [
    "# Interpolation\n",
    "\n",
    "def interpolate(x, policy):\n",
    "    \n",
    "    xx = x.flatten('F')\n",
    "    res = np.full((policy.shape[1], ngridm * expn), np.nan)\n",
    "    \n",
    "    res_ret = np.interp(xx, savingsgrid, policy[:, 0, period+1])\n",
    "    res_ret[res_ret == np.max(savingsgrid)] = xx[res_ret == np.max(savingsgrid)]\n",
    "    \n",
    "    res_work = np.interp(xx, savingsgrid, policy[:, 0, period+1])\n",
    "    res_work[res_work == np.max(savingsgrid)] = xx[res_work == np.max(savingsgrid)]\n",
    "    \n",
    "    res[0, :] = res_ret\n",
    "    res[1, :] = res_work\n",
    "    \n",
    "    return res"
   ]
  },
  {
   "cell_type": "markdown",
   "metadata": {},
   "source": [
    "Solve EGM\n",
    "-------------\n",
    "\n",
    "Current assumption that this is the solution to the workers problem.\n",
    "\n",
    "Code for second to last period.\n",
    "Runs, but incomplete and definitely have to revisit some parts concerning shape of objects and interpolate/extrapolate part."
   ]
  },
  {
   "cell_type": "code",
   "execution_count": null,
   "metadata": {},
   "outputs": [],
   "source": [
    "# Initialize grids\n",
    "quadp, quadw = quadrature(expn,0,1)\n",
    "quadstnorm = scps.norm.ppf(quadp)\n",
    "savingsgrid = np.linspace(0, mmax, ngridm)"
   ]
  },
  {
   "cell_type": "code",
   "execution_count": null,
   "metadata": {},
   "outputs": [],
   "source": [
    "# Initialize containers\n",
    "\n",
    "# Container for endogenous gridpoints of (beginning-of-period) assets\n",
    "# and corresponding consumption\n",
    "policy = np.full((ngridm, 2, Tbar), np.nan)\n",
    "\n",
    "# Value functions\n",
    "value = np.full((ngridm, 2, Tbar), np.nan)\n",
    "\n",
    "# Choice probabilities\n",
    "pr_work = np.full((ngridm, Tbar), np.nan)"
   ]
  },
  {
   "cell_type": "code",
   "execution_count": null,
   "metadata": {},
   "outputs": [],
   "source": [
    "# Handling of last period\n",
    "endog_grid[:, Tbar - 1] = savingsgrid\n",
    "\n",
    "policy[:, 0, Tbar-1] = savingsgrid\n",
    "policy[:, 1, Tbar-1] = policy[:, 0, Tbar-1]\n",
    "\n",
    "value[1:, 0, Tbar-1] = util(policy[1:, 0, Tbar-1], 0)\n",
    "value[1:, 1, Tbar-1] = util(policy[1:, 0, Tbar-1], 1)\n",
    "value[0, :, Tbar -1] = 0.00\n",
    "\n",
    "pr_work[:, Tbar-1] = 1/(1 + np.exp(duw/sigma)) # from paper p.338, line 4 # actually not used!!!!"
   ]
  },
  {
   "cell_type": "code",
   "execution_count": null,
   "metadata": {},
   "outputs": [],
   "source": [
    "# Start backward induction from second to last period\n",
    "\n",
    "# for period in reversed(range(TBAR - 1)): # starts at 23, end at zero, i.e., 24 iterations\n",
    "    \n",
    "#     for choice in range[0, 1]:\n",
    "\n",
    "period = 23\n",
    "choice = 1\n",
    "    \n",
    "# M_{t+1}\n",
    "wk1 = budget(period, savingsgrid, quadstnorm*sigma, choice)\n",
    "wk1[wk1 < cfloor] = cfloor\n",
    "\n",
    "# Value function\n",
    "vl1 = np.full((2, ngridm * expn), np.nan)\n",
    "vl1[1, :] = value_function(1, period + 1, wk1) # next period value of working\n",
    "vl1[0, :] = value_function(0, period + 1, wk1) # next period value of retiring\n",
    "\n",
    "# Choice probability working\n",
    "# calculated only for choice == 1, i.e., worker\n",
    "if choice == 1:\n",
    "    pr1 = chpr(vl1)\n",
    "\n",
    "# Next period consumption based on interpolation and extrapolation\n",
    "# given grid points and associated consumption\n",
    "cons1 = interpolate(wk1, policy)\n",
    "\n",
    "# Marginal utility of consumption in next period\n",
    "mu1 = pr1*mutil(cons1[1, :]) + (1 - pr1)*mutil(cons1[0, :])\n",
    "\n",
    "# Marginal budget\n",
    "# Note: Constant for this model formulation\n",
    "mwk1 = mbudget()\n",
    "\n",
    "# RHS of Euler eq., p 337, integrate out error of y\n",
    "rhs = np.dot(quadw.T, np.multiply(mu1.reshape(wk1.shape, order = 'F'), mwk1))\n",
    "\n",
    "####################\n",
    "#Current period vars\n",
    "####################\n",
    "\n",
    "# Current period consumption from Euler equation\n",
    "cons0 = imutil(df*rhs)\n",
    "\n",
    "# Update containers related to consumption\n",
    "policy[:, 0, period] = cons0\n",
    "endog_grid[:, period] = savingsgrid + cons0\n",
    "## TO DO!!!: Revisit policy object\n",
    "\n",
    "# Update containers related to value functions\n",
    "ev = np.dot(quadw.T, logsum(vl1).reshape(wk1.shape, order = 'F'))\n",
    "\n",
    "## TO DO: Add line for choice == 0, i.e., retirement"
   ]
  },
  {
   "cell_type": "markdown",
   "metadata": {},
   "source": [
    "Solve retiree\n",
    "============="
   ]
  },
  {
   "cell_type": "markdown",
   "metadata": {},
   "source": [
    "Solution of the retirees problem.\n",
    "\n",
    "Backward induction does not depend on the value function here since because no choice is made. Retirement is an absorbing state. => Backward induction works now!\n",
    "\n",
    "But!!!: We need the value function value of retirement for the simulation: agents would be making choices by comparing the value function values of working and retirement => figure a way out how to calculate value function values! Potentially outsside the loop!\n",
    "\n",
    "Questions:\n",
    "\n",
    "Why does the Gaussian quadrature enter the retirees problem? There is no income involved, and I thought, quadrature is there to integrate out the shocks/errors in the income process..."
   ]
  },
  {
   "cell_type": "code",
   "execution_count": 10,
   "metadata": {},
   "outputs": [],
   "source": [
    "# Initialize grids\n",
    "quadp, quadw = quadrature(expn,0,1)\n",
    "quadstnorm = scps.norm.ppf(quadp)\n",
    "savingsgrid = np.linspace(0, mmax, ngridm)"
   ]
  },
  {
   "cell_type": "code",
   "execution_count": 14,
   "metadata": {},
   "outputs": [],
   "source": [
    "# Initialize containers\n",
    "\n",
    "# Container for endogenous gridpoints of (beginning-of-period) assets\n",
    "# and corresponding consumption\n",
    "policy = np.full((ngridm + 1, 2, Tbar), np.nan) # dim 0 are x = endog. grid, y are assoc cons values\n",
    "\n",
    "# # Value functions\n",
    "# value = np.full((ngridm, 2, Tbar), np.nan) # same dimension meaning as above\n"
   ]
  },
  {
   "cell_type": "code",
   "execution_count": 16,
   "metadata": {
    "scrolled": true
   },
   "outputs": [],
   "source": [
    "# Handling of last period\n",
    "policy[1:, 0, Tbar-1] = savingsgrid\n",
    "policy[1:, 1, Tbar-1] = policy[1:, 0, Tbar-1]\n",
    "\n",
    "# value[:, 0, Tbar-1] = savingsgrid\n",
    "# value[1:, 1, Tbar-1] = util(policy[1:, 0, Tbar-1], 1)\n",
    "# value[0, 1, Tbar -1] = np.nan"
   ]
  },
  {
   "cell_type": "code",
   "execution_count": 17,
   "metadata": {},
   "outputs": [],
   "source": [
    "# Ensuring that policy starts with a zero both for x and y for all period\n",
    "policy[0, :, :] = 0.00"
   ]
  },
  {
   "cell_type": "code",
   "execution_count": 21,
   "metadata": {},
   "outputs": [],
   "source": [
    "# Backward induction\n",
    "\n",
    "for period in reversed(range(Tbar - 1)): # starts at 23, end at zero\n",
    "\n",
    "    # M_{t+1}\n",
    "    wk1 = budget(period, savingsgrid, quadstnorm*sigma, choice)\n",
    "\n",
    "    # Next period consumption based on interpolation and extrapolation\n",
    "    # given grid points and associated consumption\n",
    "    cons1 = np.interp(wk1, policy[:, 0, period + 1], policy[:, 1, period+1])\n",
    "    # extrapolate linearly right of max grid point\n",
    "    slope = (policy[-2, 1, period + 1] - policy[-1, 1, period + 1])/(policy[-2, 0, period + 1] - policy[-1, 0, period + 1])\n",
    "    intercept = policy[-1, 1, period + 1] - policy[-1, 0, period + 1]*slope\n",
    "    cons1[cons1 == np.max(policy[:, 1, period+1])] = intercept + slope*wk1[cons1 == np.max(policy[:, 1, period+1])]\n",
    "    # Consumption floor\n",
    "    cons1[cons1 < cfloor] = cfloor\n",
    "\n",
    "    # Marginal budget\n",
    "    # Note: Constant for this model formulation\n",
    "    mwk1 = mbudget()\n",
    "\n",
    "    # RHS of Euler, integrate out error of y\n",
    "    rhs = np.dot(quadw.T, np.multiply(mutil(cons1), mwk1))\n",
    "\n",
    "    ####################\n",
    "    #Current period vars\n",
    "    ####################\n",
    "\n",
    "    # Current period consumption from Euler equation\n",
    "    cons0 = imutil(df*rhs)\n",
    "\n",
    "    # Update containers related to consumption\n",
    "    policy[1:, 0, period] = savingsgrid + cons0 # save x, endog grid M_{t+1}\n",
    "    policy[1:, 1, period] = cons0 # save y, corresponding consumption\n"
   ]
  },
  {
   "cell_type": "code",
   "execution_count": null,
   "metadata": {},
   "outputs": [],
   "source": []
  }
 ],
 "metadata": {
  "kernelspec": {
   "display_name": "Python 3",
   "language": "python",
   "name": "python3"
  },
  "language_info": {
   "codemirror_mode": {
    "name": "ipython",
    "version": 3
   },
   "file_extension": ".py",
   "mimetype": "text/x-python",
   "name": "python",
   "nbconvert_exporter": "python",
   "pygments_lexer": "ipython3",
   "version": "3.7.3"
  }
 },
 "nbformat": 4,
 "nbformat_minor": 2
}
