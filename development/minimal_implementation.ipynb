{
 "cells": [
  {
   "cell_type": "code",
   "execution_count": 1,
   "metadata": {},
   "outputs": [],
   "source": [
    "import numpy as np\n",
    "import math\n",
    "import scipy.stats as scps"
   ]
  },
  {
   "cell_type": "markdown",
   "metadata": {},
   "source": [
    "Quadrature points"
   ]
  },
  {
   "cell_type": "code",
   "execution_count": 2,
   "metadata": {},
   "outputs": [],
   "source": [
    "def quadrature(n, lbnd, ubnd):\n",
    "    \n",
    "    x1 = lbnd\n",
    "    x2 = ubnd\n",
    "    x = np.zeros(n)\n",
    "    w = x\n",
    "    EPS = 3e-14\n",
    "    m = int(round((n+EPS)/2)) # flor function in matlab, rounding to the lower integer\n",
    "    xm = (x2+x1)/2\n",
    "    xl = (x2-x1)/2\n",
    "    z1 = 1e99\n",
    "\n",
    "    x = np.full(n+1, np.nan)\n",
    "    w = np.full(n+1, np.nan)\n",
    "\n",
    "    i = 1\n",
    "\n",
    "    while i <= m:\n",
    "\n",
    "        z = math.cos(math.pi*(i - 0.25)/(n + 0.5))\n",
    "\n",
    "        while abs(z - z1) > EPS:\n",
    "            p1 = 1\n",
    "            p2 = 0\n",
    "            j = 1\n",
    "\n",
    "            while j <= n:\n",
    "                p3 = p2\n",
    "                p2 = p1\n",
    "                p1 = ((2*j -1)*z*p2 - (j-1)*p3)/j\n",
    "                j += 1\n",
    "\n",
    "            pp = n*(z*p1 - p2)/(z*z - 1)\n",
    "            z1 = z\n",
    "            z = z1 - p1/pp\n",
    "\n",
    "        x[i] = xm - xl*z\n",
    "        x[n + 1 - i] = xm + xl*z\n",
    "        w[i] = 2*xl/((1-z*z)*pp*pp)\n",
    "        w[n + 1 - i] = w[i]\n",
    "        i += 1\n",
    "\n",
    "    x = x[1:]\n",
    "    w = w[1:]\n",
    "\n",
    "    return x, w"
   ]
  },
  {
   "cell_type": "markdown",
   "metadata": {},
   "source": [
    "Minimal\n",
    "======="
   ]
  },
  {
   "cell_type": "code",
   "execution_count": 3,
   "metadata": {},
   "outputs": [],
   "source": [
    "EXPN = 10 # number of quadrature points\n",
    "MMAX = 10 # maximum savings\n",
    "NM = 100 # number of EGM gridpoints\n",
    "TBAR = 25 # number of periods\n",
    "SIGMA = 0.25 # sigma of normal distribution\n",
    "Y = 1 # period income\n",
    "R = 0.05 # interest rate\n",
    "DF = 0.95 # discount factor\n",
    "\n",
    "step = MMAX/NM"
   ]
  },
  {
   "cell_type": "code",
   "execution_count": 4,
   "metadata": {},
   "outputs": [],
   "source": [
    "# create quadrature nodes and weights\n",
    "quadp, quadw = quadrature(EXPN, 0, 1)\n",
    "\n",
    "# process through inverse normal distribution\n",
    "quadstnorm = scps.norm.ppf(quadp)\n",
    "\n",
    "# fix exogenous grod points on savings\n",
    "savingsgrid = np.linspace(0, MMAX, NM)"
   ]
  },
  {
   "cell_type": "code",
   "execution_count": 5,
   "metadata": {},
   "outputs": [],
   "source": [
    "policy = np.full((NM + 1, 2, TBAR - 1), np.nan)\n",
    "policy[0, :, :] = 0.00"
   ]
  },
  {
   "cell_type": "code",
   "execution_count": 6,
   "metadata": {},
   "outputs": [],
   "source": [
    "# Backward induction\n",
    "\n",
    "for period in reversed(range(TBAR - 1)): # starts at 23, end at zero\n",
    "\n",
    "    # obtain next periods wealth at every exog. savings point (A_{t+1}) using budget constraint\n",
    "    w1 = Y + np.multiply((np.exp(quadstnorm*SIGMA)*(1+R)).reshape(10,1), savingsgrid) # M_{t+1}, dim (EXPN, NM)\n",
    "\n",
    "    # every wealth level in t+1 corresponds to an optimal consumption level\n",
    "    # since wealth points might be off grid, get optimal consumption using extrapolation\n",
    "    if period == TBAR - 2:\n",
    "        c1 = w1 # separate handling of last period\n",
    "    else:\n",
    "        # interpolate\n",
    "        c1 = np.interp(w1, policy[:, 0, period + 1], policy[:, 1, period+1]) # c_{t+1}\n",
    "        # extrapolate\n",
    "        slope = (policy[-2, 1, period + 1] - policy[-1, 1, period + 1])/(policy[-2, 0, period + 1] - policy[-1, 0, period + 1])\n",
    "        intercept = policy[-1, 1, period + 1] - policy[-1, 0, period + 1]*slope\n",
    "        c1[c1 == np.max(policy[:, 1, period+1])] = intercept + slope*w1[c1 == np.max(policy[:, 1, period+1])]\n",
    "\n",
    "    # obtain current period optimal consumption and wealth via Euler equation\n",
    "    # since Euler eq. involves c_{t+1} above computations were necessary\n",
    "    rhs = np.dot(quadw.T, 1/c1)\n",
    "    policy[1:, 1, period] = 1/(DF*(1+R)*rhs)\n",
    "    policy[1:, 0, period] = savingsgrid + policy[1:, 1, period]"
   ]
  },
  {
   "cell_type": "markdown",
   "metadata": {},
   "source": [
    "Retirement\n",
    "=========="
   ]
  },
  {
   "cell_type": "markdown",
   "metadata": {},
   "source": [
    "Common elements\n",
    "----------------------"
   ]
  },
  {
   "cell_type": "code",
   "execution_count": 7,
   "metadata": {},
   "outputs": [],
   "source": [
    "# Model parameters\n",
    "\n",
    "Tbar = 25 # number of periods (fist period is t=1) \n",
    "ngridm = 500 # number of grid points over assets\n",
    "mmax = 50 # maximum level of assets\n",
    "expn = 5 # number of quadrature points used in calculation of expectations\n",
    "nsims = 10 # number of simulations\n",
    "init = [10, 30] # interval of the initial wealth\n",
    "r = 0.05 # interest rate\n",
    "df = 0.95 # discount factor\n",
    "sigma = 0.25 # sigma parameter in income shocks\n",
    "duw = 0.35 #disutility of work\n",
    "theta = 1.95 # CRRA coefficient (log utility if ==1)\n",
    "inc0 = 0.75 # income equation: constant\n",
    "inc1 = 0.04 # income equation: age coef\n",
    "inc2 = 0.0002 # income equation: age^2 coef\n",
    "cfloor =0.001 # consumption floor (safety net in retirement)\n",
    "lambda_ = 0.02 # scale of the EV taste shocks "
   ]
  },
  {
   "cell_type": "code",
   "execution_count": 8,
   "metadata": {},
   "outputs": [],
   "source": [
    "# Functions: utility and budget constraint\n",
    "\n",
    "def util(consumption, working):\n",
    "    \"\"\"CRRA utility\"\"\"\n",
    "    \n",
    "    u = (consumption**(1-theta)-1)/(1-theta)\n",
    "    u = u - duw*(working)\n",
    "    \n",
    "    return u\n",
    "\n",
    "def mutil(consumption):\n",
    "    \"\"\"Marginal utility CRRA\"\"\"\n",
    "    \n",
    "    mu = consumption**(-theta)\n",
    "    \n",
    "    return mu\n",
    "\n",
    "def imutil(mutil):\n",
    "    \"\"\"Inverse marginal utility CRRA\n",
    "    Consumption as a function of marginal utility\"\"\"\n",
    "    \n",
    "    cons = mutil**(-1/theta)\n",
    "    \n",
    "    return cons\n",
    "\n",
    "\n",
    "def income(it, shock):\n",
    "    \"\"\"Income in period it given normal shock\"\"\"\n",
    "    \n",
    "    age = it + 20 # matlab strats counting at 1, Python at zero\n",
    "    w = np.exp(inc0 + inc1*age - inc2*age**2 + shock)\n",
    "    \n",
    "    return w\n",
    "\n",
    "\n",
    "def budget(it, savings, shocks, working):\n",
    "    \"\"\"Wealth, M_{t+1} in period t+1, where it == t\n",
    "    \n",
    "    Arguments\n",
    "    ---------\n",
    "        savings: np.array of savings with length ngridm\n",
    "        shocks: np.array of shocks with length expn\n",
    "    \n",
    "    Returns\n",
    "    -------\n",
    "        w1: matrix with dimension (expn, ngridm) of all possible\n",
    "    next period wealths\n",
    "    \"\"\"\n",
    "    \n",
    "    w1 = np.full((ngridm, expn), income(it + 1, shocks)*working).T + np.full((expn, ngridm), savings*(1+r))\n",
    "    \n",
    "    return w1\n",
    "\n",
    "def mbudget():\n",
    "    \"\"\"Marginal budget:\n",
    "    Derivative of budget with respect to savings\"\"\"\n",
    "    \n",
    "    mw1 = np.full((expn, ngridm), (1+r))\n",
    "    \n",
    "    return mw1"
   ]
  },
  {
   "cell_type": "code",
   "execution_count": 9,
   "metadata": {},
   "outputs": [],
   "source": [
    "# Value function for worker\n",
    "\n",
    "def value_function(working, it, x):\n",
    "    \"\"\"Value function calculation for the \"\"\"\n",
    "    \n",
    "    # Remove zero column\n",
    "    x = x.flatten('F')\n",
    "    \n",
    "    res = np.full(x.shape, np.nan)\n",
    "    \n",
    "    # Mark constrained region\n",
    "    mask = x < value[1, 1, working, it] # credit constraint between 1st (M_{t+1) = 0) and second point (A_{t+1} = 0)\n",
    "    \n",
    "    # Calculate t+1 value function in the constrained region\n",
    "    res[mask] = util(x[mask], working) + df*value[0, 1, working, it]\n",
    "    \n",
    "    # Calculate t+1 value function in non-constrained region\n",
    "    # interpolate\n",
    "    res[~mask] = np.interp(x, value[:, 0, choice, period + 1], value[:, 1, choice, period+1])\n",
    "    # extrapolate\n",
    "    slope = (value[-2, 1, choice, period + 1] - value[-1, 1, choice, period + 1])/(value[-2, 0, choice, period + 1] - value[-1, 0, choice, period + 1])\n",
    "    intercept = value[-1, 1, choice, period + 1] - value[-1, 0, choice, period + 1]*slope\n",
    "    res[vfres == np.max(value[:, 1, choice, period+1])] = intercept + slope*x[res == np.max(value[:, 1, choice, period+1])]\n",
    "\n",
    "    return res"
   ]
  },
  {
   "cell_type": "code",
   "execution_count": 10,
   "metadata": {},
   "outputs": [],
   "source": [
    "# Calculation of probability to choose work, if a worker today\n",
    "def chpr(x):\n",
    "    \"\"\"Calculate the probability of choosing work in t+1\n",
    "    for state worker given t+1 value functions\"\"\"\n",
    "    \n",
    "    mx = np.amax(x, axis = 0)\n",
    "    mxx = x - mx\n",
    "    res = np.exp(mxx[1, :]/lambda_)/np.sum(np.exp(mxx/lambda_), axis = 0)\n",
    "    \n",
    "    return res"
   ]
  },
  {
   "cell_type": "code",
   "execution_count": 11,
   "metadata": {},
   "outputs": [],
   "source": [
    "# Expected value function calculation in state worker\n",
    "def logsum(x):\n",
    "    \"\"\"Calculate expected value function\"\"\"\n",
    "    \n",
    "    mx = np.amax(x, axis = 0)\n",
    "    mxx = x - mx\n",
    "    res = mx + lambda_*np.log(np.sum(np.exp(mxx/lambda_), axis = 0))\n",
    "    \n",
    "    return res"
   ]
  },
  {
   "cell_type": "markdown",
   "metadata": {},
   "source": [
    "Solve EGM\n",
    "-------------\n",
    "\n",
    "This is the solution to the workers problem.\n",
    "\n",
    "Code for last and second to last period. Produces same values as matlab code for the same periods.\n",
    "\n",
    "Questions:\n",
    "* Value for worker who choses to retire, period second to last, is NOT the same as value for retiree in second to last period. Also in Matlab code. Why?"
   ]
  },
  {
   "cell_type": "code",
   "execution_count": 48,
   "metadata": {},
   "outputs": [],
   "source": [
    "# Initialize grids\n",
    "quadp, quadw = quadrature(expn,0,1)\n",
    "quadstnorm = scps.norm.ppf(quadp)\n",
    "savingsgrid = np.linspace(0, mmax, ngridm)"
   ]
  },
  {
   "cell_type": "code",
   "execution_count": 49,
   "metadata": {},
   "outputs": [],
   "source": [
    "# Initialize containers\n",
    "\n",
    "# Container for endogenous gridpoints of (beginning-of-period) assets\n",
    "# and corresponding consumption\n",
    "policy = np.full((ngridm, 2, 2, Tbar), np.nan)\n",
    "\n",
    "# Value functions\n",
    "value = np.full((ngridm, 2, 2, Tbar), np.nan)"
   ]
  },
  {
   "cell_type": "code",
   "execution_count": 50,
   "metadata": {},
   "outputs": [],
   "source": [
    "# Handling of last period\n",
    "policy[:, 0, 0, Tbar-1] = savingsgrid\n",
    "policy[:, 0, 1, Tbar-1] = savingsgrid\n",
    "policy[:, 1, :, Tbar-1] = policy[:, 0, :, Tbar-1]\n",
    "policy[0, :, :, :] = 0.00"
   ]
  },
  {
   "cell_type": "code",
   "execution_count": 51,
   "metadata": {},
   "outputs": [],
   "source": [
    "#value[:, 0, :, Tbar-1] = util(policy[:, 0, :, Tbar-1], 0)\n",
    "#value[:, 1, :, Tbar-1] = util(policy[:, 0, :, Tbar-1], 1)\n",
    "value[0, :, :, Tbar -1] = 0.00"
   ]
  },
  {
   "cell_type": "code",
   "execution_count": 52,
   "metadata": {},
   "outputs": [],
   "source": [
    "period = 23\n",
    "choice = 1"
   ]
  },
  {
   "cell_type": "code",
   "execution_count": 53,
   "metadata": {},
   "outputs": [],
   "source": [
    "for choice in[0, 1]:\n",
    "\n",
    "    # M_{t+1}\n",
    "    wk1 = budget(period, savingsgrid, quadstnorm*sigma, choice)\n",
    "    wk1[wk1 < cfloor] = cfloor\n",
    "\n",
    "    # Value function\n",
    "    vl1 = np.full((2, ngridm * expn), np.nan)\n",
    "\n",
    "    if period + 1 == Tbar - 1:\n",
    "        vl1[0, :] = util(wk1, 0).flatten('F')\n",
    "        vl1[1, :] = util(wk1, 1).flatten('F')\n",
    "    else:\n",
    "        vl1[1, :] = value_function(period + 1, 1, wk1) # value function in t+1 if choice in t+1 is work\n",
    "        vl1[0, :] = value_function(period + 1, 0, wk1) # value function in t+1 if choice in t+1 is retiree\n",
    "        # Still to be verified in t-2\n",
    "\n",
    "    # Probability of choosing work in t+1\n",
    "    if choice == 0:\n",
    "        # Probability of choosing work in t+1\n",
    "        pr1 = np.full(2500, 0.00)\n",
    "    else:\n",
    "        pr1 = chpr(vl1)\n",
    "\n",
    "    # Next period consumption based on interpolation and extrapolation\n",
    "    # given grid points and associated consumption\n",
    "    cons10 = np.interp(wk1, policy[:, 0, 0, period + 1], policy[:, 1, 0, period+1])\n",
    "    # extrapolate linearly right of max grid point\n",
    "    slope = (policy[-2, 1, 0, period + 1] - policy[-1, 1, 0, period + 1])/(policy[-2, 0, 0, period + 1] - policy[-1, 0, 0, period + 1])\n",
    "    intercept = policy[-1, 1, 0, period + 1] - policy[-1, 0, 0, period + 1]*slope\n",
    "    cons10[cons10 == np.max(policy[:, 1, 0, period+1])] = intercept + slope*wk1[cons10 == np.max(policy[:, 1, 0, period+1])]\n",
    "    cons10_flat = cons10.flatten('F')\n",
    "\n",
    "    cons11 = np.interp(wk1, policy[:, 0, 1, period + 1], policy[:, 1, 1, period+1])\n",
    "    # extrapolate linearly right of max grid point\n",
    "    slope = (policy[-2, 1, 1, period + 1] - policy[-1, 1, 1, period + 1])/(policy[-2, 0, 1, period + 1] - policy[-1, 0, 1, period + 1])\n",
    "    intercept = policy[-1, 1, 1, period + 1] - policy[-1, 0, 1, period + 1]*slope\n",
    "    cons11[cons11 == np.max(policy[:, 1, 1, period+1])] = intercept + slope*wk1[cons11 == np.max(policy[:, 1, 1, period+1])]\n",
    "    cons11_flat = cons11.flatten('F')\n",
    "\n",
    "    # Marginal utility of expected consumption next period\n",
    "    mu1 = pr1*mutil(cons11_flat) + (1 - pr1)*mutil(cons10_flat)\n",
    "\n",
    "    # Marginal budget\n",
    "    # Note: Constant for this model formulation (1+r)\n",
    "    mwk1 = mbudget()\n",
    "\n",
    "    # RHS of Euler eq., p 337, integrate out error of y\n",
    "    rhs = np.dot(quadw.T, np.multiply(mu1.reshape(wk1.shape, order = 'F'), mwk1))\n",
    "\n",
    "    # Current period consumption from Euler equation\n",
    "    cons0 = imutil(df*rhs)\n",
    "\n",
    "    # Update containers related to consumption\n",
    "    policy[:, 1, choice, period] = cons0\n",
    "    policy[:, 0, choice, period] = savingsgrid + cons0\n",
    "    \n",
    "    \n",
    "    if choice == 1:\n",
    "        # Calculate continuation value\n",
    "        ev = np.dot(quadw.T, logsum(vl1).reshape(wk1.shape, order = 'F'))\n",
    "    else:\n",
    "        ev = np.dot(quadw.T, vl1[0, :].reshape(wk1.shape, order = 'F'))\n",
    "\n",
    "    # Update value function related containers\n",
    "    value[:, 1, choice, period] = util(cons0, choice) + df*ev\n",
    "    value[:, 0, choice, period] = savingsgrid + cons0"
   ]
  },
  {
   "cell_type": "markdown",
   "metadata": {},
   "source": [
    "Solve retiree\n",
    "============="
   ]
  },
  {
   "cell_type": "markdown",
   "metadata": {},
   "source": [
    "Solution of the retirees problem.\n",
    "\n",
    "Backward induction does not depend on the value function here since because no choice is made. Retirement is an absorbing state.\n",
    "\n",
    "Questions:\n",
    "\n",
    "Why does the Gaussian quadrature enter the retirees problem? There is no income involved, quadrature is there to integrate out the shocks/errors in the income process, there are none here??"
   ]
  },
  {
   "cell_type": "code",
   "execution_count": null,
   "metadata": {},
   "outputs": [],
   "source": [
    "# Initialize grids\n",
    "quadp, quadw = quadrature(expn,0,1)\n",
    "quadstnorm = scps.norm.ppf(quadp)\n",
    "savingsgrid = np.linspace(0, mmax, ngridm)"
   ]
  },
  {
   "cell_type": "code",
   "execution_count": null,
   "metadata": {},
   "outputs": [],
   "source": [
    "# Initialize containers\n",
    "\n",
    "# Container for endogenous gridpoints of (beginning-of-period) assets\n",
    "# and corresponding consumption\n",
    "policy = np.full((ngridm + 1, 2, Tbar), np.nan) # dim 0 are x = endog. grid, y are assoc cons values\n"
   ]
  },
  {
   "cell_type": "code",
   "execution_count": null,
   "metadata": {
    "scrolled": true
   },
   "outputs": [],
   "source": [
    "# Handling of last period\n",
    "policy[1:, 0, Tbar-1] = savingsgrid\n",
    "policy[1:, 1, Tbar-1] = policy[1:, 0, Tbar-1]"
   ]
  },
  {
   "cell_type": "code",
   "execution_count": null,
   "metadata": {},
   "outputs": [],
   "source": [
    "# Ensuring that policy starts with a zero both for x and y for all period\n",
    "policy[0, :, :] = 0.00"
   ]
  },
  {
   "cell_type": "code",
   "execution_count": null,
   "metadata": {},
   "outputs": [],
   "source": [
    "# Backward induction\n",
    "choice = 0\n",
    "\n",
    "for period in reversed(range(Tbar - 1)): # starts at 23, end at zero\n",
    "\n",
    "    # M_{t+1}\n",
    "    wk1 = budget(period, savingsgrid, quadstnorm*sigma, choice)\n",
    "\n",
    "    # Next period consumption based on interpolation and extrapolation\n",
    "    # given grid points and associated consumption\n",
    "    cons1 = np.interp(wk1, policy[:, 0, period + 1], policy[:, 1, period+1])\n",
    "    # extrapolate linearly right of max grid point\n",
    "    slope = (policy[-2, 1, period + 1] - policy[-1, 1, period + 1])/(policy[-2, 0, period + 1] - policy[-1, 0, period + 1])\n",
    "    intercept = policy[-1, 1, period + 1] - policy[-1, 0, period + 1]*slope\n",
    "    cons1[cons1 == np.max(policy[:, 1, period+1])] = intercept + slope*wk1[cons1 == np.max(policy[:, 1, period+1])]\n",
    "    # Consumption floor\n",
    "    cons1[cons1 < cfloor] = cfloor\n",
    "\n",
    "    # Marginal budget\n",
    "    # Note: Constant for this model formulation\n",
    "    mwk1 = mbudget()\n",
    "\n",
    "    # RHS of Euler, integrate out error of y\n",
    "    rhs = np.dot(quadw.T, np.multiply(mutil(cons1), mwk1))\n",
    "\n",
    "    ####################\n",
    "    #Current period vars\n",
    "    ####################\n",
    "\n",
    "    # Current period consumption from Euler equation\n",
    "    cons0 = imutil(df*rhs)\n",
    "\n",
    "    # Update containers related to consumption\n",
    "    policy[1:, 0, period] = savingsgrid + cons0 # save x, endog grid M_{t+1}\n",
    "    policy[1:, 1, period] = cons0 # save y, corresponding consumption\n"
   ]
  },
  {
   "cell_type": "markdown",
   "metadata": {},
   "source": [
    "Value function"
   ]
  },
  {
   "cell_type": "code",
   "execution_count": null,
   "metadata": {},
   "outputs": [],
   "source": [
    "# Value function objects\n",
    "value = np.full((ngridm + 1, 2, Tbar), np.nan) # same dimension meaning as above"
   ]
  },
  {
   "cell_type": "code",
   "execution_count": null,
   "metadata": {},
   "outputs": [],
   "source": [
    "# Handling of last period\n",
    "value[1:, 0, Tbar - 1] = savingsgrid\n",
    "value[0, 0, Tbar -1] = 0.00\n",
    "value[:, 1, Tbar - 1] = 0.00"
   ]
  },
  {
   "cell_type": "code",
   "execution_count": null,
   "metadata": {},
   "outputs": [],
   "source": [
    "for period in reversed(range(Tbar - 1)): # starts at 23, end at zero \n",
    "\n",
    "    vfres = np.full(wk1.shape, np.nan)\n",
    "\n",
    "    if period + 1 == Tbar - 1:\n",
    "        vfres[:, 1:] = util(wk1[:, 1:], choice)\n",
    "    else:\n",
    "        vfres = np.interp(wk1, value[:, 0, period + 1], value[:, 1, period+1])\n",
    "        slope = (value[-2, 1, period + 1] - value[-1, 1, period + 1])/(value[-2, 0, period + 1] - value[-1, 0, period + 1])\n",
    "        intercept = value[-1, 1, period + 1] - value[-1, 0, period + 1]*slope\n",
    "        vfres[vfres == np.max(value[:, 1, period+1])] = intercept + slope*wk1[vfres == np.max(value[:, 1, period+1])]\n",
    "\n",
    "    # Calculation of EV\n",
    "\n",
    "    if period + 1 == Tbar - 1:\n",
    "        ev = np.full(500, -99.00)\n",
    "        ev[1:] = np.dot(quadw.T, vfres[:, 1:])\n",
    "    else:\n",
    "        ev = np.dot(quadw.T, vfres)\n",
    "\n",
    "    # Calculation of value\n",
    "    vf_value = util(policy[1:, 1, period], choice) + df*ev\n",
    "\n",
    "    # Determine value\n",
    "\n",
    "    value[1:, 0, period] = policy[1:, 0, period]\n",
    "    value[1:, 1, period] = vf_value\n",
    "    value[0:(Tbar - period), 1, period] = -99.00"
   ]
  }
 ],
 "metadata": {
  "kernelspec": {
   "display_name": "Python 3",
   "language": "python",
   "name": "python3"
  },
  "language_info": {
   "codemirror_mode": {
    "name": "ipython",
    "version": 3
   },
   "file_extension": ".py",
   "mimetype": "text/x-python",
   "name": "python",
   "nbconvert_exporter": "python",
   "pygments_lexer": "ipython3",
   "version": "3.7.3"
  }
 },
 "nbformat": 4,
 "nbformat_minor": 2
}
