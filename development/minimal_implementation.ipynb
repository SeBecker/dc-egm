{
 "cells": [
  {
   "cell_type": "code",
   "execution_count": 1,
   "metadata": {},
   "outputs": [],
   "source": [
    "import numpy as np\n",
    "import math\n",
    "import scipy.stats as scps\n",
    "import matplotlib.pyplot as plt"
   ]
  },
  {
   "cell_type": "markdown",
   "metadata": {},
   "source": [
    "Quadrature points"
   ]
  },
  {
   "cell_type": "code",
   "execution_count": 2,
   "metadata": {},
   "outputs": [],
   "source": [
    "def quadrature(n, lbnd, ubnd):\n",
    "    \n",
    "    x1 = lbnd\n",
    "    x2 = ubnd\n",
    "    x = np.zeros(n)\n",
    "    w = x\n",
    "    EPS = 3e-14\n",
    "    m = int(round((n+EPS)/2)) # flor function in matlab, rounding to the lower integer\n",
    "    xm = (x2+x1)/2\n",
    "    xl = (x2-x1)/2\n",
    "    z1 = 1e99\n",
    "\n",
    "    x = np.full(n+1, np.nan)\n",
    "    w = np.full(n+1, np.nan)\n",
    "\n",
    "    i = 1\n",
    "\n",
    "    while i <= m:\n",
    "\n",
    "        z = math.cos(math.pi*(i - 0.25)/(n + 0.5))\n",
    "\n",
    "        while abs(z - z1) > EPS:\n",
    "            p1 = 1\n",
    "            p2 = 0\n",
    "            j = 1\n",
    "\n",
    "            while j <= n:\n",
    "                p3 = p2\n",
    "                p2 = p1\n",
    "                p1 = ((2*j -1)*z*p2 - (j-1)*p3)/j\n",
    "                j += 1\n",
    "\n",
    "            pp = n*(z*p1 - p2)/(z*z - 1)\n",
    "            z1 = z\n",
    "            z = z1 - p1/pp\n",
    "\n",
    "        x[i] = xm - xl*z\n",
    "        x[n + 1 - i] = xm + xl*z\n",
    "        w[i] = 2*xl/((1-z*z)*pp*pp)\n",
    "        w[n + 1 - i] = w[i]\n",
    "        i += 1\n",
    "\n",
    "    x = x[1:]\n",
    "    w = w[1:]\n",
    "\n",
    "    return x, w"
   ]
  },
  {
   "cell_type": "markdown",
   "metadata": {},
   "source": [
    "Minimal\n",
    "======="
   ]
  },
  {
   "cell_type": "code",
   "execution_count": null,
   "metadata": {},
   "outputs": [],
   "source": [
    "EXPN = 10 # number of quadrature points\n",
    "MMAX = 10 # maximum savings\n",
    "NM = 100 # number of EGM gridpoints\n",
    "TBAR = 25 # number of periods\n",
    "SIGMA = 0.25 # sigma of normal distribution\n",
    "Y = 1 # period income\n",
    "R = 0.05 # interest rate\n",
    "DF = 0.95 # discount factor\n",
    "\n",
    "step = MMAX/NM"
   ]
  },
  {
   "cell_type": "code",
   "execution_count": null,
   "metadata": {},
   "outputs": [],
   "source": [
    "# create quadrature nodes and weights\n",
    "quadp, quadw = quadrature(EXPN, 0, 1)\n",
    "\n",
    "# process through inverse normal distribution\n",
    "quadstnorm = scps.norm.ppf(quadp)\n",
    "\n",
    "# fix exogenous grod points on savings\n",
    "savingsgrid = np.linspace(0, MMAX, NM)"
   ]
  },
  {
   "cell_type": "code",
   "execution_count": null,
   "metadata": {},
   "outputs": [],
   "source": [
    "policy = np.full((NM + 1, 2, TBAR - 1), np.nan)\n",
    "policy[0, :, :] = 0.00"
   ]
  },
  {
   "cell_type": "code",
   "execution_count": null,
   "metadata": {},
   "outputs": [],
   "source": [
    "# Backward induction\n",
    "\n",
    "for period in reversed(range(TBAR - 1)): # starts at 23, end at zero\n",
    "\n",
    "    # obtain next periods wealth at every exog. savings point (A_{t+1}) using budget constraint\n",
    "    w1 = Y + np.multiply((np.exp(quadstnorm*SIGMA)*(1+R)).reshape(10,1), savingsgrid) # M_{t+1}, dim (EXPN, NM)\n",
    "\n",
    "    # every wealth level in t+1 corresponds to an optimal consumption level\n",
    "    # since wealth points might be off grid, get optimal consumption using extrapolation\n",
    "    if period == TBAR - 2:\n",
    "        c1 = w1 # separate handling of last period\n",
    "    else:\n",
    "        # interpolate\n",
    "        c1 = np.interp(w1, policy[:, 0, period + 1], policy[:, 1, period+1]) # c_{t+1}\n",
    "        # extrapolate\n",
    "        slope = (policy[-2, 1, period + 1] - policy[-1, 1, period + 1])/(policy[-2, 0, period + 1] - policy[-1, 0, period + 1])\n",
    "        intercept = policy[-1, 1, period + 1] - policy[-1, 0, period + 1]*slope\n",
    "        c1[c1 == np.max(policy[:, 1, period+1])] = intercept + slope*w1[c1 == np.max(policy[:, 1, period+1])]\n",
    "\n",
    "    # obtain current period optimal consumption and wealth via Euler equation\n",
    "    # since Euler eq. involves c_{t+1} above computations were necessary\n",
    "    rhs = np.dot(quadw.T, 1/c1)\n",
    "    policy[1:, 1, period] = 1/(DF*(1+R)*rhs)\n",
    "    policy[1:, 0, period] = savingsgrid + policy[1:, 1, period]"
   ]
  },
  {
   "cell_type": "markdown",
   "metadata": {},
   "source": [
    "Retirement\n",
    "=========="
   ]
  },
  {
   "cell_type": "markdown",
   "metadata": {},
   "source": [
    "Common elements\n",
    "----------------------"
   ]
  },
  {
   "cell_type": "code",
   "execution_count": 3,
   "metadata": {},
   "outputs": [],
   "source": [
    "# Model parameters (default)\n",
    "\n",
    "Tbar = 25 # number of periods (fist period is t=1) \n",
    "ngridm = 500 # number of grid points over assets\n",
    "mmax = 50 # maximum level of assets\n",
    "expn = 5 # number of quadrature points used in calculation of expectations\n",
    "nsims = 10 # number of simulations\n",
    "init = [10, 30] # interval of the initial wealth\n",
    "r = 0.05 # interest rate\n",
    "df = 0.95 # discount factor\n",
    "sigma = 0.25 # sigma parameter in income shocks\n",
    "duw = 0.35 #disutility of work\n",
    "theta = 1.95 # CRRA coefficient (log utility if ==1)\n",
    "inc0 = 0.75 # income equation: constant\n",
    "inc1 = 0.04 # income equation: age coef\n",
    "inc2 = 0.0002 # income equation: age^2 coef\n",
    "cfloor =0.001 # consumption floor (safety net in retirement)\n",
    "lambda_ = 0.02 # scale of the EV taste shocks "
   ]
  },
  {
   "cell_type": "code",
   "execution_count": 4,
   "metadata": {},
   "outputs": [],
   "source": [
    "# Functions: utility and budget constraint\n",
    "\n",
    "def util(consumption, working):\n",
    "    \"\"\"CRRA utility\"\"\"\n",
    "    \n",
    "    u = (consumption**(1-theta)-1)/(1-theta)\n",
    "    u = u - duw*(working)\n",
    "    \n",
    "    return u\n",
    "\n",
    "def mutil(consumption):\n",
    "    \"\"\"Marginal utility CRRA\"\"\"\n",
    "    \n",
    "    mu = consumption**(-theta)\n",
    "    \n",
    "    return mu\n",
    "\n",
    "def imutil(mutil):\n",
    "    \"\"\"Inverse marginal utility CRRA\n",
    "    Consumption as a function of marginal utility\"\"\"\n",
    "    \n",
    "    cons = mutil**(-1/theta)\n",
    "    \n",
    "    return cons\n",
    "\n",
    "\n",
    "def income(it, shock):\n",
    "    \"\"\"Income in period it given normal shock\"\"\"\n",
    "    \n",
    "    age = it + 20 # matlab strats counting at 1, Python at zero\n",
    "    w = np.exp(inc0 + inc1*age - inc2*age**2 + shock)\n",
    "    \n",
    "    return w\n",
    "\n",
    "\n",
    "def budget(it, savings, shocks, working):\n",
    "    \"\"\"Wealth, M_{t+1} in period t+1, where it == t\n",
    "    \n",
    "    Arguments\n",
    "    ---------\n",
    "        savings: np.array of savings with length ngridm\n",
    "        shocks: np.array of shocks with length expn\n",
    "    \n",
    "    Returns\n",
    "    -------\n",
    "        w1: matrix with dimension (expn, ngridm) of all possible\n",
    "    next period wealths\n",
    "    \"\"\"\n",
    "    \n",
    "    w1 = np.full((ngridm, expn), income(it + 1, shocks)*working).T + np.full((expn, ngridm), savings*(1+r))\n",
    "    \n",
    "    return w1\n",
    "\n",
    "def mbudget():\n",
    "    \"\"\"Marginal budget:\n",
    "    Derivative of budget with respect to savings\"\"\"\n",
    "    \n",
    "    mw1 = np.full((expn, ngridm), (1+r))\n",
    "    \n",
    "    return mw1"
   ]
  },
  {
   "cell_type": "code",
   "execution_count": 5,
   "metadata": {},
   "outputs": [],
   "source": [
    "# Value function for worker\n",
    "\n",
    "def value_function(working, it, x):\n",
    "    \"\"\"Value function calculation for the \"\"\"\n",
    "    \n",
    "    x = x.flatten('F')\n",
    "    \n",
    "    res = np.full(x.shape, np.nan)\n",
    "    \n",
    "    # Mark constrained region\n",
    "    mask = x < value[1, 0, working, it] # credit constraint between 1st (M_{t+1) = 0) and second point (A_{t+1} = 0)\n",
    "    \n",
    "    # Calculate t+1 value function in the constrained region\n",
    "    res[mask] = util(x[mask], working) + df*value[0, 1, working, it]\n",
    "    \n",
    "    # Calculate t+1 value function in non-constrained region\n",
    "    # interpolate\n",
    "    res[~mask] = np.interp(x[~mask], value[:, 0, working, it], value[:, 1, working, it])\n",
    "    # extrapolate\n",
    "    slope = (value[-2, 1, working, it] - value[-1, 1, working, it])/(value[-2, 0, working, it] - value[-1, 0, working, it])\n",
    "    intercept = value[-1, 1, working, it] - value[-1, 0, working, it]*slope\n",
    "    res[res == np.max(value[:, 1, working, it])] = intercept + slope*x[res == np.max(value[:, 1, working, it])]\n",
    "\n",
    "    return res"
   ]
  },
  {
   "cell_type": "code",
   "execution_count": 6,
   "metadata": {},
   "outputs": [],
   "source": [
    "# Calculation of probability to choose work, if a worker today\n",
    "def chpr(x):\n",
    "    \"\"\"Calculate the probability of choosing work in t+1\n",
    "    for state worker given t+1 value functions\"\"\"\n",
    "    \n",
    "    mx = np.amax(x, axis = 0)\n",
    "    mxx = x - mx\n",
    "    res = np.exp(mxx[1, :]/lambda_)/np.sum(np.exp(mxx/lambda_), axis = 0)\n",
    "    \n",
    "    return res"
   ]
  },
  {
   "cell_type": "code",
   "execution_count": 7,
   "metadata": {},
   "outputs": [],
   "source": [
    "# Expected value function calculation in state worker\n",
    "def logsum(x):\n",
    "    \"\"\"Calculate expected value function\"\"\"\n",
    "    \n",
    "    mx = np.amax(x, axis = 0)\n",
    "    mxx = x - mx\n",
    "    res = mx + lambda_*np.log(np.sum(np.exp(mxx/lambda_), axis = 0))\n",
    "    \n",
    "    return res"
   ]
  },
  {
   "cell_type": "markdown",
   "metadata": {},
   "source": [
    "Solve EGM\n",
    "-------------\n",
    "\n",
    "This is the solution to the workers problem.\n",
    "\n",
    "Code for last and second to last period. Produces same values as matlab code for the same periods.\n",
    "\n",
    "Questions:\n",
    "* Value for worker who choses to retire, period second to last, is NOT the same as value for retiree in second to last period. Also in Matlab code. Why?"
   ]
  },
  {
   "cell_type": "code",
   "execution_count": 8,
   "metadata": {},
   "outputs": [],
   "source": [
    "# Initialize grids\n",
    "quadp, quadw = quadrature(expn,0,1)\n",
    "quadstnorm = scps.norm.ppf(quadp)\n",
    "savingsgrid = np.linspace(0, mmax, ngridm)"
   ]
  },
  {
   "cell_type": "code",
   "execution_count": 9,
   "metadata": {},
   "outputs": [],
   "source": [
    "# Initialize containers\n",
    "\n",
    "# Container for endogenous gridpoints of (beginning-of-period) assets\n",
    "# and corresponding consumption\n",
    "policy = np.full((ngridm + 1, 2, 2, Tbar), np.nan)\n",
    "\n",
    "# Value functions\n",
    "value = np.full((ngridm + 1, 2, 2, Tbar), np.nan)"
   ]
  },
  {
   "cell_type": "code",
   "execution_count": 10,
   "metadata": {},
   "outputs": [],
   "source": [
    "# Handling of last period and first elements\n",
    "# policy\n",
    "policy[1:, 0, 0, Tbar-1] = savingsgrid\n",
    "policy[1:, 0, 1, Tbar-1] = savingsgrid\n",
    "policy[1:, 1, :, Tbar-1] = policy[1:, 0, :, Tbar-1]\n",
    "policy[0, :, :, :] = 0.00"
   ]
  },
  {
   "cell_type": "code",
   "execution_count": 11,
   "metadata": {},
   "outputs": [],
   "source": [
    "# value\n",
    "value[2:, 0, :, Tbar-1] = util(policy[2:, 0, :, Tbar-1], 0)\n",
    "value[2:, 1, :, Tbar-1] = util(policy[2:, 0, :, Tbar-1], 1)\n",
    "value[0:2, :, :, Tbar -1] = 0.00\n",
    "value[0, 0, :, :] = 0.00"
   ]
  },
  {
   "cell_type": "markdown",
   "metadata": {},
   "source": [
    "Solution default parametrisation EGM only\n",
    "--------------------------------------------------\n",
    "\n",
    "Note: Default parametrisation refers to the parameter values specified in the begining of the MatLab class in model_retirement.m, here found in the cell \"Model parameters (default)\". "
   ]
  },
  {
   "cell_type": "code",
   "execution_count": 12,
   "metadata": {},
   "outputs": [],
   "source": [
    "for period in reversed(range(Tbar - 1)): # starts at 23, end at zero\n",
    "    \n",
    "    for choice in[0, 1]:\n",
    "\n",
    "        # M_{t+1}\n",
    "        wk1 = budget(period, savingsgrid, quadstnorm*sigma, choice)\n",
    "        wk1[wk1 < cfloor] = cfloor\n",
    "\n",
    "        # Value function\n",
    "        vl1 = np.full((2, ngridm * expn), np.nan)\n",
    "\n",
    "        if period + 1 == Tbar - 1:\n",
    "            vl1[0, :] = util(wk1, 0).flatten('F')\n",
    "            vl1[1, :] = util(wk1, 1).flatten('F')\n",
    "        else:\n",
    "            vl1[1, :] = value_function(1, period + 1, wk1) # value function in t+1 if choice in t+1 is work\n",
    "            vl1[0, :] = value_function(0, period + 1, wk1) # value function in t+1 if choice in t+1 is retiree\n",
    "\n",
    "        # Probability of choosing work in t+1\n",
    "        if choice == 0:\n",
    "            # Probability of choosing work in t+1\n",
    "            pr1 = np.full(2500, 0.00)\n",
    "        else:\n",
    "            pr1 = chpr(vl1)\n",
    "\n",
    "        # Next period consumption based on interpolation and extrapolation\n",
    "        # given grid points and associated consumption\n",
    "        cons10 = np.interp(wk1, policy[:, 0, 0, period + 1], policy[:, 1, 0, period+1])\n",
    "        # extrapolate linearly right of max grid point\n",
    "        slope = (policy[-2, 1, 0, period + 1] - policy[-1, 1, 0, period + 1])/(policy[-2, 0, 0, period + 1] - policy[-1, 0, 0, period + 1])\n",
    "        intercept = policy[-1, 1, 0, period + 1] - policy[-1, 0, 0, period + 1]*slope\n",
    "        cons10[cons10 == np.max(policy[:, 1, 0, period+1])] = intercept + slope*wk1[cons10 == np.max(policy[:, 1, 0, period+1])]\n",
    "        cons10_flat = cons10.flatten('F')\n",
    "\n",
    "        cons11 = np.interp(wk1, policy[:, 0, 1, period + 1], policy[:, 1, 1, period+1])\n",
    "        # extrapolate linearly right of max grid point\n",
    "        slope = (policy[-2, 1, 1, period + 1] - policy[-1, 1, 1, period + 1])/(policy[-2, 0, 1, period + 1] - policy[-1, 0, 1, period + 1])\n",
    "        intercept = policy[-1, 1, 1, period + 1] - policy[-1, 0, 1, period + 1]*slope\n",
    "        cons11[cons11 == np.max(policy[:, 1, 1, period+1])] = intercept + slope*wk1[cons11 == np.max(policy[:, 1, 1, period+1])]\n",
    "        cons11_flat = cons11.flatten('F')\n",
    "\n",
    "        # Marginal utility of expected consumption next period\n",
    "        mu1 = pr1*mutil(cons11_flat) + (1 - pr1)*mutil(cons10_flat)\n",
    "\n",
    "        # Marginal budget\n",
    "        # Note: Constant for this model formulation (1+r)\n",
    "        mwk1 = mbudget()\n",
    "\n",
    "        # RHS of Euler eq., p 337, integrate out error of y\n",
    "        rhs = np.dot(quadw.T, np.multiply(mu1.reshape(wk1.shape, order = 'F'), mwk1))\n",
    "\n",
    "        # Current period consumption from Euler equation\n",
    "        cons0 = imutil(df*rhs)\n",
    "\n",
    "        # Update containers related to consumption\n",
    "        policy[1:, 1, choice, period] = cons0\n",
    "        policy[1:, 0, choice, period] = savingsgrid + cons0\n",
    "\n",
    "\n",
    "        if choice == 1:\n",
    "            # Calculate continuation value\n",
    "            ev = np.dot(quadw.T, logsum(vl1).reshape(wk1.shape, order = 'F'))\n",
    "        else:\n",
    "            ev = np.dot(quadw.T, vl1[0, :].reshape(wk1.shape, order = 'F'))\n",
    "\n",
    "        # Update value function related containers\n",
    "        value[1:, 1, choice, period] = util(cons0, choice) + df*ev\n",
    "        value[1:, 0, choice, period] = savingsgrid + cons0\n",
    "        value[0, 1, choice, period] = ev[0]"
   ]
  },
  {
   "cell_type": "markdown",
   "metadata": {},
   "source": [
    "Minimal schocks illustration of EGM failure\n",
    "--------------------------------------------------"
   ]
  },
  {
   "cell_type": "code",
   "execution_count": 13,
   "metadata": {},
   "outputs": [],
   "source": [
    "# Initialize grids\n",
    "quadp, quadw = quadrature(expn,0,1)\n",
    "quadstnorm = scps.norm.ppf(quadp)\n",
    "savingsgrid = np.linspace(0, mmax, ngridm)"
   ]
  },
  {
   "cell_type": "code",
   "execution_count": 14,
   "metadata": {},
   "outputs": [],
   "source": [
    "# Initialize containers\n",
    "\n",
    "# Container for endogenous gridpoints of (beginning-of-period) assets\n",
    "# and corresponding consumption\n",
    "policy = np.full((ngridm + 1, 2, 2, Tbar), np.nan)\n",
    "\n",
    "# Value functions\n",
    "value = np.full((ngridm + 1, 2, 2, Tbar), np.nan)"
   ]
  },
  {
   "cell_type": "code",
   "execution_count": 15,
   "metadata": {},
   "outputs": [],
   "source": [
    "# Handling of last period and first elements\n",
    "# policy\n",
    "policy[1:, 0, 0, Tbar-1] = savingsgrid\n",
    "policy[1:, 0, 1, Tbar-1] = savingsgrid\n",
    "policy[1:, 1, :, Tbar-1] = policy[1:, 0, :, Tbar-1]\n",
    "policy[0, :, :, :] = 0.00"
   ]
  },
  {
   "cell_type": "code",
   "execution_count": 16,
   "metadata": {},
   "outputs": [],
   "source": [
    "# value\n",
    "value[2:, 0, :, Tbar-1] = util(policy[2:, 0, :, Tbar-1], 0)\n",
    "value[2:, 1, :, Tbar-1] = util(policy[2:, 0, :, Tbar-1], 1)\n",
    "value[0:2, :, :, Tbar -1] = 0.00\n",
    "value[0, 0, :, :] = 0.00"
   ]
  },
  {
   "cell_type": "code",
   "execution_count": 17,
   "metadata": {},
   "outputs": [],
   "source": [
    "# Minimal shocks\n",
    "sigma = 0\n",
    "lambda_ = 2.2204e-16"
   ]
  },
  {
   "cell_type": "code",
   "execution_count": 18,
   "metadata": {},
   "outputs": [],
   "source": [
    "# Solve for period T-1 and T-2\n",
    "for period in [23, 22]:\n",
    "    \n",
    "    for choice in[0, 1]:\n",
    "\n",
    "        # M_{t+1}\n",
    "        wk1 = budget(period, savingsgrid, quadstnorm*sigma, choice)\n",
    "        wk1[wk1 < cfloor] = cfloor\n",
    "\n",
    "        # Value function\n",
    "        vl1 = np.full((2, ngridm * expn), np.nan)\n",
    "\n",
    "        if period + 1 == Tbar - 1:\n",
    "            vl1[0, :] = util(wk1, 0).flatten('F')\n",
    "            vl1[1, :] = util(wk1, 1).flatten('F')\n",
    "        else:\n",
    "            vl1[1, :] = value_function(1, period + 1, wk1) # value function in t+1 if choice in t+1 is work\n",
    "            vl1[0, :] = value_function(0, period + 1, wk1) # value function in t+1 if choice in t+1 is retiree\n",
    "\n",
    "        # Probability of choosing work in t+1\n",
    "        if choice == 0:\n",
    "            # Probability of choosing work in t+1\n",
    "            pr1 = np.full(2500, 0.00)\n",
    "        else:\n",
    "            pr1 = chpr(vl1)\n",
    "\n",
    "        # Next period consumption based on interpolation and extrapolation\n",
    "        # given grid points and associated consumption\n",
    "        cons10 = np.interp(wk1, policy[:, 0, 0, period + 1], policy[:, 1, 0, period+1])\n",
    "        # extrapolate linearly right of max grid point\n",
    "        slope = (policy[-2, 1, 0, period + 1] - policy[-1, 1, 0, period + 1])/(policy[-2, 0, 0, period + 1] - policy[-1, 0, 0, period + 1])\n",
    "        intercept = policy[-1, 1, 0, period + 1] - policy[-1, 0, 0, period + 1]*slope\n",
    "        cons10[cons10 == np.max(policy[:, 1, 0, period+1])] = intercept + slope*wk1[cons10 == np.max(policy[:, 1, 0, period+1])]\n",
    "        cons10_flat = cons10.flatten('F')\n",
    "\n",
    "        cons11 = np.interp(wk1, policy[:, 0, 1, period + 1], policy[:, 1, 1, period+1])\n",
    "        # extrapolate linearly right of max grid point\n",
    "        slope = (policy[-2, 1, 1, period + 1] - policy[-1, 1, 1, period + 1])/(policy[-2, 0, 1, period + 1] - policy[-1, 0, 1, period + 1])\n",
    "        intercept = policy[-1, 1, 1, period + 1] - policy[-1, 0, 1, period + 1]*slope\n",
    "        cons11[cons11 == np.max(policy[:, 1, 1, period+1])] = intercept + slope*wk1[cons11 == np.max(policy[:, 1, 1, period+1])]\n",
    "        cons11_flat = cons11.flatten('F')\n",
    "\n",
    "        # Marginal utility of expected consumption next period\n",
    "        mu1 = pr1*mutil(cons11_flat) + (1 - pr1)*mutil(cons10_flat)\n",
    "\n",
    "        # Marginal budget\n",
    "        # Note: Constant for this model formulation (1+r)\n",
    "        mwk1 = mbudget()\n",
    "\n",
    "        # RHS of Euler eq., p 337, integrate out error of y\n",
    "        rhs = np.dot(quadw.T, np.multiply(mu1.reshape(wk1.shape, order = 'F'), mwk1))\n",
    "\n",
    "        # Current period consumption from Euler equation\n",
    "        cons0 = imutil(df*rhs)\n",
    "\n",
    "        # Update containers related to consumption\n",
    "        policy[1:, 1, choice, period] = cons0\n",
    "        policy[1:, 0, choice, period] = savingsgrid + cons0\n",
    "\n",
    "\n",
    "        if choice == 1:\n",
    "            # Calculate continuation value\n",
    "            ev = np.dot(quadw.T, logsum(vl1).reshape(wk1.shape, order = 'F'))\n",
    "        else:\n",
    "            ev = np.dot(quadw.T, vl1[0, :].reshape(wk1.shape, order = 'F'))\n",
    "\n",
    "        # Update value function related containers\n",
    "        value[1:, 1, choice, period] = util(cons0, choice) + df*ev\n",
    "        value[1:, 0, choice, period] = savingsgrid + cons0\n",
    "        value[0, 1, choice, period] = ev[0]"
   ]
  },
  {
   "cell_type": "code",
   "execution_count": 64,
   "metadata": {
    "scrolled": false
   },
   "outputs": [
    {
     "data": {
      "text/plain": [
       "[<matplotlib.lines.Line2D at 0x1a18dfe710>,\n",
       " <matplotlib.lines.Line2D at 0x1a18dfe828>]"
      ]
     },
     "execution_count": 64,
     "metadata": {},
     "output_type": "execute_result"
    },
    {
     "data": {
      "image/png": "[encoded data removed]",
      "text/plain": [
       "<Figure size 432x288 with 1 Axes>"
      ]
     },
     "metadata": {
      "needs_background": "light"
     },
     "output_type": "display_data"
    }
   ],
   "source": [
    "# EGM produces a suboptimal solution also in period T-1\n",
    "# However, correction is necessary in the credit constraint region.\n",
    "# Since this is a special case, we focus on another period for illustrative purposes, namely, T-3\n",
    "plt.plot(value[3:500, 0, 1, 23], value[3:500, 1, 1, 23], 'ro', value[3:500, 0, 0, 23], value[3:500, 1, 0, 23], 'bs')"
   ]
  },
  {
   "cell_type": "code",
   "execution_count": 19,
   "metadata": {},
   "outputs": [],
   "source": [
    "# Start solution for T-3 line by line\n",
    "period = 21\n",
    "choice = 1"
   ]
  },
  {
   "cell_type": "code",
   "execution_count": 20,
   "metadata": {},
   "outputs": [],
   "source": [
    "# M_{t+1}\n",
    "wk1 = budget(period, savingsgrid, quadstnorm*sigma, choice)\n",
    "wk1[wk1 < cfloor] = cfloor"
   ]
  },
  {
   "cell_type": "code",
   "execution_count": 23,
   "metadata": {},
   "outputs": [
    {
     "data": {
      "text/plain": [
       "[0, 60, 0, 80]"
      ]
     },
     "execution_count": 23,
     "metadata": {},
     "output_type": "execute_result"
    },
    {
     "data": {
      "image/png": "[encoded data removed]",
      "text/plain": [
       "<Figure size 432x288 with 1 Axes>"
      ]
     },
     "metadata": {
      "needs_background": "light"
     },
     "output_type": "display_data"
    }
   ],
   "source": [
    "# Liniar assets M_{t+1}, same in every period\n",
    "plt.plot(savingsgrid, wk1[1, :], 'bs')\n",
    "plt.axis([0, 60, 0, 80])"
   ]
  },
  {
   "cell_type": "code",
   "execution_count": 24,
   "metadata": {},
   "outputs": [],
   "source": [
    "# Value function\n",
    "vl1 = np.full((2, ngridm * expn), np.nan)\n",
    "\n",
    "if period + 1 == Tbar - 1:\n",
    "    vl1[0, :] = util(wk1, 0).flatten('F')\n",
    "    vl1[1, :] = util(wk1, 1).flatten('F')\n",
    "else:\n",
    "    vl1[1, :] = value_function(1, period + 1, wk1) # value function in t+1 if choice in t+1 is work\n",
    "    vl1[0, :] = value_function(0, period + 1, wk1) # value function in t+1 if choice in t+1 is retiree"
   ]
  },
  {
   "cell_type": "code",
   "execution_count": 25,
   "metadata": {},
   "outputs": [],
   "source": [
    "wk1_flat = wk1.flatten('F')"
   ]
  },
  {
   "cell_type": "code",
   "execution_count": 27,
   "metadata": {},
   "outputs": [
    {
     "data": {
      "text/plain": [
       "[<matplotlib.lines.Line2D at 0x1a17f95d30>,\n",
       " <matplotlib.lines.Line2D at 0x1a17f95e48>]"
      ]
     },
     "execution_count": 27,
     "metadata": {},
     "output_type": "execute_result"
    },
    {
     "data": {
      "image/png": "[encoded data removed]",
      "text/plain": [
       "<Figure size 432x288 with 1 Axes>"
      ]
     },
     "metadata": {
      "needs_background": "light"
     },
     "output_type": "display_data"
    }
   ],
   "source": [
    "# Intersection of value functions for t+1 at M_{t+1} bar\n",
    "# Choose work below (to the left) and retirement above (to the right).\n",
    "plt.plot(wk1_flat, vl1[1, :], 'ro', wk1_flat, vl1[0, :], 'bs')"
   ]
  },
  {
   "cell_type": "code",
   "execution_count": 28,
   "metadata": {},
   "outputs": [],
   "source": [
    "# Probability of choosing work in t+1\n",
    "if choice == 0:\n",
    "    # Probability of choosing work in t+1\n",
    "    pr1 = np.full(2500, 0.00)\n",
    "else:\n",
    "    pr1 = chpr(vl1)"
   ]
  },
  {
   "cell_type": "code",
   "execution_count": 30,
   "metadata": {},
   "outputs": [
    {
     "data": {
      "text/plain": [
       "[<matplotlib.lines.Line2D at 0x1a18141f28>]"
      ]
     },
     "execution_count": 30,
     "metadata": {},
     "output_type": "execute_result"
    },
    {
     "data": {
      "image/png": "[encoded data removed]",
      "text/plain": [
       "<Figure size 432x288 with 1 Axes>"
      ]
     },
     "metadata": {
      "needs_background": "light"
     },
     "output_type": "display_data"
    }
   ],
   "source": [
    "plt.plot(wk1_flat, pr1, 'ro')\n",
    "# Probability swotch from 1 to zero at index 129, 130 of M_{t+1}\n",
    "# M_{t+1} bar leis between these points"
   ]
  },
  {
   "cell_type": "code",
   "execution_count": 31,
   "metadata": {},
   "outputs": [
    {
     "name": "stdout",
     "output_type": "stream",
     "text": [
      "[2.14023746 2.14300772] [2.13866126 2.14671571]\n"
     ]
    }
   ],
   "source": [
    "# Look at vl at these indexes\n",
    "print(vl1[1, 129:131], vl1[0, 129:131])"
   ]
  },
  {
   "cell_type": "code",
   "execution_count": 32,
   "metadata": {},
   "outputs": [
    {
     "data": {
      "text/plain": [
       "array([10.61234827, 10.71755869])"
      ]
     },
     "execution_count": 32,
     "metadata": {},
     "output_type": "execute_result"
    }
   ],
   "source": [
    "# Look at wk1 at this point\n",
    "wk1_flat[129:131]"
   ]
  },
  {
   "cell_type": "code",
   "execution_count": 33,
   "metadata": {},
   "outputs": [],
   "source": [
    "# Next period consumption based on interpolation and extrapolation\n",
    "# given grid points and associated consumption\n",
    "cons10 = np.interp(wk1, policy[:, 0, 0, period + 1], policy[:, 1, 0, period+1])\n",
    "# extrapolate linearly right of max grid point\n",
    "slope = (policy[-2, 1, 0, period + 1] - policy[-1, 1, 0, period + 1])/(policy[-2, 0, 0, period + 1] - policy[-1, 0, 0, period + 1])\n",
    "intercept = policy[-1, 1, 0, period + 1] - policy[-1, 0, 0, period + 1]*slope\n",
    "cons10[cons10 == np.max(policy[:, 1, 0, period+1])] = intercept + slope*wk1[cons10 == np.max(policy[:, 1, 0, period+1])]\n",
    "cons10_flat = cons10.flatten('F')\n",
    "\n",
    "cons11 = np.interp(wk1, policy[:, 0, 1, period + 1], policy[:, 1, 1, period+1])\n",
    "# extrapolate linearly right of max grid point\n",
    "slope = (policy[-2, 1, 1, period + 1] - policy[-1, 1, 1, period + 1])/(policy[-2, 0, 1, period + 1] - policy[-1, 0, 1, period + 1])\n",
    "intercept = policy[-1, 1, 1, period + 1] - policy[-1, 0, 1, period + 1]*slope\n",
    "cons11[cons11 == np.max(policy[:, 1, 1, period+1])] = intercept + slope*wk1[cons11 == np.max(policy[:, 1, 1, period+1])]\n",
    "cons11_flat = cons11.flatten('F')"
   ]
  },
  {
   "cell_type": "code",
   "execution_count": 35,
   "metadata": {},
   "outputs": [
    {
     "data": {
      "text/plain": [
       "[<matplotlib.lines.Line2D at 0x1a17ca5ba8>,\n",
       " <matplotlib.lines.Line2D at 0x1a17ca5160>]"
      ]
     },
     "execution_count": 35,
     "metadata": {},
     "output_type": "execute_result"
    },
    {
     "data": {
      "image/png": "[encoded data removed]",
      "text/plain": [
       "<Figure size 432x288 with 1 Axes>"
      ]
     },
     "metadata": {
      "needs_background": "light"
     },
     "output_type": "display_data"
    }
   ],
   "source": [
    "plt.plot(wk1_flat, cons11_flat, 'ro', wk1_flat, cons10_flat, 'bs')\n",
    "# Consumption for choise work uniformly above consumption induced by choice retirement"
   ]
  },
  {
   "cell_type": "code",
   "execution_count": 36,
   "metadata": {},
   "outputs": [],
   "source": [
    "# Marginal utility of expected consumption next period\n",
    "mu1 = pr1*mutil(cons11_flat) + (1 - pr1)*mutil(cons10_flat)"
   ]
  },
  {
   "cell_type": "code",
   "execution_count": 37,
   "metadata": {},
   "outputs": [
    {
     "data": {
      "text/plain": [
       "[<matplotlib.lines.Line2D at 0x1a181dba20>]"
      ]
     },
     "execution_count": 37,
     "metadata": {},
     "output_type": "execute_result"
    },
    {
     "data": {
      "image/png": "[encoded data removed]",
      "text/plain": [
       "<Figure size 432x288 with 1 Axes>"
      ]
     },
     "metadata": {
      "needs_background": "light"
     },
     "output_type": "display_data"
    }
   ],
   "source": [
    "plt.plot(wk1_flat, mu1, 'ro')"
   ]
  },
  {
   "cell_type": "code",
   "execution_count": 38,
   "metadata": {},
   "outputs": [
    {
     "data": {
      "text/plain": [
       "array([0.02646658, 0.07585792])"
      ]
     },
     "execution_count": 38,
     "metadata": {},
     "output_type": "execute_result"
    }
   ],
   "source": [
    "# Discontinuity at same index points\n",
    "mu1[129:131]"
   ]
  },
  {
   "cell_type": "code",
   "execution_count": 39,
   "metadata": {},
   "outputs": [],
   "source": [
    "# Marginal budget\n",
    "# Note: Constant for this model formulation (1+r)\n",
    "mwk1 = mbudget()\n",
    "\n",
    "# RHS of Euler eq., p 337, integrate out error of y\n",
    "rhs = np.dot(quadw.T, np.multiply(mu1.reshape(wk1.shape, order = 'F'), mwk1))"
   ]
  },
  {
   "cell_type": "code",
   "execution_count": 40,
   "metadata": {},
   "outputs": [
    {
     "data": {
      "text/plain": [
       "[<matplotlib.lines.Line2D at 0x1a180a1dd8>]"
      ]
     },
     "execution_count": 40,
     "metadata": {},
     "output_type": "execute_result"
    },
    {
     "data": {
      "image/png": "[encoded data removed]",
      "text/plain": [
       "<Figure size 432x288 with 1 Axes>"
      ]
     },
     "metadata": {
      "needs_background": "light"
     },
     "output_type": "display_data"
    }
   ],
   "source": [
    "plt.plot(savingsgrid, rhs, 'ro')"
   ]
  },
  {
   "cell_type": "code",
   "execution_count": 41,
   "metadata": {},
   "outputs": [
    {
     "data": {
      "text/plain": [
       "array([0.02778991, 0.07965082])"
      ]
     },
     "execution_count": 41,
     "metadata": {},
     "output_type": "execute_result"
    }
   ],
   "source": [
    "# Discontinuity at wk1 values times (1+r)\n",
    "rhs[25:27]"
   ]
  },
  {
   "cell_type": "code",
   "execution_count": 42,
   "metadata": {},
   "outputs": [],
   "source": [
    "# Current period consumption from Euler equation\n",
    "cons0 = imutil(df*rhs)"
   ]
  },
  {
   "cell_type": "code",
   "execution_count": 61,
   "metadata": {},
   "outputs": [
    {
     "data": {
      "text/plain": [
       "[<matplotlib.lines.Line2D at 0x1a18b50898>]"
      ]
     },
     "execution_count": 61,
     "metadata": {},
     "output_type": "execute_result"
    },
    {
     "data": {
      "image/png": "[encoded data removed]",
      "text/plain": [
       "<Figure size 432x288 with 1 Axes>"
      ]
     },
     "metadata": {
      "needs_background": "light"
     },
     "output_type": "display_data"
    }
   ],
   "source": [
    "plt.plot(savingsgrid[0:50], cons0[0:50], 'ro')\n",
    "# Parallel drop in consumption at the switching point from choice work to choice retire."
   ]
  },
  {
   "cell_type": "code",
   "execution_count": 44,
   "metadata": {},
   "outputs": [
    {
     "data": {
      "text/plain": [
       "array([6.44807942, 3.757647  ])"
      ]
     },
     "execution_count": 44,
     "metadata": {},
     "output_type": "execute_result"
    }
   ],
   "source": [
    "# Consumption drops at same index point\n",
    "cons0[25:27]"
   ]
  },
  {
   "cell_type": "code",
   "execution_count": 45,
   "metadata": {},
   "outputs": [],
   "source": [
    "policy[1:, 1, choice, period] = cons0\n",
    "policy[1:, 0, choice, period] = savingsgrid + cons0"
   ]
  },
  {
   "cell_type": "code",
   "execution_count": 46,
   "metadata": {},
   "outputs": [],
   "source": [
    "new_x = savingsgrid + cons0"
   ]
  },
  {
   "cell_type": "code",
   "execution_count": 47,
   "metadata": {},
   "outputs": [
    {
     "data": {
      "text/plain": [
       "[<matplotlib.lines.Line2D at 0x1a182624e0>]"
      ]
     },
     "execution_count": 47,
     "metadata": {},
     "output_type": "execute_result"
    },
    {
     "data": {
      "image/png": "[encoded data removed]",
      "text/plain": [
       "<Figure size 432x288 with 1 Axes>"
      ]
     },
     "metadata": {
      "needs_background": "light"
     },
     "output_type": "display_data"
    }
   ],
   "source": [
    "# Graph as in Figure 1, panel (b), paper p. 329\n",
    "# Note: M_t is the sum of savings and current period consumption.\n",
    "# Savingsgrid id monotonically (and also linearly) increasing on the range 0-500,\n",
    "# Consumption is discontinuous at the switching point from choice work to retire - it drops!\n",
    "# Since consumption drops, also M_t drops, and as M_t is on the x axis, the drop is equivalent to a lefward shift.\n",
    "# This is how we, mechanically end up with a region of M_t, where there are two solutions for consumption,\n",
    "# which contradicts theorem 2 in the paper.\n",
    "plt.plot(new_x[0:70], cons0[0:70], 'ro')"
   ]
  },
  {
   "cell_type": "code",
   "execution_count": 48,
   "metadata": {},
   "outputs": [
    {
     "data": {
      "text/plain": [
       "array([6.89677138, 7.03385925, 7.17094712, 7.308035  , 7.44512287,\n",
       "       7.58221074, 7.71929861, 7.85638648, 7.99347435, 8.13056222,\n",
       "       8.26765009, 8.40473796, 8.54182583, 8.6789137 , 8.81600157,\n",
       "       8.95308944, 6.36285742, 6.49994529, 6.63703316, 6.77412103])"
      ]
     },
     "execution_count": 48,
     "metadata": {},
     "output_type": "execute_result"
    }
   ],
   "source": [
    "new_x[10:30]"
   ]
  },
  {
   "cell_type": "code",
   "execution_count": 49,
   "metadata": {},
   "outputs": [
    {
     "data": {
      "text/plain": [
       "array([2.50501002, 2.60521042])"
      ]
     },
     "execution_count": 49,
     "metadata": {},
     "output_type": "execute_result"
    }
   ],
   "source": [
    "savingsgrid[25:27]"
   ]
  },
  {
   "cell_type": "code",
   "execution_count": 50,
   "metadata": {},
   "outputs": [],
   "source": [
    "if choice == 1:\n",
    "    # Calculate continuation value\n",
    "    ev = np.dot(quadw.T, logsum(vl1).reshape(wk1.shape, order = 'F'))\n",
    "else:\n",
    "    ev = np.dot(quadw.T, vl1[0, :].reshape(wk1.shape, order = 'F'))"
   ]
  },
  {
   "cell_type": "code",
   "execution_count": 51,
   "metadata": {},
   "outputs": [
    {
     "data": {
      "text/plain": [
       "[<matplotlib.lines.Line2D at 0x1a184aabe0>]"
      ]
     },
     "execution_count": 51,
     "metadata": {},
     "output_type": "execute_result"
    },
    {
     "data": {
      "image/png": "[encoded data removed]",
      "text/plain": [
       "<Figure size 432x288 with 1 Axes>"
      ]
     },
     "metadata": {
      "needs_background": "light"
     },
     "output_type": "display_data"
    }
   ],
   "source": [
    "plt.plot(savingsgrid, ev, 'ro')"
   ]
  },
  {
   "cell_type": "code",
   "execution_count": 52,
   "metadata": {},
   "outputs": [],
   "source": [
    "util_t = util(cons0, choice)"
   ]
  },
  {
   "cell_type": "code",
   "execution_count": 53,
   "metadata": {},
   "outputs": [
    {
     "data": {
      "text/plain": [
       "[<matplotlib.lines.Line2D at 0x1a185a39b0>]"
      ]
     },
     "execution_count": 53,
     "metadata": {},
     "output_type": "execute_result"
    },
    {
     "data": {
      "image/png": "[encoded data removed]",
      "text/plain": [
       "<Figure size 432x288 with 1 Axes>"
      ]
     },
     "metadata": {
      "needs_background": "light"
     },
     "output_type": "display_data"
    }
   ],
   "source": [
    "plt.plot(savingsgrid, util_t, 'ro')"
   ]
  },
  {
   "cell_type": "code",
   "execution_count": 62,
   "metadata": {
    "scrolled": false
   },
   "outputs": [
    {
     "data": {
      "text/plain": [
       "[<matplotlib.lines.Line2D at 0x1a18cc3358>,\n",
       " <matplotlib.lines.Line2D at 0x1a18cc3470>]"
      ]
     },
     "execution_count": 62,
     "metadata": {},
     "output_type": "execute_result"
    },
    {
     "data": {
      "image/png": "[encoded data removed]",
      "text/plain": [
       "<Figure size 432x288 with 1 Axes>"
      ]
     },
     "metadata": {
      "needs_background": "light"
     },
     "output_type": "display_data"
    }
   ],
   "source": [
    "plt.plot(value[40:80, 0, 1, 22], value[40:80, 1, 1, 22], 'ro', value[40:80, 0, 0, 22], value[40:80, 1, 0, 22], 'bs')\n",
    "# Value functions cross. EGM algorithm is not able to switch from one to the other value function at the crossing point.\n",
    "# Why?\n",
    "# Because, mechanically, the M_{t+1} grid we produced at the very beginning retraces the entire surface\n",
    "# of V_{t+1}, which are not! globally concave. In the non-concave region there are 2 solutions for consumption\n",
    "# and EGM depicts both. This can be corrected for by removing the unnecesary points as identified by\n",
    "# the intersection of the choice specific V_t."
   ]
  },
  {
   "cell_type": "code",
   "execution_count": 54,
   "metadata": {},
   "outputs": [],
   "source": [
    "value[1:, 1, choice, period] = util(cons0, choice) + df*ev\n",
    "value[1:, 0, choice, period] = savingsgrid + cons0\n",
    "value[0, 1, choice, period] = ev[0]"
   ]
  },
  {
   "cell_type": "code",
   "execution_count": 55,
   "metadata": {},
   "outputs": [
    {
     "data": {
      "text/plain": [
       "[<matplotlib.lines.Line2D at 0x1a18667160>]"
      ]
     },
     "execution_count": 55,
     "metadata": {},
     "output_type": "execute_result"
    },
    {
     "data": {
      "image/png": "[encoded data removed]",
      "text/plain": [
       "<Figure size 432x288 with 1 Axes>"
      ]
     },
     "metadata": {
      "needs_background": "light"
     },
     "output_type": "display_data"
    }
   ],
   "source": [
    "# Points to remove\n",
    "plt.plot(value[14:35, 0, choice, period], value[14:35, 1, choice, period], 'ro')"
   ]
  },
  {
   "cell_type": "code",
   "execution_count": 63,
   "metadata": {},
   "outputs": [
    {
     "data": {
      "text/plain": [
       "[<matplotlib.lines.Line2D at 0x1a18d3bac8>]"
      ]
     },
     "execution_count": 63,
     "metadata": {},
     "output_type": "execute_result"
    },
    {
     "data": {
      "image/png": "[encoded data removed]",
      "text/plain": [
       "<Figure size 432x288 with 1 Axes>"
      ]
     },
     "metadata": {
      "needs_background": "light"
     },
     "output_type": "display_data"
    }
   ],
   "source": [
    "# Points to remove\n",
    "plt.plot(np.arange(21), cons0[14:35], 'ro')"
   ]
  },
  {
   "cell_type": "code",
   "execution_count": 57,
   "metadata": {},
   "outputs": [
    {
     "data": {
      "text/plain": [
       "[<matplotlib.lines.Line2D at 0x1a186c7908>]"
      ]
     },
     "execution_count": 57,
     "metadata": {},
     "output_type": "execute_result"
    },
    {
     "data": {
      "image/png": "[encoded data removed]",
      "text/plain": [
       "<Figure size 432x288 with 1 Axes>"
      ]
     },
     "metadata": {
      "needs_background": "light"
     },
     "output_type": "display_data"
    }
   ],
   "source": [
    "plt.plot(np.arange(21), savingsgrid[14:35], 'ro')"
   ]
  },
  {
   "cell_type": "code",
   "execution_count": 58,
   "metadata": {},
   "outputs": [
    {
     "data": {
      "text/plain": [
       "[<matplotlib.lines.Line2D at 0x1a1891ada0>]"
      ]
     },
     "execution_count": 58,
     "metadata": {},
     "output_type": "execute_result"
    },
    {
     "data": {
      "image/png": "[encoded data removed]",
      "text/plain": [
       "<Figure size 432x288 with 1 Axes>"
      ]
     },
     "metadata": {
      "needs_background": "light"
     },
     "output_type": "display_data"
    }
   ],
   "source": [
    "plt.plot(savingsgrid[0:50], value[1:51, 1, choice, period], 'ro')"
   ]
  },
  {
   "cell_type": "markdown",
   "metadata": {},
   "source": [
    "Solve retiree\n",
    "============="
   ]
  },
  {
   "cell_type": "markdown",
   "metadata": {},
   "source": [
    "Solution of the retirees problem.\n",
    "\n",
    "Backward induction does not depend on the value function here since because no choice is made. Retirement is an absorbing state.\n",
    "\n",
    "Questions:\n",
    "\n",
    "Why does the Gaussian quadrature enter the retirees problem? There is no income involved, quadrature is there to integrate out the shocks/errors in the income process, there are none here??"
   ]
  },
  {
   "cell_type": "code",
   "execution_count": null,
   "metadata": {},
   "outputs": [],
   "source": [
    "# Initialize grids\n",
    "quadp, quadw = quadrature(expn,0,1)\n",
    "quadstnorm = scps.norm.ppf(quadp)\n",
    "savingsgrid = np.linspace(0, mmax, ngridm)"
   ]
  },
  {
   "cell_type": "code",
   "execution_count": null,
   "metadata": {},
   "outputs": [],
   "source": [
    "# Initialize containers\n",
    "\n",
    "# Container for endogenous gridpoints of (beginning-of-period) assets\n",
    "# and corresponding consumption\n",
    "policy = np.full((ngridm + 1, 2, Tbar), np.nan) # dim 0 are x = endog. grid, y are assoc cons values\n"
   ]
  },
  {
   "cell_type": "code",
   "execution_count": null,
   "metadata": {
    "scrolled": true
   },
   "outputs": [],
   "source": [
    "# Handling of last period\n",
    "policy[1:, 0, Tbar-1] = savingsgrid\n",
    "policy[1:, 1, Tbar-1] = policy[1:, 0, Tbar-1]"
   ]
  },
  {
   "cell_type": "code",
   "execution_count": null,
   "metadata": {},
   "outputs": [],
   "source": [
    "# Ensuring that policy starts with a zero both for x and y for all period\n",
    "policy[0, :, :] = 0.00"
   ]
  },
  {
   "cell_type": "code",
   "execution_count": null,
   "metadata": {},
   "outputs": [],
   "source": [
    "# Backward induction\n",
    "choice = 0\n",
    "\n",
    "for period in reversed(range(Tbar - 1)): # starts at 23, end at zero\n",
    "\n",
    "    # M_{t+1}\n",
    "    wk1 = budget(period, savingsgrid, quadstnorm*sigma, choice)\n",
    "\n",
    "    # Next period consumption based on interpolation and extrapolation\n",
    "    # given grid points and associated consumption\n",
    "    cons1 = np.interp(wk1, policy[:, 0, period + 1], policy[:, 1, period+1])\n",
    "    # extrapolate linearly right of max grid point\n",
    "    slope = (policy[-2, 1, period + 1] - policy[-1, 1, period + 1])/(policy[-2, 0, period + 1] - policy[-1, 0, period + 1])\n",
    "    intercept = policy[-1, 1, period + 1] - policy[-1, 0, period + 1]*slope\n",
    "    cons1[cons1 == np.max(policy[:, 1, period+1])] = intercept + slope*wk1[cons1 == np.max(policy[:, 1, period+1])]\n",
    "    # Consumption floor\n",
    "    cons1[cons1 < cfloor] = cfloor\n",
    "\n",
    "    # Marginal budget\n",
    "    # Note: Constant for this model formulation\n",
    "    mwk1 = mbudget()\n",
    "\n",
    "    # RHS of Euler, integrate out error of y\n",
    "    rhs = np.dot(quadw.T, np.multiply(mutil(cons1), mwk1))\n",
    "\n",
    "    ####################\n",
    "    #Current period vars\n",
    "    ####################\n",
    "\n",
    "    # Current period consumption from Euler equation\n",
    "    cons0 = imutil(df*rhs)\n",
    "\n",
    "    # Update containers related to consumption\n",
    "    policy[1:, 0, period] = savingsgrid + cons0 # save x, endog grid M_{t+1}\n",
    "    policy[1:, 1, period] = cons0 # save y, corresponding consumption\n"
   ]
  },
  {
   "cell_type": "markdown",
   "metadata": {},
   "source": [
    "Value function"
   ]
  },
  {
   "cell_type": "code",
   "execution_count": null,
   "metadata": {},
   "outputs": [],
   "source": [
    "# Value function objects\n",
    "value = np.full((ngridm + 1, 2, Tbar), np.nan) # same dimension meaning as above"
   ]
  },
  {
   "cell_type": "code",
   "execution_count": null,
   "metadata": {},
   "outputs": [],
   "source": [
    "# Handling of last period\n",
    "value[1:, 0, Tbar - 1] = savingsgrid\n",
    "value[0, 0, Tbar -1] = 0.00\n",
    "value[:, 1, Tbar - 1] = 0.00"
   ]
  },
  {
   "cell_type": "code",
   "execution_count": null,
   "metadata": {},
   "outputs": [],
   "source": [
    "for period in reversed(range(Tbar - 1)): # starts at 23, end at zero \n",
    "\n",
    "    vfres = np.full(wk1.shape, np.nan)\n",
    "\n",
    "    if period + 1 == Tbar - 1:\n",
    "        vfres[:, 1:] = util(wk1[:, 1:], choice)\n",
    "    else:\n",
    "        vfres = np.interp(wk1, value[:, 0, period + 1], value[:, 1, period+1])\n",
    "        slope = (value[-2, 1, period + 1] - value[-1, 1, period + 1])/(value[-2, 0, period + 1] - value[-1, 0, period + 1])\n",
    "        intercept = value[-1, 1, period + 1] - value[-1, 0, period + 1]*slope\n",
    "        vfres[vfres == np.max(value[:, 1, period+1])] = intercept + slope*wk1[vfres == np.max(value[:, 1, period+1])]\n",
    "\n",
    "    # Calculation of EV\n",
    "\n",
    "    if period + 1 == Tbar - 1:\n",
    "        ev = np.full(500, -99.00)\n",
    "        ev[1:] = np.dot(quadw.T, vfres[:, 1:])\n",
    "    else:\n",
    "        ev = np.dot(quadw.T, vfres)\n",
    "\n",
    "    # Calculation of value\n",
    "    vf_value = util(policy[1:, 1, period], choice) + df*ev\n",
    "\n",
    "    # Determine value\n",
    "\n",
    "    value[1:, 0, period] = policy[1:, 0, period]\n",
    "    value[1:, 1, period] = vf_value\n",
    "    value[0:(Tbar - period), 1, period] = -99.00"
   ]
  }
 ],
 "metadata": {
  "kernelspec": {
   "display_name": "Python 3",
   "language": "python",
   "name": "python3"
  },
  "language_info": {
   "codemirror_mode": {
    "name": "ipython",
    "version": 3
   },
   "file_extension": ".py",
   "mimetype": "text/x-python",
   "name": "python",
   "nbconvert_exporter": "python",
   "pygments_lexer": "ipython3",
   "version": "3.7.3"
  }
 },
 "nbformat": 4,
 "nbformat_minor": 2
}
