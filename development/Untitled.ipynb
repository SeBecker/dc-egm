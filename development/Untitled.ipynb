{
 "cells": [
  {
   "cell_type": "code",
   "execution_count": null,
   "metadata": {},
   "outputs": [],
   "source": [
    "function [res1 res2]=chop(obj,j,repeat)\n",
    "    %separate the grid into 1,..,j and j+1,.. parts\n",
    "    %if repeat=true, the boundary points are repeated in both resulting polylines\n",
    "    if nargin<2\n",
    "        error 'Have to have one input for .chop'\n",
    "    end\n",
    "    %chop each polyline if there are many\n",
    "    for k=1:numel(obj)\n",
    "        if j>obj(k).len\n",
    "            warning 'Producing empty polyline by chopping at index j>len'\n",
    "            j=obj(k).len;\n",
    "        end\n",
    "        res1(k)=polyline(obj(k).x(1:j),obj(k).y(1:j), ...\n",
    "                sprintf('%s (1:%d)',obj(k).label,j));\n",
    "        if nargout>1\n",
    "            if exist('repeat') && repeat\n",
    "                res2(k)=polyline(obj(k).x(j:end),obj(k).y(j:end), ...\n",
    "                        sprintf('%s (%d:%d)',obj(k).label,j,obj(k).len));\n",
    "            else\n",
    "                res2(k)=polyline(obj(k).x(j+1:end),obj(k).y(j+1:end), ...\n",
    "                    sprintf('%s (%d:%d)',obj(k).label,j+1,obj(k).len));\n",
    "            end\n",
    "        end\n",
    "        end\n",
    "        res1=reshape(res1,size(obj)); %return same shape\n",
    "        if nargout>1\n",
    "            res2=reshape(res2,size(obj)); %return same shape\n",
    "        end\n",
    "    end"
   ]
  },
  {
   "cell_type": "code",
   "execution_count": null,
   "metadata": {},
   "outputs": [],
   "source": [
    "disp('hello from MATLAB')"
   ]
  },
  {
   "cell_type": "code",
   "execution_count": null,
   "metadata": {},
   "outputs": [],
   "source": [
    ""
   ]
  }
 ],
 "metadata": {
  "kernelspec": {
   "display_name": "Matlab",
   "language": "matlab",
   "name": "matlab"
  },
  "language_info": {
   "codemirror_mode": "octave",
   "file_extension": ".m",
   "help_links": [
    {
     "text": "MetaKernel Magics",
     "url": "https://metakernel.readthedocs.io/en/latest/source/README.html"
    }
   ],
   "mimetype": "text/x-octave",
   "name": "matlab",
   "version": "0.16.7"
  }
 },
 "nbformat": 4,
 "nbformat_minor": 0
}